{
  "cells": [
    {
      "cell_type": "code",
      "execution_count": 1,
      "metadata": {},
      "outputs": [
        {
          "name": "stdout",
          "output_type": "stream",
          "text": [
            "✅ Project root: /home/shamaseen/Desktop/Projects/personal/Langchain/tutorial/whatsapp_hr_assistant\n",
            "✅ Current directory: /home/shamaseen/Desktop/Projects/personal/Langchain/tutorial/whatsapp_hr_assistant\n"
          ]
        }
      ],
      "source": [
        "import sys\n",
        "import os\n",
        "\n",
        "# Add project root to path\n",
        "project_root = os.path.abspath('../..')\n",
        "if project_root not in sys.path:\n",
        "    sys.path.insert(0, project_root)\n",
        "os.chdir(project_root)\n",
        "\n",
        "print(f\"✅ Project root: {project_root}\")\n",
        "print(f\"✅ Current directory: {os.getcwd()}\")"
      ]
    },
    {
      "cell_type": "markdown",
      "metadata": {},
      "source": [
        "# ✅ Notebook updated for new repository structure\n",
        "\n",
        "<!-- UPDATED_FOR_NEW_REPO_STRUCTURE -->\n",
        "- Tools config: `config/tools.yaml`\n",
        "- MCP servers: `config/mcp_servers/*.json`\n",
        "- Tool loader entrypoint: `from src.tools import ToolLoader`\n"
      ]
    },
    {
      "cell_type": "code",
      "execution_count": 2,
      "metadata": {},
      "outputs": [
        {
          "name": "stdout",
          "output_type": "stream",
          "text": [
            "✅ Loaded saved OAuth token\n",
            "✅ Google Services initialized with OAuth 2.0\n",
            "🔐 No valid token found. Starting OAuth2 flow...\n",
            "\n",
            "================================================================================\n",
            "🌐 Opening browser for Webex authorization...\n",
            "================================================================================\n",
            "If browser doesn't open, visit: https://webexapis.com/v1/authorize?client_id=C5f66d2d2e775de810144b869fe4ee94c531afe5e4866a76794917792679cae85&response_type=code&redirect_uri=http%3A//localhost%3A8000/oauth/webex/callback&scope=spark%3Aall\n",
            "================================================================================\n",
            "\n",
            "⏳ Waiting for authorization...\n"
          ]
        },
        {
          "name": "stderr",
          "output_type": "stream",
          "text": [
            "----------------------------------------\n",
            "Exception occurred during processing of request from ('127.0.0.1', 59162)\n",
            "Traceback (most recent call last):\n",
            "  File \"/home/shamaseen/anaconda3/envs/phone/lib/python3.10/socketserver.py\", line 316, in _handle_request_noblock\n",
            "    self.process_request(request, client_address)\n",
            "  File \"/home/shamaseen/anaconda3/envs/phone/lib/python3.10/socketserver.py\", line 347, in process_request\n",
            "    self.finish_request(request, client_address)\n",
            "  File \"/home/shamaseen/anaconda3/envs/phone/lib/python3.10/socketserver.py\", line 360, in finish_request\n",
            "    self.RequestHandlerClass(request, client_address, self)\n",
            "  File \"/home/shamaseen/anaconda3/envs/phone/lib/python3.10/socketserver.py\", line 747, in __init__\n",
            "    self.handle()\n",
            "  File \"/home/shamaseen/anaconda3/envs/phone/lib/python3.10/http/server.py\", line 432, in handle\n",
            "    self.handle_one_request()\n",
            "  File \"/home/shamaseen/anaconda3/envs/phone/lib/python3.10/http/server.py\", line 420, in handle_one_request\n",
            "    method()\n",
            "  File \"/home/shamaseen/Desktop/Projects/personal/Langchain/tutorial/whatsapp_hr_assistant/src/integrations/webex_sdk.py\", line 36, in do_GET\n",
            "    self.wfile.write(f\"\"\"\n",
            "  File \"/home/shamaseen/anaconda3/envs/phone/lib/python3.10/socketserver.py\", line 826, in write\n",
            "    self._sock.sendall(b)\n",
            "TypeError: a bytes-like object is required, not 'str'\n",
            "----------------------------------------\n"
          ]
        },
        {
          "name": "stdout",
          "output_type": "stream",
          "text": [
            "✓ Authorization code received!\n",
            "💾 Token saved to: .webex_token.json\n",
            "✅ Successfully authenticated with Webex!\n",
            "✓ Using OAuth2 authentication (supports token refresh)\n",
            "Loaded 8 tools: ['gmail', 'calendar', 'cv_sheet_manager', 'process_cvs', 'search_candidates', 'search_create_sheet', 'datetime', 'webex']\n"
          ]
        }
      ],
      "source": [
        "# VERIFY_TOOLLOADER_AND_IMPORTS\n",
        "from src.tools import ToolLoader\n",
        "from src.mcp_integration.protocol import MCPTool\n",
        "\n",
        "loader = ToolLoader()\n",
        "tools = loader.get_tools()\n",
        "print(f'Loaded {len(tools)} tools: {[t.name for t in tools]}')\n"
      ]
    },
    {
      "cell_type": "code",
      "execution_count": 9,
      "metadata": {},
      "outputs": [
        {
          "ename": "TypeError",
          "evalue": "MCPTool.to_langchain_tool.<locals>.tool_wrapper() takes 0 positional arguments but 1 was given",
          "output_type": "error",
          "traceback": [
            "\u001b[0;31m---------------------------------------------------------------------------\u001b[0m",
            "\u001b[0;31mTypeError\u001b[0m                                 Traceback (most recent call last)",
            "Cell \u001b[0;32mIn[9], line 1\u001b[0m\n\u001b[0;32m----> 1\u001b[0m \u001b[43mtools\u001b[49m\u001b[43m[\u001b[49m\u001b[38;5;241;43m-\u001b[39;49m\u001b[38;5;241;43m1\u001b[39;49m\u001b[43m]\u001b[49m\u001b[38;5;241;43m.\u001b[39;49m\u001b[43minvoke\u001b[49m\u001b[43m(\u001b[49m\u001b[38;5;124;43m'\u001b[39;49m\u001b[38;5;124;43m'\u001b[39;49m\u001b[43m)\u001b[49m\n",
            "File \u001b[0;32m~/anaconda3/envs/phone/lib/python3.10/site-packages/langchain_core/tools/base.py:607\u001b[0m, in \u001b[0;36mBaseTool.invoke\u001b[0;34m(self, input, config, **kwargs)\u001b[0m\n\u001b[1;32m    599\u001b[0m \u001b[38;5;129m@override\u001b[39m\n\u001b[1;32m    600\u001b[0m \u001b[38;5;28;01mdef\u001b[39;00m \u001b[38;5;21minvoke\u001b[39m(\n\u001b[1;32m    601\u001b[0m     \u001b[38;5;28mself\u001b[39m,\n\u001b[0;32m   (...)\u001b[0m\n\u001b[1;32m    604\u001b[0m     \u001b[38;5;241m*\u001b[39m\u001b[38;5;241m*\u001b[39mkwargs: Any,\n\u001b[1;32m    605\u001b[0m ) \u001b[38;5;241m-\u001b[39m\u001b[38;5;241m>\u001b[39m Any:\n\u001b[1;32m    606\u001b[0m     tool_input, kwargs \u001b[38;5;241m=\u001b[39m _prep_run_args(\u001b[38;5;28minput\u001b[39m, config, \u001b[38;5;241m*\u001b[39m\u001b[38;5;241m*\u001b[39mkwargs)\n\u001b[0;32m--> 607\u001b[0m     \u001b[38;5;28;01mreturn\u001b[39;00m \u001b[38;5;28;43mself\u001b[39;49m\u001b[38;5;241;43m.\u001b[39;49m\u001b[43mrun\u001b[49m\u001b[43m(\u001b[49m\u001b[43mtool_input\u001b[49m\u001b[43m,\u001b[49m\u001b[43m \u001b[49m\u001b[38;5;241;43m*\u001b[39;49m\u001b[38;5;241;43m*\u001b[39;49m\u001b[43mkwargs\u001b[49m\u001b[43m)\u001b[49m\n",
            "File \u001b[0;32m~/anaconda3/envs/phone/lib/python3.10/site-packages/langchain_core/tools/base.py:892\u001b[0m, in \u001b[0;36mBaseTool.run\u001b[0;34m(self, tool_input, verbose, start_color, color, callbacks, tags, metadata, run_name, run_id, config, tool_call_id, **kwargs)\u001b[0m\n\u001b[1;32m    890\u001b[0m \u001b[38;5;28;01mif\u001b[39;00m error_to_raise:\n\u001b[1;32m    891\u001b[0m     run_manager\u001b[38;5;241m.\u001b[39mon_tool_error(error_to_raise)\n\u001b[0;32m--> 892\u001b[0m     \u001b[38;5;28;01mraise\u001b[39;00m error_to_raise\n\u001b[1;32m    893\u001b[0m output \u001b[38;5;241m=\u001b[39m _format_output(content, artifact, tool_call_id, \u001b[38;5;28mself\u001b[39m\u001b[38;5;241m.\u001b[39mname, status)\n\u001b[1;32m    894\u001b[0m run_manager\u001b[38;5;241m.\u001b[39mon_tool_end(output, color\u001b[38;5;241m=\u001b[39mcolor, name\u001b[38;5;241m=\u001b[39m\u001b[38;5;28mself\u001b[39m\u001b[38;5;241m.\u001b[39mname, \u001b[38;5;241m*\u001b[39m\u001b[38;5;241m*\u001b[39mkwargs)\n",
            "File \u001b[0;32m~/anaconda3/envs/phone/lib/python3.10/site-packages/langchain_core/tools/base.py:861\u001b[0m, in \u001b[0;36mBaseTool.run\u001b[0;34m(self, tool_input, verbose, start_color, color, callbacks, tags, metadata, run_name, run_id, config, tool_call_id, **kwargs)\u001b[0m\n\u001b[1;32m    859\u001b[0m     \u001b[38;5;28;01mif\u001b[39;00m config_param \u001b[38;5;241m:=\u001b[39m _get_runnable_config_param(\u001b[38;5;28mself\u001b[39m\u001b[38;5;241m.\u001b[39m_run):\n\u001b[1;32m    860\u001b[0m         tool_kwargs \u001b[38;5;241m|\u001b[39m\u001b[38;5;241m=\u001b[39m {config_param: config}\n\u001b[0;32m--> 861\u001b[0m     response \u001b[38;5;241m=\u001b[39m \u001b[43mcontext\u001b[49m\u001b[38;5;241;43m.\u001b[39;49m\u001b[43mrun\u001b[49m\u001b[43m(\u001b[49m\u001b[38;5;28;43mself\u001b[39;49m\u001b[38;5;241;43m.\u001b[39;49m\u001b[43m_run\u001b[49m\u001b[43m,\u001b[49m\u001b[43m \u001b[49m\u001b[38;5;241;43m*\u001b[39;49m\u001b[43mtool_args\u001b[49m\u001b[43m,\u001b[49m\u001b[43m \u001b[49m\u001b[38;5;241;43m*\u001b[39;49m\u001b[38;5;241;43m*\u001b[39;49m\u001b[43mtool_kwargs\u001b[49m\u001b[43m)\u001b[49m\n\u001b[1;32m    862\u001b[0m \u001b[38;5;28;01mif\u001b[39;00m \u001b[38;5;28mself\u001b[39m\u001b[38;5;241m.\u001b[39mresponse_format \u001b[38;5;241m==\u001b[39m \u001b[38;5;124m\"\u001b[39m\u001b[38;5;124mcontent_and_artifact\u001b[39m\u001b[38;5;124m\"\u001b[39m:\n\u001b[1;32m    863\u001b[0m     \u001b[38;5;28;01mif\u001b[39;00m \u001b[38;5;129;01mnot\u001b[39;00m \u001b[38;5;28misinstance\u001b[39m(response, \u001b[38;5;28mtuple\u001b[39m) \u001b[38;5;129;01mor\u001b[39;00m \u001b[38;5;28mlen\u001b[39m(response) \u001b[38;5;241m!=\u001b[39m \u001b[38;5;241m2\u001b[39m:\n",
            "File \u001b[0;32m~/anaconda3/envs/phone/lib/python3.10/site-packages/langchain_core/tools/structured.py:103\u001b[0m, in \u001b[0;36mStructuredTool._run\u001b[0;34m(self, config, run_manager, *args, **kwargs)\u001b[0m\n\u001b[1;32m    101\u001b[0m     \u001b[38;5;28;01mif\u001b[39;00m config_param \u001b[38;5;241m:=\u001b[39m _get_runnable_config_param(\u001b[38;5;28mself\u001b[39m\u001b[38;5;241m.\u001b[39mfunc):\n\u001b[1;32m    102\u001b[0m         kwargs[config_param] \u001b[38;5;241m=\u001b[39m config\n\u001b[0;32m--> 103\u001b[0m     \u001b[38;5;28;01mreturn\u001b[39;00m \u001b[38;5;28;43mself\u001b[39;49m\u001b[38;5;241;43m.\u001b[39;49m\u001b[43mfunc\u001b[49m\u001b[43m(\u001b[49m\u001b[38;5;241;43m*\u001b[39;49m\u001b[43margs\u001b[49m\u001b[43m,\u001b[49m\u001b[43m \u001b[49m\u001b[38;5;241;43m*\u001b[39;49m\u001b[38;5;241;43m*\u001b[39;49m\u001b[43mkwargs\u001b[49m\u001b[43m)\u001b[49m\n\u001b[1;32m    104\u001b[0m msg \u001b[38;5;241m=\u001b[39m \u001b[38;5;124m\"\u001b[39m\u001b[38;5;124mStructuredTool does not support sync invocation.\u001b[39m\u001b[38;5;124m\"\u001b[39m\n\u001b[1;32m    105\u001b[0m \u001b[38;5;28;01mraise\u001b[39;00m \u001b[38;5;167;01mNotImplementedError\u001b[39;00m(msg)\n",
            "\u001b[0;31mTypeError\u001b[0m: MCPTool.to_langchain_tool.<locals>.tool_wrapper() takes 0 positional arguments but 1 was given"
          ]
        }
      ],
      "source": [
        "tools[-1].invoke('')"
      ]
    },
    {
      "cell_type": "code",
      "execution_count": 4,
      "metadata": {},
      "outputs": [
        {
          "name": "stdout",
          "output_type": "stream",
          "text": [
            "✓ Using OAuth2 authentication (supports token refresh)\n"
          ]
        },
        {
          "ename": "Exception",
          "evalue": "Webex API error listing meetings: [403] Forbidden - The server understood the request, but refused to fulfill it because the access token is missing required scopes or the user is missing required roles or licenses. [Tracking ID: ROUTERGW_c3223305-6e08-40ba-ad59-b3541439072b]",
          "output_type": "error",
          "traceback": [
            "\u001b[0;31m---------------------------------------------------------------------------\u001b[0m",
            "\u001b[0;31mApiError\u001b[0m                                  Traceback (most recent call last)",
            "File \u001b[0;32m~/Desktop/Projects/personal/Langchain/tutorial/whatsapp_hr_assistant/src/integrations/webex_sdk.py:400\u001b[0m, in \u001b[0;36mWebexClient.list_meetings\u001b[0;34m(self, from_date, to_date, max_meetings)\u001b[0m\n\u001b[1;32m    395\u001b[0m     meetings \u001b[38;5;241m=\u001b[39m \u001b[38;5;28mself\u001b[39m\u001b[38;5;241m.\u001b[39mapi\u001b[38;5;241m.\u001b[39mmeetings\u001b[38;5;241m.\u001b[39mlist(\n\u001b[1;32m    396\u001b[0m         from_\u001b[38;5;241m=\u001b[39mfrom_date,\n\u001b[1;32m    397\u001b[0m         to\u001b[38;5;241m=\u001b[39mto_date,\n\u001b[1;32m    398\u001b[0m         \u001b[38;5;28mmax\u001b[39m\u001b[38;5;241m=\u001b[39mmax_meetings\n\u001b[1;32m    399\u001b[0m     )\n\u001b[0;32m--> 400\u001b[0m     \u001b[38;5;28;01mreturn\u001b[39;00m [meeting\u001b[38;5;241m.\u001b[39mto_dict() \u001b[38;5;28;01mfor\u001b[39;00m meeting \u001b[38;5;129;01min\u001b[39;00m meetings]\n\u001b[1;32m    401\u001b[0m \u001b[38;5;28;01mexcept\u001b[39;00m ApiError \u001b[38;5;28;01mas\u001b[39;00m e:\n",
            "File \u001b[0;32m~/Desktop/Projects/personal/Langchain/tutorial/whatsapp_hr_assistant/src/integrations/webex_sdk.py:400\u001b[0m, in \u001b[0;36m<listcomp>\u001b[0;34m(.0)\u001b[0m\n\u001b[1;32m    395\u001b[0m     meetings \u001b[38;5;241m=\u001b[39m \u001b[38;5;28mself\u001b[39m\u001b[38;5;241m.\u001b[39mapi\u001b[38;5;241m.\u001b[39mmeetings\u001b[38;5;241m.\u001b[39mlist(\n\u001b[1;32m    396\u001b[0m         from_\u001b[38;5;241m=\u001b[39mfrom_date,\n\u001b[1;32m    397\u001b[0m         to\u001b[38;5;241m=\u001b[39mto_date,\n\u001b[1;32m    398\u001b[0m         \u001b[38;5;28mmax\u001b[39m\u001b[38;5;241m=\u001b[39mmax_meetings\n\u001b[1;32m    399\u001b[0m     )\n\u001b[0;32m--> 400\u001b[0m     \u001b[38;5;28;01mreturn\u001b[39;00m [meeting\u001b[38;5;241m.\u001b[39mto_dict() \u001b[38;5;28;01mfor\u001b[39;00m meeting \u001b[38;5;129;01min\u001b[39;00m meetings]\n\u001b[1;32m    401\u001b[0m \u001b[38;5;28;01mexcept\u001b[39;00m ApiError \u001b[38;5;28;01mas\u001b[39;00m e:\n",
            "File \u001b[0;32m~/anaconda3/envs/phone/lib/python3.10/site-packages/webexteamssdk/api/meetings.py:194\u001b[0m, in \u001b[0;36mMeetingsAPI.list\u001b[0;34m(self, meetingNumber, webLink, roomId, meetingType, state, scheduledType, participantEmail, current, from_, to, max, hostEmail, siteUrl, integrationTag, headers, **request_parameters)\u001b[0m\n\u001b[1;32m    193\u001b[0m \u001b[38;5;66;03m# Yield membership objects created from the returned items JSON objects\u001b[39;00m\n\u001b[0;32m--> 194\u001b[0m \u001b[38;5;28;01mfor\u001b[39;00m item \u001b[38;5;129;01min\u001b[39;00m items:\n\u001b[1;32m    195\u001b[0m     \u001b[38;5;28;01myield\u001b[39;00m \u001b[38;5;28mself\u001b[39m\u001b[38;5;241m.\u001b[39m_object_factory(OBJECT_TYPE, item)\n",
            "File \u001b[0;32m~/anaconda3/envs/phone/lib/python3.10/site-packages/webexteamssdk/restsession.py:482\u001b[0m, in \u001b[0;36mRestSession.get_items\u001b[0;34m(self, url, params, **kwargs)\u001b[0m\n\u001b[1;32m    480\u001b[0m pages \u001b[38;5;241m=\u001b[39m \u001b[38;5;28mself\u001b[39m\u001b[38;5;241m.\u001b[39mget_pages(url, params\u001b[38;5;241m=\u001b[39mparams, \u001b[38;5;241m*\u001b[39m\u001b[38;5;241m*\u001b[39mkwargs)\n\u001b[0;32m--> 482\u001b[0m \u001b[38;5;28;01mfor\u001b[39;00m json_page \u001b[38;5;129;01min\u001b[39;00m pages:\n\u001b[1;32m    483\u001b[0m     \u001b[38;5;28;01massert\u001b[39;00m \u001b[38;5;28misinstance\u001b[39m(json_page, \u001b[38;5;28mdict\u001b[39m)\n",
            "File \u001b[0;32m~/anaconda3/envs/phone/lib/python3.10/site-packages/webexteamssdk/restsession.py:435\u001b[0m, in \u001b[0;36mRestSession.get_pages\u001b[0;34m(self, url, params, **kwargs)\u001b[0m\n\u001b[1;32m    434\u001b[0m \u001b[38;5;66;03m# First request\u001b[39;00m\n\u001b[0;32m--> 435\u001b[0m response \u001b[38;5;241m=\u001b[39m \u001b[38;5;28;43mself\u001b[39;49m\u001b[38;5;241;43m.\u001b[39;49m\u001b[43mrequest\u001b[49m\u001b[43m(\u001b[49m\u001b[38;5;124;43m\"\u001b[39;49m\u001b[38;5;124;43mGET\u001b[39;49m\u001b[38;5;124;43m\"\u001b[39;49m\u001b[43m,\u001b[49m\u001b[43m \u001b[49m\u001b[43murl\u001b[49m\u001b[43m,\u001b[49m\u001b[43m \u001b[49m\u001b[43merc\u001b[49m\u001b[43m,\u001b[49m\u001b[43m \u001b[49m\u001b[43mparams\u001b[49m\u001b[38;5;241;43m=\u001b[39;49m\u001b[43mparams\u001b[49m\u001b[43m,\u001b[49m\u001b[43m \u001b[49m\u001b[38;5;241;43m*\u001b[39;49m\u001b[38;5;241;43m*\u001b[39;49m\u001b[43mkwargs\u001b[49m\u001b[43m)\u001b[49m\n\u001b[1;32m    437\u001b[0m \u001b[38;5;28;01mwhile\u001b[39;00m \u001b[38;5;28;01mTrue\u001b[39;00m:\n",
            "File \u001b[0;32m~/anaconda3/envs/phone/lib/python3.10/site-packages/webexteamssdk/restsession.py:373\u001b[0m, in \u001b[0;36mRestSession.request\u001b[0;34m(self, method, url, erc, **kwargs)\u001b[0m\n\u001b[1;32m    371\u001b[0m \u001b[38;5;28;01mtry\u001b[39;00m:\n\u001b[1;32m    372\u001b[0m     \u001b[38;5;66;03m# Check the response code for error conditions\u001b[39;00m\n\u001b[0;32m--> 373\u001b[0m     \u001b[43mcheck_response_code\u001b[49m\u001b[43m(\u001b[49m\u001b[43mresponse\u001b[49m\u001b[43m,\u001b[49m\u001b[43m \u001b[49m\u001b[43merc\u001b[49m\u001b[43m)\u001b[49m\n\u001b[1;32m    374\u001b[0m \u001b[38;5;28;01mexcept\u001b[39;00m RateLimitError \u001b[38;5;28;01mas\u001b[39;00m e:\n\u001b[1;32m    375\u001b[0m     \u001b[38;5;66;03m# Catch rate-limit errors\u001b[39;00m\n\u001b[1;32m    376\u001b[0m     \u001b[38;5;66;03m# Wait and retry if automatic rate-limit handling is enabled\u001b[39;00m\n",
            "File \u001b[0;32m~/anaconda3/envs/phone/lib/python3.10/site-packages/webexteamssdk/utils.py:222\u001b[0m, in \u001b[0;36mcheck_response_code\u001b[0;34m(response, expected_response_code)\u001b[0m\n\u001b[1;32m    221\u001b[0m \u001b[38;5;28;01melse\u001b[39;00m:\n\u001b[0;32m--> 222\u001b[0m     \u001b[38;5;28;01mraise\u001b[39;00m ApiError(response)\n",
            "\u001b[0;31mApiError\u001b[0m: [403] Forbidden - The server understood the request, but refused to fulfill it because the access token is missing required scopes or the user is missing required roles or licenses. [Tracking ID: ROUTERGW_c3223305-6e08-40ba-ad59-b3541439072b]",
            "\nDuring handling of the above exception, another exception occurred:\n",
            "\u001b[0;31mException\u001b[0m                                 Traceback (most recent call last)",
            "Cell \u001b[0;32mIn[4], line 3\u001b[0m\n\u001b[1;32m      1\u001b[0m \u001b[38;5;28;01mfrom\u001b[39;00m \u001b[38;5;21;01msrc\u001b[39;00m\u001b[38;5;21;01m.\u001b[39;00m\u001b[38;5;21;01mintegrations\u001b[39;00m\u001b[38;5;21;01m.\u001b[39;00m\u001b[38;5;21;01mwebex_sdk\u001b[39;00m \u001b[38;5;28;01mimport\u001b[39;00m WebexClient\n\u001b[1;32m      2\u001b[0m api\u001b[38;5;241m=\u001b[39mWebexClient()\n\u001b[0;32m----> 3\u001b[0m \u001b[43mapi\u001b[49m\u001b[38;5;241;43m.\u001b[39;49m\u001b[43mlist_meetings\u001b[49m\u001b[43m(\u001b[49m\u001b[43m)\u001b[49m\n",
            "File \u001b[0;32m~/Desktop/Projects/personal/Langchain/tutorial/whatsapp_hr_assistant/src/integrations/webex_sdk.py:410\u001b[0m, in \u001b[0;36mWebexClient.list_meetings\u001b[0;34m(self, from_date, to_date, max_meetings)\u001b[0m\n\u001b[1;32m    404\u001b[0m     meetings \u001b[38;5;241m=\u001b[39m \u001b[38;5;28mself\u001b[39m\u001b[38;5;241m.\u001b[39mapi\u001b[38;5;241m.\u001b[39mmeetings\u001b[38;5;241m.\u001b[39mlist(\n\u001b[1;32m    405\u001b[0m         from_\u001b[38;5;241m=\u001b[39mfrom_date,\n\u001b[1;32m    406\u001b[0m         to\u001b[38;5;241m=\u001b[39mto_date,\n\u001b[1;32m    407\u001b[0m         \u001b[38;5;28mmax\u001b[39m\u001b[38;5;241m=\u001b[39mmax_meetings\n\u001b[1;32m    408\u001b[0m     )\n\u001b[1;32m    409\u001b[0m     \u001b[38;5;28;01mreturn\u001b[39;00m [meeting\u001b[38;5;241m.\u001b[39mto_dict() \u001b[38;5;28;01mfor\u001b[39;00m meeting \u001b[38;5;129;01min\u001b[39;00m meetings]\n\u001b[0;32m--> 410\u001b[0m \u001b[38;5;28;01mraise\u001b[39;00m \u001b[38;5;167;01mException\u001b[39;00m(\u001b[38;5;124mf\u001b[39m\u001b[38;5;124m\"\u001b[39m\u001b[38;5;124mWebex API error listing meetings: \u001b[39m\u001b[38;5;132;01m{\u001b[39;00me\u001b[38;5;132;01m}\u001b[39;00m\u001b[38;5;124m\"\u001b[39m)\n",
            "\u001b[0;31mException\u001b[0m: Webex API error listing meetings: [403] Forbidden - The server understood the request, but refused to fulfill it because the access token is missing required scopes or the user is missing required roles or licenses. [Tracking ID: ROUTERGW_c3223305-6e08-40ba-ad59-b3541439072b]"
          ]
        }
      ],
      "source": [
        "from src.integrations.webex_sdk import WebexClient\n",
        "api=WebexClient()\n",
        "api.list_meetings()"
      ]
    },
    {
      "cell_type": "markdown",
      "metadata": {},
      "source": [
        "# 📁 New Repository Structure\n",
        "\n",
        "**Configuration files have been moved to be more accessible:**\n",
        "\n",
        "- **Tool Config**: `config/tools.yaml` (was `src/config/tools/config.yaml`)\n",
        "- **MCP Servers**: `config/mcp_servers/*.json` (was `src/mcp_integration/servers/*.json`)\n",
        "\n",
        "**Benefits:**\n",
        "- ✅ Easy to find at project root level\n",
        "- ✅ Clear separation of config vs code\n",
        "- ✅ Auto-discovery still works\n",
        "\n",
        "**To view available tools:**\n",
        "```bash\n",
        "python -m src.config.tools.registry\n",
        "```\n",
        "\n",
        "---\n"
      ]
    },
    {
      "cell_type": "code",
      "execution_count": 4,
      "metadata": {},
      "outputs": [
        {
          "name": "stdout",
          "output_type": "stream",
          "text": [
            "Project root: /home/shamaseen/Desktop/Projects/personal/Langchain\n",
            "Current directory: /home/shamaseen/Desktop/Projects/personal/Langchain\n",
            "\n",
            "✅ Configuration loaded successfully\n",
            "   Tool Mode: dynamic\n",
            "   Model: gemini-2.5-flash\n",
            "   Google API Key: Set\n",
            "   Google Credentials: ./client_secret.json\n",
            "   Database: Set\n"
          ]
        }
      ],
      "source": [
        "import sys\n",
        "import os\n",
        "\n",
        "# Add project root to path\n",
        "project_root = os.path.abspath('../..')\n",
        "if project_root not in sys.path:\n",
        "    sys.path.insert(0, project_root)\n",
        "os.chdir(project_root)\n",
        "print(f\"Project root: {project_root}\")\n",
        "print(f\"Current directory: {os.getcwd()}\")\n",
        "\n",
        "\n",
        "\n",
        "# Load configuration\n",
        "try:\n",
        "    from src.config import settings\n",
        "    print(f\"\\n✅ Configuration loaded successfully\")\n",
        "    print(f\"   Tool Mode: {settings.TOOL_MODE}\")\n",
        "    print(f\"   Model: {settings.MODEL_NAME}\")\n",
        "    print(f\"   Google API Key: {'Set' if settings.GOOGLE_API_KEY else 'Not set'}\")\n",
        "    print(f\"   Google Credentials: {settings.GOOGLE_APPLICATION_CREDENTIALS}\")\n",
        "    print(f\"   Database: {'Set' if settings.DATABASE_URL else 'Not set'}\")\n",
        "except Exception as e:\n",
        "    print(f\"\\n❌ Configuration failed: {e}\")\n",
        "    print(\"   Please check your .env file and configuration\")"
      ]
    },
    {
      "cell_type": "code",
      "execution_count": null,
      "metadata": {},
      "outputs": [],
      "source": []
    },
    {
      "cell_type": "code",
      "execution_count": null,
      "metadata": {},
      "outputs": [],
      "source": []
    },
    {
      "cell_type": "code",
      "execution_count": 3,
      "metadata": {},
      "outputs": [
        {
          "name": "stdout",
          "output_type": "stream",
          "text": [
            "✓ Using OAuth2 authentication (supports token refresh)\n"
          ]
        },
        {
          "ename": "Exception",
          "evalue": "Webex API error listing meetings: [403] Forbidden - The server understood the request, but refused to fulfill it because the access token is missing required scopes or the user is missing required roles or licenses. [Tracking ID: ROUTERGW_37abf52c-8938-4134-bd99-91d79e27c7f6]",
          "output_type": "error",
          "traceback": [
            "\u001b[0;31m---------------------------------------------------------------------------\u001b[0m",
            "\u001b[0;31mApiError\u001b[0m                                  Traceback (most recent call last)",
            "File \u001b[0;32m~/Desktop/Projects/personal/Langchain/tutorial/whatsapp_hr_assistant/src/integrations/webex_sdk.py:400\u001b[0m, in \u001b[0;36mWebexClient.list_meetings\u001b[0;34m(self, from_date, to_date, max_meetings)\u001b[0m\n\u001b[1;32m    395\u001b[0m     meetings \u001b[38;5;241m=\u001b[39m \u001b[38;5;28mself\u001b[39m\u001b[38;5;241m.\u001b[39mapi\u001b[38;5;241m.\u001b[39mmeetings\u001b[38;5;241m.\u001b[39mlist(\n\u001b[1;32m    396\u001b[0m         from_\u001b[38;5;241m=\u001b[39mfrom_date,\n\u001b[1;32m    397\u001b[0m         to\u001b[38;5;241m=\u001b[39mto_date,\n\u001b[1;32m    398\u001b[0m         \u001b[38;5;28mmax\u001b[39m\u001b[38;5;241m=\u001b[39mmax_meetings\n\u001b[1;32m    399\u001b[0m     )\n\u001b[0;32m--> 400\u001b[0m     \u001b[38;5;28;01mreturn\u001b[39;00m [meeting\u001b[38;5;241m.\u001b[39mto_dict() \u001b[38;5;28;01mfor\u001b[39;00m meeting \u001b[38;5;129;01min\u001b[39;00m meetings]\n\u001b[1;32m    401\u001b[0m \u001b[38;5;28;01mexcept\u001b[39;00m ApiError \u001b[38;5;28;01mas\u001b[39;00m e:\n",
            "File \u001b[0;32m~/Desktop/Projects/personal/Langchain/tutorial/whatsapp_hr_assistant/src/integrations/webex_sdk.py:400\u001b[0m, in \u001b[0;36m<listcomp>\u001b[0;34m(.0)\u001b[0m\n\u001b[1;32m    395\u001b[0m     meetings \u001b[38;5;241m=\u001b[39m \u001b[38;5;28mself\u001b[39m\u001b[38;5;241m.\u001b[39mapi\u001b[38;5;241m.\u001b[39mmeetings\u001b[38;5;241m.\u001b[39mlist(\n\u001b[1;32m    396\u001b[0m         from_\u001b[38;5;241m=\u001b[39mfrom_date,\n\u001b[1;32m    397\u001b[0m         to\u001b[38;5;241m=\u001b[39mto_date,\n\u001b[1;32m    398\u001b[0m         \u001b[38;5;28mmax\u001b[39m\u001b[38;5;241m=\u001b[39mmax_meetings\n\u001b[1;32m    399\u001b[0m     )\n\u001b[0;32m--> 400\u001b[0m     \u001b[38;5;28;01mreturn\u001b[39;00m [meeting\u001b[38;5;241m.\u001b[39mto_dict() \u001b[38;5;28;01mfor\u001b[39;00m meeting \u001b[38;5;129;01min\u001b[39;00m meetings]\n\u001b[1;32m    401\u001b[0m \u001b[38;5;28;01mexcept\u001b[39;00m ApiError \u001b[38;5;28;01mas\u001b[39;00m e:\n",
            "File \u001b[0;32m~/anaconda3/envs/phone/lib/python3.10/site-packages/webexteamssdk/api/meetings.py:194\u001b[0m, in \u001b[0;36mMeetingsAPI.list\u001b[0;34m(self, meetingNumber, webLink, roomId, meetingType, state, scheduledType, participantEmail, current, from_, to, max, hostEmail, siteUrl, integrationTag, headers, **request_parameters)\u001b[0m\n\u001b[1;32m    193\u001b[0m \u001b[38;5;66;03m# Yield membership objects created from the returned items JSON objects\u001b[39;00m\n\u001b[0;32m--> 194\u001b[0m \u001b[38;5;28;01mfor\u001b[39;00m item \u001b[38;5;129;01min\u001b[39;00m items:\n\u001b[1;32m    195\u001b[0m     \u001b[38;5;28;01myield\u001b[39;00m \u001b[38;5;28mself\u001b[39m\u001b[38;5;241m.\u001b[39m_object_factory(OBJECT_TYPE, item)\n",
            "File \u001b[0;32m~/anaconda3/envs/phone/lib/python3.10/site-packages/webexteamssdk/restsession.py:482\u001b[0m, in \u001b[0;36mRestSession.get_items\u001b[0;34m(self, url, params, **kwargs)\u001b[0m\n\u001b[1;32m    480\u001b[0m pages \u001b[38;5;241m=\u001b[39m \u001b[38;5;28mself\u001b[39m\u001b[38;5;241m.\u001b[39mget_pages(url, params\u001b[38;5;241m=\u001b[39mparams, \u001b[38;5;241m*\u001b[39m\u001b[38;5;241m*\u001b[39mkwargs)\n\u001b[0;32m--> 482\u001b[0m \u001b[38;5;28;01mfor\u001b[39;00m json_page \u001b[38;5;129;01min\u001b[39;00m pages:\n\u001b[1;32m    483\u001b[0m     \u001b[38;5;28;01massert\u001b[39;00m \u001b[38;5;28misinstance\u001b[39m(json_page, \u001b[38;5;28mdict\u001b[39m)\n",
            "File \u001b[0;32m~/anaconda3/envs/phone/lib/python3.10/site-packages/webexteamssdk/restsession.py:435\u001b[0m, in \u001b[0;36mRestSession.get_pages\u001b[0;34m(self, url, params, **kwargs)\u001b[0m\n\u001b[1;32m    434\u001b[0m \u001b[38;5;66;03m# First request\u001b[39;00m\n\u001b[0;32m--> 435\u001b[0m response \u001b[38;5;241m=\u001b[39m \u001b[38;5;28;43mself\u001b[39;49m\u001b[38;5;241;43m.\u001b[39;49m\u001b[43mrequest\u001b[49m\u001b[43m(\u001b[49m\u001b[38;5;124;43m\"\u001b[39;49m\u001b[38;5;124;43mGET\u001b[39;49m\u001b[38;5;124;43m\"\u001b[39;49m\u001b[43m,\u001b[49m\u001b[43m \u001b[49m\u001b[43murl\u001b[49m\u001b[43m,\u001b[49m\u001b[43m \u001b[49m\u001b[43merc\u001b[49m\u001b[43m,\u001b[49m\u001b[43m \u001b[49m\u001b[43mparams\u001b[49m\u001b[38;5;241;43m=\u001b[39;49m\u001b[43mparams\u001b[49m\u001b[43m,\u001b[49m\u001b[43m \u001b[49m\u001b[38;5;241;43m*\u001b[39;49m\u001b[38;5;241;43m*\u001b[39;49m\u001b[43mkwargs\u001b[49m\u001b[43m)\u001b[49m\n\u001b[1;32m    437\u001b[0m \u001b[38;5;28;01mwhile\u001b[39;00m \u001b[38;5;28;01mTrue\u001b[39;00m:\n",
            "File \u001b[0;32m~/anaconda3/envs/phone/lib/python3.10/site-packages/webexteamssdk/restsession.py:373\u001b[0m, in \u001b[0;36mRestSession.request\u001b[0;34m(self, method, url, erc, **kwargs)\u001b[0m\n\u001b[1;32m    371\u001b[0m \u001b[38;5;28;01mtry\u001b[39;00m:\n\u001b[1;32m    372\u001b[0m     \u001b[38;5;66;03m# Check the response code for error conditions\u001b[39;00m\n\u001b[0;32m--> 373\u001b[0m     \u001b[43mcheck_response_code\u001b[49m\u001b[43m(\u001b[49m\u001b[43mresponse\u001b[49m\u001b[43m,\u001b[49m\u001b[43m \u001b[49m\u001b[43merc\u001b[49m\u001b[43m)\u001b[49m\n\u001b[1;32m    374\u001b[0m \u001b[38;5;28;01mexcept\u001b[39;00m RateLimitError \u001b[38;5;28;01mas\u001b[39;00m e:\n\u001b[1;32m    375\u001b[0m     \u001b[38;5;66;03m# Catch rate-limit errors\u001b[39;00m\n\u001b[1;32m    376\u001b[0m     \u001b[38;5;66;03m# Wait and retry if automatic rate-limit handling is enabled\u001b[39;00m\n",
            "File \u001b[0;32m~/anaconda3/envs/phone/lib/python3.10/site-packages/webexteamssdk/utils.py:222\u001b[0m, in \u001b[0;36mcheck_response_code\u001b[0;34m(response, expected_response_code)\u001b[0m\n\u001b[1;32m    221\u001b[0m \u001b[38;5;28;01melse\u001b[39;00m:\n\u001b[0;32m--> 222\u001b[0m     \u001b[38;5;28;01mraise\u001b[39;00m ApiError(response)\n",
            "\u001b[0;31mApiError\u001b[0m: [403] Forbidden - The server understood the request, but refused to fulfill it because the access token is missing required scopes or the user is missing required roles or licenses. [Tracking ID: ROUTERGW_37abf52c-8938-4134-bd99-91d79e27c7f6]",
            "\nDuring handling of the above exception, another exception occurred:\n",
            "\u001b[0;31mException\u001b[0m                                 Traceback (most recent call last)",
            "Cell \u001b[0;32mIn[3], line 3\u001b[0m\n\u001b[1;32m      1\u001b[0m \u001b[38;5;28;01mfrom\u001b[39;00m \u001b[38;5;21;01msrc\u001b[39;00m\u001b[38;5;21;01m.\u001b[39;00m\u001b[38;5;21;01mintegrations\u001b[39;00m\u001b[38;5;21;01m.\u001b[39;00m\u001b[38;5;21;01mwebex_sdk\u001b[39;00m \u001b[38;5;28;01mimport\u001b[39;00m WebexClient\n\u001b[1;32m      2\u001b[0m api\u001b[38;5;241m=\u001b[39mWebexClient()\n\u001b[0;32m----> 3\u001b[0m \u001b[43mapi\u001b[49m\u001b[38;5;241;43m.\u001b[39;49m\u001b[43mlist_meetings\u001b[49m\u001b[43m(\u001b[49m\u001b[43m)\u001b[49m\n",
            "File \u001b[0;32m~/Desktop/Projects/personal/Langchain/tutorial/whatsapp_hr_assistant/src/integrations/webex_sdk.py:410\u001b[0m, in \u001b[0;36mWebexClient.list_meetings\u001b[0;34m(self, from_date, to_date, max_meetings)\u001b[0m\n\u001b[1;32m    404\u001b[0m     meetings \u001b[38;5;241m=\u001b[39m \u001b[38;5;28mself\u001b[39m\u001b[38;5;241m.\u001b[39mapi\u001b[38;5;241m.\u001b[39mmeetings\u001b[38;5;241m.\u001b[39mlist(\n\u001b[1;32m    405\u001b[0m         from_\u001b[38;5;241m=\u001b[39mfrom_date,\n\u001b[1;32m    406\u001b[0m         to\u001b[38;5;241m=\u001b[39mto_date,\n\u001b[1;32m    407\u001b[0m         \u001b[38;5;28mmax\u001b[39m\u001b[38;5;241m=\u001b[39mmax_meetings\n\u001b[1;32m    408\u001b[0m     )\n\u001b[1;32m    409\u001b[0m     \u001b[38;5;28;01mreturn\u001b[39;00m [meeting\u001b[38;5;241m.\u001b[39mto_dict() \u001b[38;5;28;01mfor\u001b[39;00m meeting \u001b[38;5;129;01min\u001b[39;00m meetings]\n\u001b[0;32m--> 410\u001b[0m \u001b[38;5;28;01mraise\u001b[39;00m \u001b[38;5;167;01mException\u001b[39;00m(\u001b[38;5;124mf\u001b[39m\u001b[38;5;124m\"\u001b[39m\u001b[38;5;124mWebex API error listing meetings: \u001b[39m\u001b[38;5;132;01m{\u001b[39;00me\u001b[38;5;132;01m}\u001b[39;00m\u001b[38;5;124m\"\u001b[39m)\n",
            "\u001b[0;31mException\u001b[0m: Webex API error listing meetings: [403] Forbidden - The server understood the request, but refused to fulfill it because the access token is missing required scopes or the user is missing required roles or licenses. [Tracking ID: ROUTERGW_37abf52c-8938-4134-bd99-91d79e27c7f6]"
          ]
        }
      ],
      "source": []
    },
    {
      "cell_type": "code",
      "execution_count": null,
      "metadata": {},
      "outputs": [
        {
          "ename": "ApiError",
          "evalue": "[401] Unauthorized - The request requires a valid access token set in the Authorization request header. [Tracking ID: ROUTERGW_b897b0ac-2edb-4786-be14-634d740f67a8]",
          "output_type": "error",
          "traceback": [
            "\u001b[0;31m---------------------------------------------------------------------------\u001b[0m",
            "\u001b[0;31mApiError\u001b[0m                                  Traceback (most recent call last)",
            "Cell \u001b[0;32mIn[10], line 1\u001b[0m\n\u001b[0;32m----> 1\u001b[0m [meeting\u001b[38;5;241m.\u001b[39mto_dict() \u001b[38;5;28;01mfor\u001b[39;00m meeting \u001b[38;5;129;01min\u001b[39;00m api\u001b[38;5;241m.\u001b[39mmeetings\u001b[38;5;241m.\u001b[39mlist()]\n",
            "Cell \u001b[0;32mIn[10], line 1\u001b[0m, in \u001b[0;36m<listcomp>\u001b[0;34m(.0)\u001b[0m\n\u001b[0;32m----> 1\u001b[0m [meeting\u001b[38;5;241m.\u001b[39mto_dict() \u001b[38;5;28;01mfor\u001b[39;00m meeting \u001b[38;5;129;01min\u001b[39;00m api\u001b[38;5;241m.\u001b[39mmeetings\u001b[38;5;241m.\u001b[39mlist()]\n",
            "File \u001b[0;32m~/anaconda3/envs/phone/lib/python3.10/site-packages/webexteamssdk/api/meetings.py:194\u001b[0m, in \u001b[0;36mMeetingsAPI.list\u001b[0;34m(self, meetingNumber, webLink, roomId, meetingType, state, scheduledType, participantEmail, current, from_, to, max, hostEmail, siteUrl, integrationTag, headers, **request_parameters)\u001b[0m\n\u001b[1;32m    191\u001b[0m     \u001b[38;5;28;01mdel\u001b[39;00m \u001b[38;5;28mself\u001b[39m\u001b[38;5;241m.\u001b[39m_session\u001b[38;5;241m.\u001b[39mheaders[k]\n\u001b[1;32m    193\u001b[0m \u001b[38;5;66;03m# Yield membership objects created from the returned items JSON objects\u001b[39;00m\n\u001b[0;32m--> 194\u001b[0m \u001b[38;5;28;01mfor\u001b[39;00m item \u001b[38;5;129;01min\u001b[39;00m items:\n\u001b[1;32m    195\u001b[0m     \u001b[38;5;28;01myield\u001b[39;00m \u001b[38;5;28mself\u001b[39m\u001b[38;5;241m.\u001b[39m_object_factory(OBJECT_TYPE, item)\n",
            "File \u001b[0;32m~/anaconda3/envs/phone/lib/python3.10/site-packages/webexteamssdk/restsession.py:482\u001b[0m, in \u001b[0;36mRestSession.get_items\u001b[0;34m(self, url, params, **kwargs)\u001b[0m\n\u001b[1;32m    479\u001b[0m \u001b[38;5;66;03m# Get generator for pages of JSON data\u001b[39;00m\n\u001b[1;32m    480\u001b[0m pages \u001b[38;5;241m=\u001b[39m \u001b[38;5;28mself\u001b[39m\u001b[38;5;241m.\u001b[39mget_pages(url, params\u001b[38;5;241m=\u001b[39mparams, \u001b[38;5;241m*\u001b[39m\u001b[38;5;241m*\u001b[39mkwargs)\n\u001b[0;32m--> 482\u001b[0m \u001b[38;5;28;01mfor\u001b[39;00m json_page \u001b[38;5;129;01min\u001b[39;00m pages:\n\u001b[1;32m    483\u001b[0m     \u001b[38;5;28;01massert\u001b[39;00m \u001b[38;5;28misinstance\u001b[39m(json_page, \u001b[38;5;28mdict\u001b[39m)\n\u001b[1;32m    485\u001b[0m     items \u001b[38;5;241m=\u001b[39m json_page\u001b[38;5;241m.\u001b[39mget(\u001b[38;5;124m\"\u001b[39m\u001b[38;5;124mitems\u001b[39m\u001b[38;5;124m\"\u001b[39m)\n",
            "File \u001b[0;32m~/anaconda3/envs/phone/lib/python3.10/site-packages/webexteamssdk/restsession.py:435\u001b[0m, in \u001b[0;36mRestSession.get_pages\u001b[0;34m(self, url, params, **kwargs)\u001b[0m\n\u001b[1;32m    432\u001b[0m erc \u001b[38;5;241m=\u001b[39m kwargs\u001b[38;5;241m.\u001b[39mpop(\u001b[38;5;124m\"\u001b[39m\u001b[38;5;124merc\u001b[39m\u001b[38;5;124m\"\u001b[39m, EXPECTED_RESPONSE_CODE[\u001b[38;5;124m\"\u001b[39m\u001b[38;5;124mGET\u001b[39m\u001b[38;5;124m\"\u001b[39m])\n\u001b[1;32m    434\u001b[0m \u001b[38;5;66;03m# First request\u001b[39;00m\n\u001b[0;32m--> 435\u001b[0m response \u001b[38;5;241m=\u001b[39m \u001b[38;5;28;43mself\u001b[39;49m\u001b[38;5;241;43m.\u001b[39;49m\u001b[43mrequest\u001b[49m\u001b[43m(\u001b[49m\u001b[38;5;124;43m\"\u001b[39;49m\u001b[38;5;124;43mGET\u001b[39;49m\u001b[38;5;124;43m\"\u001b[39;49m\u001b[43m,\u001b[49m\u001b[43m \u001b[49m\u001b[43murl\u001b[49m\u001b[43m,\u001b[49m\u001b[43m \u001b[49m\u001b[43merc\u001b[49m\u001b[43m,\u001b[49m\u001b[43m \u001b[49m\u001b[43mparams\u001b[49m\u001b[38;5;241;43m=\u001b[39;49m\u001b[43mparams\u001b[49m\u001b[43m,\u001b[49m\u001b[43m \u001b[49m\u001b[38;5;241;43m*\u001b[39;49m\u001b[38;5;241;43m*\u001b[39;49m\u001b[43mkwargs\u001b[49m\u001b[43m)\u001b[49m\n\u001b[1;32m    437\u001b[0m \u001b[38;5;28;01mwhile\u001b[39;00m \u001b[38;5;28;01mTrue\u001b[39;00m:\n\u001b[1;32m    438\u001b[0m     \u001b[38;5;28;01myield\u001b[39;00m extract_and_parse_json(response)\n",
            "File \u001b[0;32m~/anaconda3/envs/phone/lib/python3.10/site-packages/webexteamssdk/restsession.py:373\u001b[0m, in \u001b[0;36mRestSession.request\u001b[0;34m(self, method, url, erc, **kwargs)\u001b[0m\n\u001b[1;32m    369\u001b[0m response \u001b[38;5;241m=\u001b[39m \u001b[38;5;28mself\u001b[39m\u001b[38;5;241m.\u001b[39m_req_session\u001b[38;5;241m.\u001b[39mrequest(method, abs_url, \u001b[38;5;241m*\u001b[39m\u001b[38;5;241m*\u001b[39mkwargs)\n\u001b[1;32m    371\u001b[0m \u001b[38;5;28;01mtry\u001b[39;00m:\n\u001b[1;32m    372\u001b[0m     \u001b[38;5;66;03m# Check the response code for error conditions\u001b[39;00m\n\u001b[0;32m--> 373\u001b[0m     \u001b[43mcheck_response_code\u001b[49m\u001b[43m(\u001b[49m\u001b[43mresponse\u001b[49m\u001b[43m,\u001b[49m\u001b[43m \u001b[49m\u001b[43merc\u001b[49m\u001b[43m)\u001b[49m\n\u001b[1;32m    374\u001b[0m \u001b[38;5;28;01mexcept\u001b[39;00m RateLimitError \u001b[38;5;28;01mas\u001b[39;00m e:\n\u001b[1;32m    375\u001b[0m     \u001b[38;5;66;03m# Catch rate-limit errors\u001b[39;00m\n\u001b[1;32m    376\u001b[0m     \u001b[38;5;66;03m# Wait and retry if automatic rate-limit handling is enabled\u001b[39;00m\n\u001b[1;32m    377\u001b[0m     \u001b[38;5;28;01mif\u001b[39;00m \u001b[38;5;28mself\u001b[39m\u001b[38;5;241m.\u001b[39mwait_on_rate_limit:\n",
            "File \u001b[0;32m~/anaconda3/envs/phone/lib/python3.10/site-packages/webexteamssdk/utils.py:222\u001b[0m, in \u001b[0;36mcheck_response_code\u001b[0;34m(response, expected_response_code)\u001b[0m\n\u001b[1;32m    220\u001b[0m     \u001b[38;5;28;01mraise\u001b[39;00m RateLimitError(response)\n\u001b[1;32m    221\u001b[0m \u001b[38;5;28;01melse\u001b[39;00m:\n\u001b[0;32m--> 222\u001b[0m     \u001b[38;5;28;01mraise\u001b[39;00m ApiError(response)\n",
            "\u001b[0;31mApiError\u001b[0m: [401] Unauthorized - The request requires a valid access token set in the Authorization request header. [Tracking ID: ROUTERGW_b897b0ac-2edb-4786-be14-634d740f67a8]"
          ]
        }
      ],
      "source": [
        "\n",
        "[meeting.to_dict() for meeting in api.meetings.list()]"
      ]
    },
    {
      "cell_type": "code",
      "execution_count": null,
      "metadata": {},
      "outputs": [
        {
          "name": "stderr",
          "output_type": "stream",
          "text": [
            "Event loop already running, using sync wrapper\n"
          ]
        },
        {
          "name": "stdout",
          "output_type": "stream",
          "text": [
            "🔐 Starting OAuth authentication...\n",
            "   Browser will open for authorization\n",
            "   Trying port 8080...\n",
            "Please visit this URL to authorize this application: https://accounts.google.com/o/oauth2/auth?response_type=code&client_id=858861079035-20sot503b382egfl4f5lt2tqnectstrp.apps.googleusercontent.com&redirect_uri=http%3A%2F%2Flocalhost%3A8080%2F&scope=https%3A%2F%2Fwww.googleapis.com%2Fauth%2Fdrive+https%3A%2F%2Fwww.googleapis.com%2Fauth%2Fspreadsheets+https%3A%2F%2Fwww.googleapis.com%2Fauth%2Fcalendar+https%3A%2F%2Fwww.googleapis.com%2Fauth%2Fgmail.send+https%3A%2F%2Fmail.google.com%2F+https%3A%2F%2Fwww.googleapis.com%2Fauth%2Fdrive.file&state=btsWI1YNNOlracPpBgKF1mNdYCkpRv&access_type=offline\n",
            "✅ OAuth authentication successful!\n",
            "💾 OAuth token saved to token.pickle\n",
            "✅ Google Services initialized with OAuth 2.0\n",
            "   ✓ Stdio connected: 1 tool(s) loaded\n",
            "   ✓ Stdio connected: 1 tool(s) loaded\n"
          ]
        }
      ],
      "source": [
        "\n",
        "loader = ToolLoader()\n",
        "tools = loader.get_tools()"
      ]
    },
    {
      "cell_type": "code",
      "execution_count": null,
      "metadata": {},
      "outputs": [
        {
          "data": {
            "text/plain": [
              "StructuredTool(name='webex', description='Manage Webex meetings with email notifications.\\n\\nOperations:\\n- create_meeting: Schedule a new Webex meeting (auto-sends email invitations)\\n- list_meetings: List all scheduled meetings\\n- get_meeting: Get meeting details\\n- update_meeting: Modify existing meeting (optional email notifications)\\n- delete_meeting: Cancel a meeting (optional email notifications)\\n\\nAll operations support optional email notifications to invitees.\\nUse for scheduling video interviews and meetings.', args_schema=<class 'src.mcp_integration.protocol.base.webexInput'>, func=<function MCPTool.to_langchain_tool.<locals>.tool_wrapper at 0x7e5d2687f130>)"
            ]
          },
          "execution_count": 6,
          "metadata": {},
          "output_type": "execute_result"
        }
      ],
      "source": [
        "tools[-1]"
      ]
    },
    {
      "cell_type": "code",
      "execution_count": null,
      "metadata": {},
      "outputs": [],
      "source": [
        "import time\n",
        "from langchain_core.messages import HumanMessage, AIMessage\n",
        "from src.agents.complex_agent import create_complex_langgraph_agent\n",
        "from src.integrations.messaging import messaging_client\n",
        "from src.data.repositories.request_repository import request_logger\n",
        "from src.config import settings\n"
      ]
    },
    {
      "cell_type": "code",
      "execution_count": null,
      "metadata": {},
      "outputs": [
        {
          "name": "stderr",
          "output_type": "stream",
          "text": [
            "Event loop already running, using sync wrapper\n",
            "🔧 Loading tools from configuration...\n",
            "   Found 10 tool configurations\n",
            "   📦 Loading internal MCP tool: gmail\n"
          ]
        },
        {
          "name": "stderr",
          "output_type": "stream",
          "text": [
            "file_cache is only supported with oauth2client<4.0.0\n",
            "file_cache is only supported with oauth2client<4.0.0\n",
            "file_cache is only supported with oauth2client<4.0.0\n",
            "file_cache is only supported with oauth2client<4.0.0\n",
            "   ✓ Loaded gmail\n",
            "   📦 Loading internal MCP tool: calendar\n",
            "   ✓ Loaded calendar\n",
            "   📦 Loading internal MCP tool: cv_manager\n",
            "   ✓ Loaded cv_manager\n",
            "   📦 Loading internal MCP tool: cv_processing\n",
            "   ✓ Loaded 3 tools for cv_processing\n",
            "   🌐 Loading MCP client tool: datetime\n"
          ]
        },
        {
          "name": "stdout",
          "output_type": "stream",
          "text": [
            "🔧 Using dynamic tool configuration mode\n",
            "   Config: src/config/tool_config.yaml\n",
            "✅ Loaded saved OAuth token\n",
            "✅ Google Services initialized with OAuth 2.0\n"
          ]
        },
        {
          "name": "stderr",
          "output_type": "stream",
          "text": [
            "   ✓ Loaded 1 tools from datetime MCP server\n",
            "   🌐 Loading MCP client tool: thinking\n",
            "   ✓ Loaded 1 tools from thinking MCP server\n",
            "   📦 Loading internal MCP tool: webex\n",
            "User-Agent: webexteamssdk/1.7 {\"implementation\": {\"name\": \"CPython\", \"version\": \"3.10.8\"}, \"system\": {\"name\": \"Linux\", \"release\": \"6.8.7-2-liquorix-amd64\"}, \"cpu\": \"x86_64\", \"organization\": {}}\n",
            "   ✓ Loaded webex\n",
            "   ⏭️  Skipping disabled tool: brave_search\n",
            "   ⏭️  Skipping disabled tool: filesystem\n",
            "   ⏭️  Skipping disabled tool: custom_api\n",
            "\n",
            "✅ Successfully loaded 9 tools\n"
          ]
        },
        {
          "name": "stdout",
          "output_type": "stream",
          "text": [
            "   ✓ Stdio connected: 1 tool(s) loaded\n",
            "   ✓ Stdio connected: 1 tool(s) loaded\n",
            "\n",
            "✅ Loaded 9 tools dynamically\n",
            "   Active MCP clients: datetime, thinking\n",
            "   Tool names: gmail, calendar, cv_sheet_manager, process_cvs, search_candidates, search_create_sheet, datetime_get_current_time, thinking_sequentialthinking, webex\n",
            "✅ Agent configured with 9 tools\n",
            "✅ LangGraph PostgreSQL checkpointer tables initialized\n",
            "✅ Checkpointer ready with autocommit=True\n"
          ]
        }
      ],
      "source": [
        "agent_app = create_complex_langgraph_agent(llm=llm, tools=tools, memory_type='postgres')"
      ]
    },
    {
      "cell_type": "code",
      "execution_count": null,
      "metadata": {},
      "outputs": [],
      "source": []
    }
  ],
  "metadata": {
    "kernelspec": {
      "display_name": "Python 3",
      "language": "python",
      "name": "python3"
    },
    "language_info": {
      "codemirror_mode": {
        "name": "ipython",
        "version": 3
      },
      "file_extension": ".py",
      "mimetype": "text/x-python",
      "name": "python",
      "nbconvert_exporter": "python",
      "pygments_lexer": "ipython3",
      "version": "3.10.8"
    }
  },
  "nbformat": 4,
  "nbformat_minor": 4
}
