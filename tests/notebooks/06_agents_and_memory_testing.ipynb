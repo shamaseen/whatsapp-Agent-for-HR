{
  "cells": [
    {
      "cell_type": "markdown",
      "metadata": {},
      "source": [
        "# \ud83d\udcc1 New Repository Structure\n",
        "\n",
        "**Configuration files have been moved to be more accessible:**\n",
        "\n",
        "- **Tool Config**: `config/tools.yaml` (was `src/config/tools/config.yaml`)\n",
        "- **MCP Servers**: `config/mcp_servers/*.json` (was `src/mcp_integration/servers/*.json`)\n",
        "\n",
        "**Benefits:**\n",
        "- \u2705 Easy to find at project root level\n",
        "- \u2705 Clear separation of config vs code\n",
        "- \u2705 Auto-discovery still works\n",
        "\n",
        "**To view available tools:**\n",
        "```bash\n",
        "python -m src.config.tools.registry\n",
        "```\n",
        "\n",
        "---\n"
      ]
    },
    {
      "cell_type": "markdown",
      "metadata": {},
      "source": [
        "# Agents & Memory Systems Testing\n",
        "\n",
        "This notebook tests all available agent types and memory backends.\n",
        "\n",
        "## What's Available\n",
        "\n",
        "### Agent Types\n",
        "1. **Simple ReAct Agent** - Fast, simple reasoning + acting\n",
        "2. **Complex LangGraph Agent** - Advanced multi-node workflow with reflection\n",
        "3. **HR Agent** - Existing specialized HR agent (default)\n",
        "\n",
        "### Memory Types\n",
        "1. **Buffer** - Simple conversation buffer\n",
        "2. **Summary** - Conversation summary\n",
        "3. **PostgreSQL** - Persistent PostgreSQL checkpointer\n",
        "4. **SQLite** - Local file-based checkpointer\n",
        "5. **Memory** - In-memory checkpointer\n",
        "6. **OpenMemory** - Self-hosted AI memory engine (NEW!)\n",
        "\n",
        "## Setup"
      ]
    },
    {
      "cell_type": "code",
      "execution_count": 3,
      "metadata": {},
      "outputs": [
        {
          "name": "stdout",
          "output_type": "stream",
          "text": [
            "\u2705 Project root: /home/shamaseen/Desktop/Projects/personal/Langchain/tutorial/whatsapp_hr_assistant\n"
          ]
        }
      ],
      "source": [
        "import sys\n",
        "from pathlib import Path\n",
        "\n",
        "# Add project root to path\n",
        "project_root = Path.cwd().parent.parent\n",
        "if str(project_root) not in sys.path:\n",
        "    sys.path.insert(0, str(project_root))\n",
        "\n",
        "import logging\n",
        "logging.basicConfig(level=logging.INFO)\n",
        "\n",
        "print(f\"\u2705 Project root: {project_root}\")"
      ]
    },
    {
      "cell_type": "markdown",
      "metadata": {},
      "source": [
        "## Part 1: Explore Available Options"
      ]
    },
    {
      "cell_type": "code",
      "execution_count": 4,
      "metadata": {},
      "outputs": [
        {
          "name": "stdout",
          "output_type": "stream",
          "text": [
            "================================================================================\n",
            "AVAILABLE AGENTS\n",
            "================================================================================\n",
            "\n",
            "\ud83d\udce6 Simple ReAct Agent (simple_react)\n",
            "   Description: Straightforward ReAct (Reasoning + Acting) agent\n",
            "   Best for: Simple tasks, quick responses, debugging\n",
            "   Features:\n",
            "     \u2022 Clear reasoning steps\n",
            "     \u2022 Simple conversation memory\n",
            "     \u2022 Easy to understand and debug\n",
            "     \u2022 Fast execution\n",
            "   Compatible memory: buffer, summary, openmemory\n",
            "   Recommended: buffer\n",
            "\n",
            "\ud83d\udce6 Complex LangGraph Agent (complex_langgraph)\n",
            "   Description: Advanced multi-node graph agent with reflection\n",
            "   Best for: Complex workflows, multi-step tasks, production use\n",
            "   Features:\n",
            "     \u2022 Multi-node workflow graph\n",
            "     \u2022 Conditional routing\n",
            "     \u2022 Self-reflection and critique\n",
            "     \u2022 Persistent memory via checkpointer\n",
            "     \u2022 Error handling and recovery\n",
            "   Compatible memory: postgres, sqlite, memory\n",
            "   Recommended: postgres\n",
            "\n",
            "\ud83d\udce6 HR Recruitment Agent (hr_agent)\n",
            "   Description: Existing specialized HR agent\n",
            "   Best for: HR recruitment tasks\n",
            "   Features:\n",
            "     \u2022 Recruitment-specific workflows\n",
            "     \u2022 CV processing\n",
            "     \u2022 Interview scheduling\n",
            "     \u2022 Email communication\n",
            "   Compatible memory: postgres, sqlite\n",
            "   Recommended: postgres\n"
          ]
        }
      ],
      "source": [
        "from src.agents.factory import AgentFactory, AgentType, MemoryType\n",
        "\n",
        "print(\"=\"*80)\n",
        "print(\"AVAILABLE AGENTS\")\n",
        "print(\"=\"*80)\n",
        "\n",
        "for agent_type in AgentType:\n",
        "    info = AgentFactory.get_agent_info(agent_type)\n",
        "    print(f\"\\n\ud83d\udce6 {info['name']} ({agent_type.value})\")\n",
        "    print(f\"   Description: {info['description']}\")\n",
        "    print(f\"   Best for: {info['best_for']}\")\n",
        "    print(f\"   Features:\")\n",
        "    for feature in info['features']:\n",
        "        print(f\"     \u2022 {feature}\")\n",
        "    \n",
        "    # Show compatible memories\n",
        "    compatible = AgentFactory.list_compatible_memories(agent_type)\n",
        "    print(f\"   Compatible memory: {', '.join([m.value for m in compatible])}\")\n",
        "    \n",
        "    recommended = AgentFactory.get_recommended_memory(agent_type)\n",
        "    print(f\"   Recommended: {recommended.value}\")"
      ]
    },
    {
      "cell_type": "code",
      "execution_count": 5,
      "metadata": {},
      "outputs": [
        {
          "name": "stdout",
          "output_type": "stream",
          "text": [
            "\n",
            "================================================================================\n",
            "AVAILABLE MEMORY TYPES\n",
            "================================================================================\n",
            "\n",
            "\ud83d\udcbe Conversation Buffer (buffer)\n",
            "   Description: Stores full conversation history in memory\n",
            "   Use case: Short conversations, testing\n",
            "   Pros: Simple, Fast, Complete history\n",
            "   Cons: Limited by context window, No persistence\n",
            "\n",
            "\ud83d\udcbe Conversation Summary (summary)\n",
            "   Description: Summarizes conversation to save tokens\n",
            "   Use case: Long conversations, token optimization\n",
            "   Pros: Token efficient, Handles long conversations\n",
            "   Cons: May lose details, Extra LLM calls\n",
            "\n",
            "\ud83d\udcbe PostgreSQL Checkpointer (postgres)\n",
            "   Description: Persistent storage in PostgreSQL\n",
            "   Use case: Production, multi-user applications\n",
            "   Pros: Persistent, Scalable, Multi-user\n",
            "   Cons: Requires database, More complex setup\n",
            "\n",
            "\ud83d\udcbe SQLite Checkpointer (sqlite)\n",
            "   Description: Local file-based persistent storage\n",
            "   Use case: Development, single-user apps\n",
            "   Pros: Persistent, No external DB, Simple\n",
            "   Cons: Single-user, File-based limitations\n",
            "\n",
            "\ud83d\udcbe In-Memory Checkpointer (memory)\n",
            "   Description: Temporary in-memory storage\n",
            "   Use case: Testing, development, demos\n",
            "   Pros: Fast, Simple, No setup\n",
            "   Cons: Not persistent, Lost on restart\n",
            "\n",
            "\ud83d\udcbe OpenMemory (openmemory)\n",
            "   Description: Self-hosted AI memory engine with semantic search\n",
            "   Use case: Advanced memory needs, long-term recall\n",
            "   Pros: Semantic memory search, Multi-sector storage, Graph-based linking, Privacy-focused\n",
            "   Cons: Requires external service, Additional setup\n"
          ]
        }
      ],
      "source": [
        "print(\"\\n\" + \"=\"*80)\n",
        "print(\"AVAILABLE MEMORY TYPES\")\n",
        "print(\"=\"*80)\n",
        "\n",
        "for memory_type in MemoryType:\n",
        "    info = AgentFactory.get_memory_info(memory_type)\n",
        "    print(f\"\\n\ud83d\udcbe {info['name']} ({memory_type.value})\")\n",
        "    print(f\"   Description: {info['description']}\")\n",
        "    print(f\"   Use case: {info['use_case']}\")\n",
        "    print(f\"   Pros: {', '.join(info['pros'])}\")\n",
        "    print(f\"   Cons: {', '.join(info['cons'])}\")"
      ]
    },
    {
      "cell_type": "markdown",
      "metadata": {},
      "source": [
        "## Part 2: Test Simple ReAct Agent"
      ]
    },
    {
      "cell_type": "code",
      "execution_count": 6,
      "metadata": {},
      "outputs": [
        {
          "name": "stderr",
          "output_type": "stream",
          "text": [
            "INFO:src.tools.loader:\ud83d\udd27 Loading tools from configuration...\n",
            "INFO:src.tools.loader:   Found 9 tool configurations\n",
            "INFO:src.tools.loader:   \ud83d\udce6 Loading internal MCP tool: gmail\n",
            "WARNING:src.tools.loader:   \u26a0\ufe0f  Internal tool 'gmail' not found in registry\n",
            "INFO:src.tools.loader:   \ud83d\udca1 Available internal tools: datetime, calendar, webex\n",
            "INFO:src.tools.loader:   \ud83d\udce6 Loading internal MCP tool: calendar\n",
            "INFO:src.tools.loader:   \u2713 Loaded calendar from /home/shamaseen/Desktop/Projects/personal/Langchain/tutorial/whatsapp_hr_assistant/src/tools/google/calendar_mcp.py\n",
            "INFO:src.tools.loader:   \ud83d\udce6 Loading internal MCP tool: cv_sheet_manager\n",
            "WARNING:src.tools.loader:   \u26a0\ufe0f  Internal tool 'cv_sheet_manager' not found in registry\n",
            "INFO:src.tools.loader:   \ud83d\udca1 Available internal tools: datetime, calendar, webex\n",
            "INFO:src.tools.loader:   \ud83d\udce6 Loading internal MCP tool: process_cvs\n",
            "WARNING:src.tools.loader:   \u26a0\ufe0f  Internal tool 'process_cvs' not found in registry\n",
            "INFO:src.tools.loader:   \ud83d\udca1 Available internal tools: datetime, calendar, webex\n",
            "INFO:src.tools.loader:   \ud83d\udce6 Loading internal MCP tool: search_candidates\n",
            "WARNING:src.tools.loader:   \u26a0\ufe0f  Internal tool 'search_candidates' not found in registry\n",
            "INFO:src.tools.loader:   \ud83d\udca1 Available internal tools: datetime, calendar, webex\n",
            "INFO:src.tools.loader:   \ud83d\udce6 Loading internal MCP tool: search_create_sheet\n",
            "WARNING:src.tools.loader:   \u26a0\ufe0f  Internal tool 'search_create_sheet' not found in registry\n",
            "INFO:src.tools.loader:   \ud83d\udca1 Available internal tools: datetime, calendar, webex\n",
            "INFO:src.tools.loader:   \ud83c\udf10 Loading MCP client tool: datetime\n",
            "INFO:src.tools.loader:   \ud83d\udcc4 Using MCP config file: datetime.json\n"
          ]
        },
        {
          "name": "stdout",
          "output_type": "stream",
          "text": [
            "\ud83d\udd27 Loading tools from dynamic configuration\n",
            "   Config: src/config/tools.yaml\n",
            "   \u2717 Stdio connection failed: fileno\n",
            "   \u27f3 [datetime] Connection retry 1/3\n",
            "      Error: fileno\n",
            "      Waiting 0.7s before retry...\n",
            "   \u2717 Stdio connection failed: fileno\n",
            "   \u27f3 [datetime] Connection retry 2/3\n",
            "      Error: fileno\n",
            "      Waiting 1.2s before retry...\n"
          ]
        },
        {
          "name": "stderr",
          "output_type": "stream",
          "text": [
            "ERROR:src.tools.loader:   \u274c Failed to connect to datetime MCP server: fileno\n",
            "INFO:src.tools.loader:   \ud83c\udf10 Loading MCP client tool: thinking\n",
            "INFO:src.tools.loader:   \ud83d\udcc4 Using MCP config file: thinking.json\n"
          ]
        },
        {
          "name": "stdout",
          "output_type": "stream",
          "text": [
            "   \u2717 Stdio connection failed: fileno\n",
            "   \u2717 Stdio connection failed: fileno\n",
            "   \u27f3 [thinking] Connection retry 1/3\n",
            "      Error: fileno\n",
            "      Waiting 0.6s before retry...\n",
            "   \u2717 Stdio connection failed: fileno\n",
            "   \u27f3 [thinking] Connection retry 2/3\n",
            "      Error: fileno\n",
            "      Waiting 1.7s before retry...\n"
          ]
        },
        {
          "name": "stderr",
          "output_type": "stream",
          "text": [
            "ERROR:src.tools.loader:   \u274c Failed to connect to thinking MCP server: fileno\n",
            "INFO:src.tools.loader:   \ud83d\udce6 Loading internal MCP tool: webex\n",
            "INFO:src.tools.loader:   \u2713 Loaded 2 tools for webex\n",
            "WARNING:src.tools.loader:   \u26a0\ufe0f  Duplicate tool name detected, skipping: webex\n",
            "INFO:src.tools.loader:\n",
            "\u2705 Successfully loaded 2 tools (deduped from 3)\n"
          ]
        },
        {
          "name": "stdout",
          "output_type": "stream",
          "text": [
            "   \u2717 Stdio connection failed: fileno\n",
            "\n",
            "\u2705 Loaded 2 tools\n",
            "   Active MCP clients: None\n",
            "   Tool names: calendar, webex\n",
            "\u2705 LLM created: gemini-2.5-flash\n",
            "\u2705 Tools loaded: 2 tools\n"
          ]
        }
      ],
      "source": [
        "from langchain_google_genai import ChatGoogleGenerativeAI\n",
        "from src.config import settings\n",
        "from src.agents.tool_factory import get_tools\n",
        "\n",
        "# Create LLM\n",
        "llm = ChatGoogleGenerativeAI(\n",
        "    model=settings.MODEL_NAME,\n",
        "    google_api_key=settings.GOOGLE_API_KEY,\n",
        "    temperature=0.7\n",
        ")\n",
        "\n",
        "# Get tools\n",
        "tools = get_tools()\n",
        "\n",
        "print(f\"\u2705 LLM created: {settings.MODEL_NAME}\")\n",
        "print(f\"\u2705 Tools loaded: {len(tools)} tools\")"
      ]
    },
    {
      "cell_type": "code",
      "execution_count": 7,
      "metadata": {},
      "outputs": [
        {
          "name": "stderr",
          "output_type": "stream",
          "text": [
            "INFO:src.agents.factory:Creating simple_react agent with buffer memory\n"
          ]
        },
        {
          "name": "stdout",
          "output_type": "stream",
          "text": [
            "\n",
            "================================================================================\n",
            "TESTING SIMPLE REACT AGENT WITH BUFFER MEMORY\n",
            "================================================================================\n"
          ]
        },
        {
          "ename": "ModuleNotFoundError",
          "evalue": "No module named 'src.agents.implementations'",
          "output_type": "error",
          "traceback": [
            "\u001b[0;31m---------------------------------------------------------------------------\u001b[0m",
            "\u001b[0;31mModuleNotFoundError\u001b[0m                       Traceback (most recent call last)",
            "Cell \u001b[0;32mIn[7], line 7\u001b[0m\n\u001b[1;32m      5\u001b[0m \u001b[38;5;66;03m# Create Simple ReAct agent\u001b[39;00m\n\u001b[1;32m      6\u001b[0m \u001b[38;5;28;01mfrom\u001b[39;00m \u001b[38;5;21;01mlangchain_core\u001b[39;00m\u001b[38;5;21;01m.\u001b[39;00m\u001b[38;5;21;01mmessages\u001b[39;00m \u001b[38;5;28;01mimport\u001b[39;00m HumanMessage\n\u001b[0;32m----> 7\u001b[0m simple_agent \u001b[38;5;241m=\u001b[39m \u001b[43mAgentFactory\u001b[49m\u001b[38;5;241;43m.\u001b[39;49m\u001b[43mcreate_agent\u001b[49m\u001b[43m(\u001b[49m\n\u001b[1;32m      8\u001b[0m \u001b[43m    \u001b[49m\u001b[43magent_type\u001b[49m\u001b[38;5;241;43m=\u001b[39;49m\u001b[43mAgentType\u001b[49m\u001b[38;5;241;43m.\u001b[39;49m\u001b[43mSIMPLE_REACT\u001b[49m\u001b[43m,\u001b[49m\n\u001b[1;32m      9\u001b[0m \u001b[43m    \u001b[49m\u001b[43mllm\u001b[49m\u001b[38;5;241;43m=\u001b[39;49m\u001b[43mllm\u001b[49m\u001b[43m,\u001b[49m\n\u001b[1;32m     10\u001b[0m \u001b[43m    \u001b[49m\u001b[43mtools\u001b[49m\u001b[38;5;241;43m=\u001b[39;49m\u001b[43mtools\u001b[49m\u001b[43m,\u001b[49m\n\u001b[1;32m     11\u001b[0m \u001b[43m    \u001b[49m\u001b[43mmemory_type\u001b[49m\u001b[38;5;241;43m=\u001b[39;49m\u001b[43mMemoryType\u001b[49m\u001b[38;5;241;43m.\u001b[39;49m\u001b[43mBUFFER\u001b[49m\u001b[43m,\u001b[49m\n\u001b[1;32m     12\u001b[0m \u001b[43m    \u001b[49m\u001b[43magent_config\u001b[49m\u001b[38;5;241;43m=\u001b[39;49m\u001b[43m{\u001b[49m\n\u001b[1;32m     13\u001b[0m \u001b[43m        \u001b[49m\u001b[38;5;124;43m\"\u001b[39;49m\u001b[38;5;124;43mverbose\u001b[39;49m\u001b[38;5;124;43m\"\u001b[39;49m\u001b[43m:\u001b[49m\u001b[43m \u001b[49m\u001b[38;5;28;43;01mTrue\u001b[39;49;00m\u001b[43m,\u001b[49m\n\u001b[1;32m     14\u001b[0m \u001b[43m        \u001b[49m\u001b[38;5;124;43m\"\u001b[39;49m\u001b[38;5;124;43mmax_iterations\u001b[39;49m\u001b[38;5;124;43m\"\u001b[39;49m\u001b[43m:\u001b[49m\u001b[43m \u001b[49m\u001b[38;5;241;43m3\u001b[39;49m\n\u001b[1;32m     15\u001b[0m \u001b[43m    \u001b[49m\u001b[43m}\u001b[49m\n\u001b[1;32m     16\u001b[0m \u001b[43m)\u001b[49m\n\u001b[1;32m     18\u001b[0m \u001b[38;5;28mprint\u001b[39m(\u001b[38;5;124m\"\u001b[39m\u001b[38;5;130;01m\\n\u001b[39;00m\u001b[38;5;124m\u2705 Simple ReAct Agent created\u001b[39m\u001b[38;5;124m\"\u001b[39m)\n\u001b[1;32m     20\u001b[0m \u001b[38;5;66;03m# Test with simple query\u001b[39;00m\n",
            "File \u001b[0;32m~/Desktop/Projects/personal/Langchain/tutorial/whatsapp_hr_assistant/src/agents/factory.py:82\u001b[0m, in \u001b[0;36mAgentFactory.create_agent\u001b[0;34m(agent_type, llm, tools, memory_type, memory_config, agent_config)\u001b[0m\n\u001b[1;32m     80\u001b[0m \u001b[38;5;66;03m# Create appropriate agent\u001b[39;00m\n\u001b[1;32m     81\u001b[0m \u001b[38;5;28;01mif\u001b[39;00m agent_type \u001b[38;5;241m==\u001b[39m AgentType\u001b[38;5;241m.\u001b[39mSIMPLE_REACT:\n\u001b[0;32m---> 82\u001b[0m     \u001b[38;5;28;01mreturn\u001b[39;00m \u001b[43mAgentFactory\u001b[49m\u001b[38;5;241;43m.\u001b[39;49m\u001b[43m_create_simple_react_agent\u001b[49m\u001b[43m(\u001b[49m\n\u001b[1;32m     83\u001b[0m \u001b[43m        \u001b[49m\u001b[43mllm\u001b[49m\u001b[43m,\u001b[49m\u001b[43m \u001b[49m\u001b[43mtools\u001b[49m\u001b[43m,\u001b[49m\u001b[43m \u001b[49m\u001b[43mmemory_type\u001b[49m\u001b[43m,\u001b[49m\u001b[43m \u001b[49m\u001b[43mmemory_config\u001b[49m\u001b[43m,\u001b[49m\u001b[43m \u001b[49m\u001b[43magent_config\u001b[49m\n\u001b[1;32m     84\u001b[0m \u001b[43m    \u001b[49m\u001b[43m)\u001b[49m\n\u001b[1;32m     86\u001b[0m \u001b[38;5;28;01melif\u001b[39;00m agent_type \u001b[38;5;241m==\u001b[39m AgentType\u001b[38;5;241m.\u001b[39mCOMPLEX_LANGGRAPH:\n\u001b[1;32m     87\u001b[0m     \u001b[38;5;28;01mreturn\u001b[39;00m AgentFactory\u001b[38;5;241m.\u001b[39m_create_complex_langgraph_agent(\n\u001b[1;32m     88\u001b[0m         llm, tools, memory_type, memory_config, agent_config\n\u001b[1;32m     89\u001b[0m     )\n",
            "File \u001b[0;32m~/Desktop/Projects/personal/Langchain/tutorial/whatsapp_hr_assistant/src/agents/factory.py:104\u001b[0m, in \u001b[0;36mAgentFactory._create_simple_react_agent\u001b[0;34m(llm, tools, memory_type, memory_config, agent_config)\u001b[0m\n\u001b[1;32m     99\u001b[0m \u001b[38;5;129m@staticmethod\u001b[39m\n\u001b[1;32m    100\u001b[0m \u001b[38;5;28;01mdef\u001b[39;00m \u001b[38;5;21m_create_simple_react_agent\u001b[39m(\n\u001b[1;32m    101\u001b[0m     llm, tools, memory_type, memory_config, agent_config\n\u001b[1;32m    102\u001b[0m ):\n\u001b[1;32m    103\u001b[0m \u001b[38;5;250m    \u001b[39m\u001b[38;5;124;03m\"\"\"Create Simple ReAct agent\"\"\"\u001b[39;00m\n\u001b[0;32m--> 104\u001b[0m     \u001b[38;5;28;01mfrom\u001b[39;00m \u001b[38;5;21;01msrc\u001b[39;00m\u001b[38;5;21;01m.\u001b[39;00m\u001b[38;5;21;01magents\u001b[39;00m\u001b[38;5;21;01m.\u001b[39;00m\u001b[38;5;21;01mimplementations\u001b[39;00m \u001b[38;5;28;01mimport\u001b[39;00m create_simple_react_agent\n\u001b[1;32m    106\u001b[0m     \u001b[38;5;66;03m# Map memory types to simple agent compatible types\u001b[39;00m\n\u001b[1;32m    107\u001b[0m     \u001b[38;5;28;01mif\u001b[39;00m memory_type \u001b[38;5;129;01min\u001b[39;00m [MemoryType\u001b[38;5;241m.\u001b[39mPOSTGRES, MemoryType\u001b[38;5;241m.\u001b[39mSQLITE, MemoryType\u001b[38;5;241m.\u001b[39mMEMORY_SAVER]:\n",
            "\u001b[0;31mModuleNotFoundError\u001b[0m: No module named 'src.agents.implementations'"
          ]
        }
      ],
      "source": [
        "print(\"\\n\" + \"=\"*80)\nprint(\"TESTING SIMPLE REACT AGENT WITH BUFFER MEMORY\")\nprint(\"=\"*80)\n\n# Create Simple ReAct agent\nsimple_agent = AgentFactory.create_agent(\n    agent_type=AgentType.SIMPLE_REACT,\n    llm=llm,\n    tools=tools,\n    memory_type=MemoryType.BUFFER,\n    agent_config={\n        \"verbose\": True,\n        \"max_iterations\": 3\n    }\n)\n\nprint(\"\\n\u2705 Simple ReAct Agent created\")\n\n# Test with simple query\nresult = simple_agent.invoke(\"What's the current date and time?\",)\n\n\nprint(\"\\n\ud83d\udcca Result:\")\nprint(f\"   Output: {result['output'][:200]}...\")\nprint(f\"   Success: {result['success']}\")\nprint(f\"   Intermediate steps: {len(result['intermediate_steps'])} steps\")"
      ]
    },
    {
      "cell_type": "markdown",
      "metadata": {},
      "source": [
        "## Part 3: Test Complex LangGraph Agent"
      ]
    },
    {
      "cell_type": "code",
      "execution_count": null,
      "metadata": {},
      "outputs": [
        {
          "name": "stderr",
          "output_type": "stream",
          "text": [
            "INFO:src.core.agents.agent_factory:Creating complex_langgraph agent with memory memory\n",
            "INFO:src.core.agents.complex_langgraph_agent:Complex LangGraph Agent initialized with 9 tools\n"
          ]
        },
        {
          "name": "stdout",
          "output_type": "stream",
          "text": [
            "\n",
            "================================================================================\n",
            "TESTING COMPLEX LANGGRAPH AGENT WITH MEMORY CHECKPOINTER\n",
            "================================================================================\n",
            "\n",
            "\u2705 Complex LangGraph Agent created\n"
          ]
        },
        {
          "name": "stderr",
          "output_type": "stream",
          "text": [
            "INFO:src.core.agents.complex_langgraph_agent:Plan created: Here's my understanding of your request:\n",
            "\n",
            "You would like me to plan a meeting for tomorrow at 2:00 PM. Before proceeding with the meeting setup, you want me to check your calendar to ensure you are av...\n",
            "INFO:src.core.agents.complex_langgraph_agent:Reflection: I understand. How can I help you?...\n"
          ]
        },
        {
          "name": "stdout",
          "output_type": "stream",
          "text": [
            "\n",
            "\ud83d\udcca Result:\n",
            "   Output: ['Okay, I\\'ve checked the current date and time, which is Friday, May 10, 2024, at 11:37 AM UTC.\\n\\nTherefore, \"tomorrow\" will be **Saturday, May 11, 2024**.\\n\\nNow, let\\'s check your calendar to see if you\\'re available at 2:00 PM on Saturday, May 11, 2024.\\n\\nACTION: use_tool\\nTOOL: calendar\\nINPUT: {\"datetime_start\": \"2024-05-11T14:00:00\", \"datetime_end\": \"2024-05-11T15:00:00\"}\\nREASONING: I have the current date, so I can now determine tomorrow\\'s date. The user wants to plan a meeting for tomorrow at 2 PM. Before proceeding, I need to check their calendar for availability. I will use the `calendar` tool to check for conflicts between 2 PM and 3 PM tomorrow.', 'Okay, I\\'ve completed the checks!\\n\\nHere\\'s a summary of what I did and what I found:\\n\\n1.  **Determined \"Tomorrow\\'s\" Date**: I first established that \"tomorrow\" is Saturday, May 11, 2024, based on the current date and time.\\n2.  **Checked Your Calendar**: I then used your calendar to see if you have any existing appointments on Saturday, May 11, 2024, between 2:00 PM and 3:00 PM.\\n\\n**Key Finding:**\\nGood news! Your calendar shows that **you are available on Saturday, May 11, 2024, at 2:00 PM UTC**. There are no conflicting events scheduled during that time.\\n\\n**Next Steps:**\\nSince you\\'re free, we can proceed with planning your meeting. To help me set it up, could you please tell me:\\n\\n*   **What is the meeting topic or title?**\\n*   **Who should be invited to this meeting?** (e.g., specific names or email addresses)\\n*   **Do you have any other details I should know?** (e.g., a meeting description, specific duration if not 1 hour, or if it\\'s a virtual meeting and requires a link)\\n\\nOnce I have this information, I can help you create the meeting invitation.']...\n",
            "   Success: True\n",
            "   Iterations: 1\n",
            "   Reflection: I understand. How can I help you?...\n"
          ]
        }
      ],
      "source": [
        "print(\"\\n\" + \"=\"*80)\n",
        "print(\"TESTING COMPLEX LANGGRAPH AGENT WITH MEMORY CHECKPOINTER\")\n",
        "print(\"=\"*80)\n",
        "\n",
        "# Create Complex LangGraph agent\n",
        "complex_agent = AgentFactory.create_agent(\n",
        "    agent_type=AgentType.COMPLEX_LANGGRAPH,\n",
        "    llm=llm,\n",
        "    tools=tools,\n",
        "    memory_type=MemoryType.MEMORY_SAVER,  # In-memory for testing\n",
        "    agent_config={\n",
        "        \"verbose\": True,\n",
        "        \"max_iterations\": 5,\n",
        "        \"enable_reflection\": True\n",
        "    }\n",
        ")\n",
        "\n",
        "print(\"\\n\u2705 Complex LangGraph Agent created\")\n",
        "\n",
        "# Test with more complex query\n",
        "result = complex_agent.invoke(\n",
        "    \"Plan a meeting for tomorrow at 2pm. Consider checking my calendar first.\",\n",
        "    thread_id=\"test_thread_1\"\n",
        ")\n",
        "\n",
        "print(\"\\n\ud83d\udcca Result:\")\n",
        "print(f\"   Output: {result['output'][:300]}...\")\n",
        "print(f\"   Success: {result['success']}\")\n",
        "print(f\"   Iterations: {result['iterations']}\")\n",
        "if result.get('reflection'):\n",
        "    print(f\"   Reflection: {result['reflection'][:200]}...\")"
      ]
    },
    {
      "cell_type": "code",
      "execution_count": null,
      "metadata": {},
      "outputs": [
        {
          "data": {
            "image/png": "[encoded data removed]",
            "text/plain": [
              "<IPython.core.display.Image object>"
            ]
          },
          "metadata": {},
          "output_type": "display_data"
        }
      ],
      "source": [
        "from langchain_core.runnables.graph import CurveStyle, MermaidDrawMethod\n",
        "from IPython.display import display, HTML, Image\n",
        "\n",
        "display(\n",
        "    Image(\n",
        "        complex_agent.graph.get_graph().draw_mermaid_png(\n",
        "            draw_method=MermaidDrawMethod.API,\n",
        "        )\n",
        "    )\n",
        ")"
      ]
    },
    {
      "cell_type": "markdown",
      "metadata": {},
      "source": [
        "## Part 4: Test OpenMemory Integration (if available)"
      ]
    },
    {
      "cell_type": "code",
      "execution_count": null,
      "metadata": {},
      "outputs": [
        {
          "name": "stdout",
          "output_type": "stream",
          "text": [
            "\n",
            "================================================================================\n",
            "TESTING OPENMEMORY CONNECTION\n",
            "================================================================================\n",
            "\u26a0\ufe0f  OpenMemory not accessible\n",
            "   Make sure OpenMemory is running at http://localhost:3000\n"
          ]
        }
      ],
      "source": [
        "# Test OpenMemory connection\n",
        "print(\"\\n\" + \"=\"*80)\n",
        "print(\"TESTING OPENMEMORY CONNECTION\")\n",
        "print(\"=\"*80)\n",
        "\n",
        "from src.memory.openmemory import create_openmemory_client\n",
        "import asyncio\n",
        "\n",
        "async def test_openmemory():\n",
        "    try:\n",
        "        client = create_openmemory_client()\n",
        "        healthy = await client.health_check()\n",
        "        \n",
        "        if healthy:\n",
        "            print(\"\u2705 OpenMemory is healthy and accessible\")\n",
        "            \n",
        "            # Test adding a memory\n",
        "            result = await client.add_memory(\n",
        "                content=\"Test memory from notebook\",\n",
        "                user_id=\"test_user\",\n",
        "                sector=\"episodic\"\n",
        "            )\n",
        "            print(f\"\u2705 Added memory: {result.get('id', 'unknown')}\")\n",
        "            \n",
        "            # Test searching\n",
        "            memories = await client.search_memories(\n",
        "                query=\"test\",\n",
        "                user_id=\"test_user\",\n",
        "                limit=5\n",
        "            )\n",
        "            print(f\"\u2705 Found {len(memories)} memories\")\n",
        "            \n",
        "            await client.close()\n",
        "            return True\n",
        "        else:\n",
        "            print(\"\u26a0\ufe0f  OpenMemory not accessible\")\n",
        "            print(\"   Make sure OpenMemory is running at http://localhost:3000\")\n",
        "            return False\n",
        "            \n",
        "    except Exception as e:\n",
        "        print(f\"\u274c OpenMemory error: {e}\")\n",
        "        print(\"   Install with: git clone https://github.com/CaviraOSS/OpenMemory.git\")\n",
        "        return False\n",
        "\n",
        "openmemory_available = await test_openmemory()"
      ]
    },
    {
      "cell_type": "code",
      "execution_count": null,
      "metadata": {},
      "outputs": [
        {
          "name": "stdout",
          "output_type": "stream",
          "text": [
            "\n",
            "\u23ed\ufe0f  Skipping OpenMemory tests (not available)\n"
          ]
        }
      ],
      "source": [
        "# Test agent with OpenMemory (if available)\n",
        "if openmemory_available:\n",
        "    print(\"\\n\" + \"=\"*80)\n",
        "    print(\"TESTING AGENT WITH OPENMEMORY\")\n",
        "    print(\"=\"*80)\n",
        "    \n",
        "    openmemory_agent = AgentFactory.create_agent(\n",
        "        agent_type=AgentType.SIMPLE_REACT,\n",
        "        llm=llm,\n",
        "        tools=tools,\n",
        "        memory_type=MemoryType.OPENMEMORY,\n",
        "        memory_config={\n",
        "            \"user_id\": \"test_user_notebook\",\n",
        "            \"max_context_messages\": 10\n",
        "        }\n",
        "    )\n",
        "    \n",
        "    print(\"\\n\u2705 Agent with OpenMemory created\")\n",
        "    \n",
        "    # First interaction\n",
        "    result1 = openmemory_agent.invoke(\"My name is Alice and I love Python programming\")\n",
        "    print(f\"\\n\ud83d\udcac Response 1: {result1['output'][:150]}...\")\n",
        "    \n",
        "    # Second interaction (should remember)\n",
        "    result2 = openmemory_agent.invoke(\"What programming language did I mention I like?\")\n",
        "    print(f\"\\n\ud83d\udcac Response 2: {result2['output'][:150]}...\")\n",
        "    \n",
        "    # Check if it remembered\n",
        "    if \"python\" in result2['output'].lower():\n",
        "        print(\"\\n\u2705 OpenMemory successfully remembered context!\")\n",
        "    else:\n",
        "        print(\"\\n\u26a0\ufe0f  Memory recall uncertain\")\n",
        "else:\n",
        "    print(\"\\n\u23ed\ufe0f  Skipping OpenMemory tests (not available)\")"
      ]
    },
    {
      "cell_type": "markdown",
      "metadata": {},
      "source": [
        "## Part 5: Compare Agent Performance"
      ]
    },
    {
      "cell_type": "code",
      "execution_count": null,
      "metadata": {},
      "outputs": [
        {
          "name": "stdout",
          "output_type": "stream",
          "text": [
            "\n",
            "================================================================================\n",
            "AGENT PERFORMANCE COMPARISON\n",
            "================================================================================\n",
            "\n",
            "1\ufe0f\u20e3 Simple ReAct Agent:\n"
          ]
        },
        {
          "ename": "NameError",
          "evalue": "name 'simple_agent' is not defined",
          "output_type": "error",
          "traceback": [
            "\u001b[0;31m---------------------------------------------------------------------------\u001b[0m",
            "\u001b[0;31mNameError\u001b[0m                                 Traceback (most recent call last)",
            "Cell \u001b[0;32mIn[10], line 12\u001b[0m\n\u001b[1;32m     10\u001b[0m \u001b[38;5;28mprint\u001b[39m(\u001b[38;5;124m\"\u001b[39m\u001b[38;5;130;01m\\n\u001b[39;00m\u001b[38;5;124m1\ufe0f\u20e3 Simple ReAct Agent:\u001b[39m\u001b[38;5;124m\"\u001b[39m)\n\u001b[1;32m     11\u001b[0m start \u001b[38;5;241m=\u001b[39m time\u001b[38;5;241m.\u001b[39mtime()\n\u001b[0;32m---> 12\u001b[0m result1 \u001b[38;5;241m=\u001b[39m \u001b[43msimple_agent\u001b[49m\u001b[38;5;241m.\u001b[39minvoke(test_query)\n\u001b[1;32m     13\u001b[0m time1 \u001b[38;5;241m=\u001b[39m time\u001b[38;5;241m.\u001b[39mtime() \u001b[38;5;241m-\u001b[39m start\n\u001b[1;32m     14\u001b[0m \u001b[38;5;28mprint\u001b[39m(\u001b[38;5;124mf\u001b[39m\u001b[38;5;124m\"\u001b[39m\u001b[38;5;124m   Time: \u001b[39m\u001b[38;5;132;01m{\u001b[39;00mtime1\u001b[38;5;132;01m:\u001b[39;00m\u001b[38;5;124m.2f\u001b[39m\u001b[38;5;132;01m}\u001b[39;00m\u001b[38;5;124ms\u001b[39m\u001b[38;5;124m\"\u001b[39m)\n",
            "\u001b[0;31mNameError\u001b[0m: name 'simple_agent' is not defined"
          ]
        }
      ],
      "source": [
        "import time\n",
        "\n",
        "print(\"\\n\" + \"=\"*80)\n",
        "print(\"AGENT PERFORMANCE COMPARISON\")\n",
        "print(\"=\"*80)\n",
        "\n",
        "test_query = \"What's the current time?\"\n",
        "\n",
        "# Test Simple ReAct\n",
        "print(\"\\n1\ufe0f\u20e3 Simple ReAct Agent:\")\n",
        "start = time.time()\n",
        "result1 = simple_agent.invoke(test_query)\n",
        "time1 = time.time() - start\n",
        "print(f\"   Time: {time1:.2f}s\")\n",
        "print(f\"   Success: {result1['success']}\")\n",
        "\n",
        "# Test Complex LangGraph\n",
        "print(\"\\n2\ufe0f\u20e3 Complex LangGraph Agent:\")\n",
        "start = time.time()\n",
        "result2 = complex_agent.invoke(test_query, thread_id=\"perf_test\")\n",
        "time2 = time.time() - start\n",
        "print(f\"   Time: {time2:.2f}s\")\n",
        "print(f\"   Success: {result2['success']}\")\n",
        "print(f\"   Iterations: {result2['iterations']}\")\n",
        "\n",
        "# Summary\n",
        "print(\"\\n\ud83d\udcca Summary:\")\n",
        "print(f\"   Simple ReAct: {time1:.2f}s\")\n",
        "print(f\"   Complex LangGraph: {time2:.2f}s\")\n",
        "print(f\"   Difference: {abs(time2 - time1):.2f}s\")"
      ]
    },
    {
      "cell_type": "markdown",
      "metadata": {},
      "source": [
        "## Part 6: Memory Comparison"
      ]
    },
    {
      "cell_type": "code",
      "execution_count": null,
      "metadata": {},
      "outputs": [
        {
          "name": "stderr",
          "output_type": "stream",
          "text": [
            "INFO:src.core.agents.agent_factory:Creating simple_react agent with buffer memory\n"
          ]
        },
        {
          "name": "stdout",
          "output_type": "stream",
          "text": [
            "\n",
            "================================================================================\n",
            "MEMORY TYPE COMPARISON\n",
            "================================================================================\n",
            "\n",
            "\ud83e\uddea Testing Buffer Memory:\n"
          ]
        },
        {
          "name": "stderr",
          "output_type": "stream",
          "text": [
            "/home/shamaseen/Desktop/Projects/personal/Langchain/tutorial/whatsapp_hr_assistant/src/core/agents/simple_react_agent.py:238: LangChainDeprecationWarning: Please see the migration guide at: https://python.langchain.com/docs/versions/migrating_memory/\n",
            "  memory = ConversationBufferMemory(\n",
            "INFO:src.core.agents.simple_react_agent:Simple ReAct Agent initialized with 9 tools\n",
            "INFO:src.core.agents.agent_factory:Creating simple_react agent with summary memory\n",
            "/home/shamaseen/Desktop/Projects/personal/Langchain/tutorial/whatsapp_hr_assistant/src/core/agents/simple_react_agent.py:246: LangChainDeprecationWarning: Please see the migration guide at: https://python.langchain.com/docs/versions/migrating_memory/\n",
            "  memory = ConversationSummaryMemory(\n",
            "INFO:src.core.agents.simple_react_agent:Simple ReAct Agent initialized with 9 tools\n"
          ]
        },
        {
          "name": "stdout",
          "output_type": "stream",
          "text": [
            "   \u26a0\ufe0f  Memory unclear\n",
            "\n",
            "\ud83e\uddea Testing Summary Memory:\n"
          ]
        },
        {
          "name": "stderr",
          "output_type": "stream",
          "text": [
            "WARNING:langchain_google_genai.chat_models:Retrying langchain_google_genai.chat_models._chat_with_retry.<locals>._chat_with_retry in 2.0 seconds as it raised ResourceExhausted: 429 You exceeded your current quota, please check your plan and billing details. For more information on this error, head to: https://ai.google.dev/gemini-api/docs/rate-limits. To monitor your current usage, head to: https://ai.dev/usage?tab=rate-limit. \n",
            "* Quota exceeded for metric: generativelanguage.googleapis.com/generate_content_free_tier_requests, limit: 10\n",
            "Please retry in 37.524803074s. [links {\n",
            "  description: \"Learn more about Gemini API quotas\"\n",
            "  url: \"https://ai.google.dev/gemini-api/docs/rate-limits\"\n",
            "}\n",
            ", violations {\n",
            "}\n",
            ", retry_delay {\n",
            "  seconds: 37\n",
            "}\n",
            "].\n",
            "WARNING:langchain_google_genai.chat_models:Retrying langchain_google_genai.chat_models._chat_with_retry.<locals>._chat_with_retry in 4.0 seconds as it raised ResourceExhausted: 429 You exceeded your current quota, please check your plan and billing details. For more information on this error, head to: https://ai.google.dev/gemini-api/docs/rate-limits. To monitor your current usage, head to: https://ai.dev/usage?tab=rate-limit. \n",
            "* Quota exceeded for metric: generativelanguage.googleapis.com/generate_content_free_tier_requests, limit: 10\n",
            "Please retry in 35.339731661s. [links {\n",
            "  description: \"Learn more about Gemini API quotas\"\n",
            "  url: \"https://ai.google.dev/gemini-api/docs/rate-limits\"\n",
            "}\n",
            ", violations {\n",
            "}\n",
            ", retry_delay {\n",
            "  seconds: 35\n",
            "}\n",
            "].\n",
            "WARNING:langchain_google_genai.chat_models:Retrying langchain_google_genai.chat_models._chat_with_retry.<locals>._chat_with_retry in 8.0 seconds as it raised ResourceExhausted: 429 You exceeded your current quota, please check your plan and billing details. For more information on this error, head to: https://ai.google.dev/gemini-api/docs/rate-limits. To monitor your current usage, head to: https://ai.dev/usage?tab=rate-limit. \n",
            "* Quota exceeded for metric: generativelanguage.googleapis.com/generate_content_free_tier_requests, limit: 10\n",
            "Please retry in 31.108349521s. [links {\n",
            "  description: \"Learn more about Gemini API quotas\"\n",
            "  url: \"https://ai.google.dev/gemini-api/docs/rate-limits\"\n",
            "}\n",
            ", violations {\n",
            "}\n",
            ", retry_delay {\n",
            "  seconds: 31\n",
            "}\n",
            "].\n",
            "WARNING:langchain_google_genai.chat_models:Retrying langchain_google_genai.chat_models._chat_with_retry.<locals>._chat_with_retry in 16.0 seconds as it raised ResourceExhausted: 429 You exceeded your current quota, please check your plan and billing details. For more information on this error, head to: https://ai.google.dev/gemini-api/docs/rate-limits. To monitor your current usage, head to: https://ai.dev/usage?tab=rate-limit. \n",
            "* Quota exceeded for metric: generativelanguage.googleapis.com/generate_content_free_tier_requests, limit: 10\n",
            "Please retry in 22.916018634s. [links {\n",
            "  description: \"Learn more about Gemini API quotas\"\n",
            "  url: \"https://ai.google.dev/gemini-api/docs/rate-limits\"\n",
            "}\n",
            ", violations {\n",
            "}\n",
            ", retry_delay {\n",
            "  seconds: 22\n",
            "}\n",
            "].\n"
          ]
        }
      ],
      "source": [
        "print(\"\\n\" + \"=\"*80)\n",
        "print(\"MEMORY TYPE COMPARISON\")\n",
        "print(\"=\"*80)\n",
        "\n",
        "memory_types_to_test = [\n",
        "    (MemoryType.BUFFER, \"Buffer Memory\"),\n",
        "    (MemoryType.SUMMARY, \"Summary Memory\"),\n",
        "]\n",
        "\n",
        "for mem_type, name in memory_types_to_test:\n",
        "    print(f\"\\n\ud83e\uddea Testing {name}:\")\n",
        "    \n",
        "    try:\n",
        "        agent = AgentFactory.create_agent(\n",
        "            agent_type=AgentType.SIMPLE_REACT,\n",
        "            llm=llm,\n",
        "            tools=tools,\n",
        "            memory_type=mem_type,\n",
        "            agent_config={\"verbose\": False, \"max_iterations\": 2}\n",
        "        )\n",
        "        \n",
        "        # First message\n",
        "        result1 = agent.invoke(\"My favorite color is blue\")\n",
        "        \n",
        "        # Second message (test memory)\n",
        "        result2 = agent.invoke(\"What's my favorite color?\")\n",
        "        \n",
        "        if \"blue\" in result2['output'].lower():\n",
        "            print(f\"   \u2705 Memory works - remembered context\")\n",
        "        else:\n",
        "            print(f\"   \u26a0\ufe0f  Memory unclear\")\n",
        "            \n",
        "    except Exception as e:\n",
        "        print(f\"   \u274c Error: {e}\")\n",
        "\n",
        "print(\"\\n\u2705 Memory comparison complete!\")"
      ]
    },
    {
      "cell_type": "markdown",
      "metadata": {},
      "source": [
        "## Part 7: Configuration Example"
      ]
    },
    {
      "cell_type": "code",
      "execution_count": null,
      "metadata": {},
      "outputs": [
        {
          "name": "stderr",
          "output_type": "stream",
          "text": [
            "WARNING:src.config.tool_loader:Event loop already running, using sync wrapper\n",
            "INFO:src.config.tool_loader:\ud83d\udd27 Loading tools from configuration...\n",
            "INFO:src.config.tool_loader:   Found 9 tool configurations\n",
            "INFO:src.config.tool_loader:   \ud83d\udce6 Loading internal MCP tool: gmail\n",
            "WARNING:src.config.tool_loader:   \u26a0\ufe0f  Unknown internal tool: gmail\n",
            "INFO:src.config.tool_loader:   \ud83d\udca1 Available internal tools: datetime, calendar, webex\n",
            "INFO:src.config.tool_loader:   \ud83d\udce6 Loading internal MCP tool: calendar\n",
            "INFO:src.config.tool_loader:   \u2713 Loaded calendar\n",
            "INFO:src.config.tool_loader:   \ud83d\udce6 Loading internal MCP tool: cv_manager\n",
            "WARNING:src.config.tool_loader:   \u26a0\ufe0f  Unknown internal tool: cv_manager\n",
            "INFO:src.config.tool_loader:   \ud83d\udca1 Available internal tools: datetime, calendar, webex\n",
            "INFO:src.config.tool_loader:   \ud83d\udce6 Loading internal MCP tool: cv_processing\n",
            "WARNING:src.config.tool_loader:   \u26a0\ufe0f  Unknown internal tool: cv_processing\n",
            "INFO:src.config.tool_loader:   \ud83d\udca1 Available internal tools: datetime, calendar, webex\n",
            "INFO:src.config.tool_loader:   \ud83c\udf10 Loading MCP client tool: datetime\n",
            "INFO:src.config.tool_loader:   \ud83d\udcc4 Using MCP config file: datetime\n"
          ]
        },
        {
          "name": "stdout",
          "output_type": "stream",
          "text": [
            "\n",
            "================================================================================\n",
            "CONFIGURATION-BASED AGENT CREATION\n",
            "================================================================================\n",
            "\n",
            "\ud83d\udccb Development Config:\n",
            "   Agent: simple_react\n",
            "   Memory: buffer\n",
            "\ud83d\udd27 Using dynamic tool configuration mode\n",
            "   Config: src/config/tool_config.yaml\n"
          ]
        },
        {
          "name": "stderr",
          "output_type": "stream",
          "text": [
            "INFO:src.config.tool_loader:   \u2713 Loaded 2 tools from datetime MCP server\n",
            "INFO:src.config.tool_loader:   \ud83c\udf10 Loading MCP client tool: thinking\n",
            "INFO:src.config.tool_loader:   \ud83d\udcc4 Using MCP config file: thinking\n"
          ]
        },
        {
          "name": "stdout",
          "output_type": "stream",
          "text": [
            "   \u2713 Stdio connected: 2 tool(s) loaded\n"
          ]
        },
        {
          "name": "stderr",
          "output_type": "stream",
          "text": [
            "INFO:src.config.tool_loader:   \u2713 Loaded 4 tools from thinking MCP server\n",
            "INFO:src.config.tool_loader:   \ud83d\udce6 Loading internal MCP tool: webex\n",
            "INFO:src.config.tool_loader:   \u2713 Loaded 2 tools for webex\n",
            "INFO:src.config.tool_loader:   \u23ed\ufe0f  Skipping disabled tool: filesystem\n",
            "INFO:src.config.tool_loader:   \u23ed\ufe0f  Skipping disabled tool: custom_api\n",
            "INFO:src.config.tool_loader:\n",
            "\u2705 Successfully loaded 9 tools\n",
            "INFO:src.core.agents.agent_factory:Creating simple_react agent with buffer memory\n",
            "INFO:src.core.agents.simple_react_agent:Simple ReAct Agent initialized with 9 tools\n",
            "WARNING:src.config.tool_loader:Event loop already running, using sync wrapper\n",
            "INFO:src.config.tool_loader:\ud83d\udd27 Loading tools from configuration...\n",
            "INFO:src.config.tool_loader:   Found 9 tool configurations\n",
            "INFO:src.config.tool_loader:   \ud83d\udce6 Loading internal MCP tool: gmail\n",
            "WARNING:src.config.tool_loader:   \u26a0\ufe0f  Unknown internal tool: gmail\n",
            "INFO:src.config.tool_loader:   \ud83d\udca1 Available internal tools: datetime, calendar, webex\n",
            "INFO:src.config.tool_loader:   \ud83d\udce6 Loading internal MCP tool: calendar\n",
            "INFO:src.config.tool_loader:   \u2713 Loaded calendar\n",
            "INFO:src.config.tool_loader:   \ud83d\udce6 Loading internal MCP tool: cv_manager\n",
            "WARNING:src.config.tool_loader:   \u26a0\ufe0f  Unknown internal tool: cv_manager\n",
            "INFO:src.config.tool_loader:   \ud83d\udca1 Available internal tools: datetime, calendar, webex\n",
            "INFO:src.config.tool_loader:   \ud83d\udce6 Loading internal MCP tool: cv_processing\n",
            "WARNING:src.config.tool_loader:   \u26a0\ufe0f  Unknown internal tool: cv_processing\n",
            "INFO:src.config.tool_loader:   \ud83d\udca1 Available internal tools: datetime, calendar, webex\n",
            "INFO:src.config.tool_loader:   \ud83c\udf10 Loading MCP client tool: datetime\n",
            "INFO:src.config.tool_loader:   \ud83d\udcc4 Using MCP config file: datetime\n"
          ]
        },
        {
          "name": "stdout",
          "output_type": "stream",
          "text": [
            "   \u2713 Stdio connected: 4 tool(s) loaded\n",
            "\n",
            "\u2705 Loaded 9 tools dynamically\n",
            "   Active MCP clients: datetime, thinking\n",
            "   Tool names: calendar, datetime_get_current_time, datetime_convert_time, thinking_enhancedthinking, thinking_sequentialthinking, thinking_reset_thinking_session, thinking_get_thinking_analytics, webex, webex\n",
            "   \u2705 Agent created successfully\n",
            "\n",
            "\ud83d\udccb Production Config:\n",
            "   Agent: complex_langgraph\n",
            "   Memory: memory\n",
            "\ud83d\udd27 Using dynamic tool configuration mode\n",
            "   Config: src/config/tool_config.yaml\n"
          ]
        },
        {
          "name": "stderr",
          "output_type": "stream",
          "text": [
            "INFO:src.config.tool_loader:   \u2713 Loaded 2 tools from datetime MCP server\n",
            "INFO:src.config.tool_loader:   \ud83c\udf10 Loading MCP client tool: thinking\n",
            "INFO:src.config.tool_loader:   \ud83d\udcc4 Using MCP config file: thinking\n"
          ]
        },
        {
          "name": "stdout",
          "output_type": "stream",
          "text": [
            "   \u2713 Stdio connected: 2 tool(s) loaded\n"
          ]
        },
        {
          "name": "stderr",
          "output_type": "stream",
          "text": [
            "INFO:src.config.tool_loader:   \u2713 Loaded 4 tools from thinking MCP server\n",
            "INFO:src.config.tool_loader:   \ud83d\udce6 Loading internal MCP tool: webex\n",
            "INFO:src.config.tool_loader:   \u2713 Loaded 2 tools for webex\n",
            "INFO:src.config.tool_loader:   \u23ed\ufe0f  Skipping disabled tool: filesystem\n",
            "INFO:src.config.tool_loader:   \u23ed\ufe0f  Skipping disabled tool: custom_api\n",
            "INFO:src.config.tool_loader:\n",
            "\u2705 Successfully loaded 9 tools\n",
            "INFO:src.core.agents.agent_factory:Creating complex_langgraph agent with memory memory\n",
            "INFO:src.core.agents.complex_langgraph_agent:Complex LangGraph Agent initialized with 9 tools\n"
          ]
        },
        {
          "name": "stdout",
          "output_type": "stream",
          "text": [
            "   \u2713 Stdio connected: 4 tool(s) loaded\n",
            "\n",
            "\u2705 Loaded 9 tools dynamically\n",
            "   Active MCP clients: datetime, thinking\n",
            "   Tool names: calendar, datetime_get_current_time, datetime_convert_time, thinking_enhancedthinking, thinking_sequentialthinking, thinking_reset_thinking_session, thinking_get_thinking_analytics, webex, webex\n",
            "   \u2705 Agent created successfully\n"
          ]
        }
      ],
      "source": [
        "print(\"\\n\" + \"=\"*80)\n",
        "print(\"CONFIGURATION-BASED AGENT CREATION\")\n",
        "print(\"=\"*80)\n",
        "\n",
        "from src.agents.factory import create_agent_from_config\n",
        "\n",
        "# Example configurations\n",
        "configs = [\n",
        "    {\n",
        "        \"name\": \"Development Config\",\n",
        "        \"agent_type\": \"simple_react\",\n",
        "        \"memory_type\": \"buffer\",\n",
        "        \"agent_config\": {\"verbose\": True, \"max_iterations\": 3}\n",
        "    },\n",
        "    {\n",
        "        \"name\": \"Production Config\",\n",
        "        \"agent_type\": \"complex_langgraph\",\n",
        "        \"memory_type\": \"memory\",  # Would be postgres in real production\n",
        "        \"agent_config\": {\"verbose\": False, \"enable_reflection\": True}\n",
        "    }\n",
        "]\n",
        "\n",
        "for config in configs:\n",
        "    print(f\"\\n\ud83d\udccb {config['name']}:\")\n",
        "    print(f\"   Agent: {config['agent_type']}\")\n",
        "    print(f\"   Memory: {config['memory_type']}\")\n",
        "    \n",
        "    try:\n",
        "        agent = create_agent_from_config(config)\n",
        "        print(f\"   \u2705 Agent created successfully\")\n",
        "    except Exception as e:\n",
        "        print(f\"   \u274c Error: {e}\")"
      ]
    },
    {
      "cell_type": "markdown",
      "metadata": {},
      "source": [
        "## Summary\n",
        "\n",
        "This notebook demonstrated:\n",
        "\n",
        "\u2705 **Simple ReAct Agent** - Fast, simple, easy to understand\n",
        "\u2705 **Complex LangGraph Agent** - Advanced with reflection and graph workflows\n",
        "\u2705 **Multiple Memory Types** - Buffer, Summary, and OpenMemory\n",
        "\u2705 **Performance Comparison** - Speed and capability trade-offs\n",
        "\u2705 **Configuration System** - Easy switching between setups\n",
        "\n",
        "## Next Steps\n",
        "\n",
        "1. Configure your preferred agent in `.env`:\n",
        "   ```bash\n",
        "   AGENT_TYPE=simple_react  # or complex_langgraph, hr_agent\n",
        "   MEMORY_TYPE=buffer       # or postgres, openmemory, etc.\n",
        "   ```\n",
        "\n",
        "2. For production, use:\n",
        "   ```bash\n",
        "   AGENT_TYPE=complex_langgraph\n",
        "   MEMORY_TYPE=postgres\n",
        "   DATABASE_URL=postgresql://...\n",
        "   ```\n",
        "\n",
        "3. For OpenMemory, see `docs/AGENT_MEMORY_GUIDE.md`\n",
        "\n",
        "## Documentation\n",
        "\n",
        "- **Agent & Memory Guide**: `docs/AGENT_MEMORY_GUIDE.md`\n",
        "- **OpenMemory**: https://github.com/CaviraOSS/OpenMemory\n",
        "- **LangGraph**: https://langchain-ai.github.io/langgraph/"
      ]
    }
  ],
  "metadata": {
    "kernelspec": {
      "display_name": "Python 3",
      "language": "python",
      "name": "python3"
    },
    "language_info": {
      "codemirror_mode": {
        "name": "ipython",
        "version": 3
      },
      "file_extension": ".py",
      "mimetype": "text/x-python",
      "name": "python",
      "nbconvert_exporter": "python",
      "pygments_lexer": "ipython3",
      "version": "3.10.8"
    }
  },
  "nbformat": 4,
  "nbformat_minor": 4
}