{
  "cells": [
    {
      "cell_type": "markdown",
      "metadata": {},
      "source": [
        "# \ud83d\udcc1 New Repository Structure\n",
        "\n",
        "**Configuration files have been moved to be more accessible:**\n",
        "\n",
        "- **Tool Config**: `config/tools.yaml` (was `src/config/tools/config.yaml`)\n",
        "- **MCP Servers**: `config/mcp_servers/*.json` (was `src/mcp_integration/servers/*.json`)\n",
        "\n",
        "**Benefits:**\n",
        "- \u2705 Easy to find at project root level\n",
        "- \u2705 Clear separation of config vs code\n",
        "- \u2705 Auto-discovery still works\n",
        "\n",
        "**To view available tools:**\n",
        "```bash\n",
        "python -m src.config.tools.registry\n",
        "```\n",
        "\n",
        "---\n"
      ]
    },
    {
      "cell_type": "markdown",
      "metadata": {},
      "source": [
        "# Complete System Test - All Features\n",
        "\n",
        "This notebook tests the entire WhatsApp HR Assistant system including:\n",
        "- \u2705 Tool discovery and loading\n",
        "- \u2705 All agent types (Simple ReAct, Complex LangGraph, HR Agent)\n",
        "- \u2705 All memory types (Buffer, Summary, PostgreSQL, OpenMemory)\n",
        "- \u2705 Agent Factory and selection system\n",
        "\n",
        "## Setup"
      ]
    },
    {
      "cell_type": "code",
      "execution_count": 1,
      "metadata": {},
      "outputs": [
        {
          "name": "stdout",
          "output_type": "stream",
          "text": [
            "\u2705 Project root: /home/shamaseen/Desktop/Projects/personal/Langchain/tutorial/whatsapp_hr_assistant\n",
            "\u2705 Python 3.10.8 (main, Nov 24 2022, 14:13:03) [GCC 11.2.0]\n"
          ]
        }
      ],
      "source": [
        "import sys\n",
        "from pathlib import Path\n",
        "\n",
        "project_root = Path.cwd().parent.parent\n",
        "if str(project_root) not in sys.path:\n",
        "    sys.path.insert(0, str(project_root))\n",
        "\n",
        "import logging\n",
        "logging.basicConfig(level=logging.INFO)\n",
        "\n",
        "print(f\"\u2705 Project root: {project_root}\")\n",
        "print(f\"\u2705 Python {sys.version}\")"
      ]
    },
    {
      "cell_type": "markdown",
      "metadata": {},
      "source": [
        "## Part 1: Test Tool Discovery System"
      ]
    },
    {
      "cell_type": "code",
      "execution_count": 2,
      "metadata": {},
      "outputs": [
        {
          "name": "stdout",
          "output_type": "stream",
          "text": [
            "================================================================================\n",
            "TOOL DISCOVERY SYSTEM TEST\n",
            "================================================================================\n"
          ]
        },
        {
          "ename": "ImportError",
          "evalue": "cannot import name 'ToolDiscovery' from 'src.core.tools' (/home/shamaseen/Desktop/Projects/personal/Langchain/tutorial/whatsapp_hr_assistant/src/core/tools/__init__.py)",
          "output_type": "error",
          "traceback": [
            "\u001b[0;31m---------------------------------------------------------------------------\u001b[0m",
            "\u001b[0;31mImportError\u001b[0m                               Traceback (most recent call last)",
            "Cell \u001b[0;32mIn[2], line 5\u001b[0m\n\u001b[1;32m      2\u001b[0m \u001b[38;5;28mprint\u001b[39m(\u001b[38;5;124m\"\u001b[39m\u001b[38;5;124mTOOL DISCOVERY SYSTEM TEST\u001b[39m\u001b[38;5;124m\"\u001b[39m)\n\u001b[1;32m      3\u001b[0m \u001b[38;5;28mprint\u001b[39m(\u001b[38;5;124m\"\u001b[39m\u001b[38;5;124m=\u001b[39m\u001b[38;5;124m\"\u001b[39m\u001b[38;5;241m*\u001b[39m\u001b[38;5;241m80\u001b[39m)\n\u001b[0;32m----> 5\u001b[0m \u001b[38;5;28;01mfrom\u001b[39;00m \u001b[38;5;21;01msrc\u001b[39;00m\u001b[38;5;21;01m.\u001b[39;00m\u001b[38;5;21;01mcore\u001b[39;00m\u001b[38;5;21;01m.\u001b[39;00m\u001b[38;5;21;01mtools\u001b[39;00m \u001b[38;5;28;01mimport\u001b[39;00m ToolDiscovery\n\u001b[1;32m      6\u001b[0m \u001b[38;5;28;01mfrom\u001b[39;00m \u001b[38;5;21;01msrc\u001b[39;00m\u001b[38;5;21;01m.\u001b[39;00m\u001b[38;5;21;01mcore\u001b[39;00m\u001b[38;5;21;01m.\u001b[39;00m\u001b[38;5;21;01mtools\u001b[39;00m \u001b[38;5;28;01mimport\u001b[39;00m ToolInspector\n\u001b[1;32m      8\u001b[0m \u001b[38;5;66;03m# Test discovery\u001b[39;00m\n",
            "\u001b[0;31mImportError\u001b[0m: cannot import name 'ToolDiscovery' from 'src.core.tools' (/home/shamaseen/Desktop/Projects/personal/Langchain/tutorial/whatsapp_hr_assistant/src/core/tools/__init__.py)"
          ]
        }
      ],
      "source": [
        "print(\"=\"*80)\n",
        "print(\"TOOL DISCOVERY SYSTEM TEST\")\n",
        "print(\"=\"*80)\n",
        "\n",
        "from src.tools import ToolDiscovery\n",
        "from src.tools import ToolInspector\n",
        "\n",
        "# Test discovery\n",
        "discovery = ToolDiscovery()\n",
        "internal_tools = discovery.discover_internal_mcp_tools()\n",
        "external_configs = discovery.discover_mcp_configs()\n",
        "\n",
        "print(f\"\\n\u2705 Internal MCP Tools: {len(internal_tools)} groups\")\n",
        "for name in sorted(internal_tools.keys()):\n",
        "    print(f\"   \u2022 {name}\")\n",
        "\n",
        "print(f\"\\n\u2705 External MCP Servers: {len(external_configs)} configs\")\n",
        "for name in sorted(external_configs.keys()):\n",
        "    print(f\"   \u2022 {name}\")\n",
        "\n",
        "# Test inspector\n",
        "inspector = ToolInspector()\n",
        "validation = inspector.validate_tool_config()\n",
        "\n",
        "print(f\"\\n\ud83d\udcca Configuration Status:\")\n",
        "print(f\"   Valid: {validation['valid']}\")\n",
        "print(f\"   Configured: {validation['tool_count']} tools\")\n",
        "print(f\"   Enabled: {validation['enabled_count']} tools\")\n",
        "\n",
        "if validation['issues']:\n",
        "    print(f\"   Issues: {len(validation['issues'])}\")\n",
        "    for issue in validation['issues'][:3]:\n",
        "        print(f\"     - {issue}\")"
      ]
    },
    {
      "cell_type": "markdown",
      "metadata": {},
      "source": [
        "## Part 2: Test New Agent System"
      ]
    },
    {
      "cell_type": "code",
      "execution_count": null,
      "metadata": {},
      "outputs": [],
      "source": [
        "print(\"\\n\" + \"=\"*80)\n",
        "print(\"AGENT & MEMORY SYSTEM TEST\")\n",
        "print(\"=\"*80)\n",
        "\n",
        "from src.agents.factory import AgentFactory, AgentType, MemoryType\n",
        "\n",
        "# Test Agent Types\n",
        "print(\"\\n\ud83d\udce6 Available Agent Types:\")\n",
        "for agent_type in AgentType:\n",
        "    info = AgentFactory.get_agent_info(agent_type)\n",
        "    print(f\"\\n   {info['name']} ({agent_type.value})\")\n",
        "    print(f\"      {info['description']}\")\n",
        "    print(f\"      Best for: {info['best_for']}\")\n",
        "    \n",
        "    compatible = AgentFactory.list_compatible_memories(agent_type)\n",
        "    print(f\"      Compatible memory: {', '.join([m.value for m in compatible])}\")\n",
        "\n",
        "# Test Memory Types  \n",
        "print(\"\\n\ud83d\udcbe Available Memory Types:\")\n",
        "for memory_type in MemoryType:\n",
        "    info = AgentFactory.get_memory_info(memory_type)\n",
        "    print(f\"\\n   {info['name']} ({memory_type.value})\")\n",
        "    print(f\"      {info['description']}\")\n",
        "    print(f\"      Use case: {info['use_case']}\")"
      ]
    },
    {
      "cell_type": "markdown",
      "metadata": {},
      "source": [
        "## Part 3: Test OpenMemory Integration"
      ]
    },
    {
      "cell_type": "code",
      "execution_count": null,
      "metadata": {},
      "outputs": [],
      "source": [
        "print(\"\\n\" + \"=\"*80)\n",
        "print(\"OPENMEMORY INTEGRATION TEST\")\n",
        "print(\"=\"*80)\n",
        "\n",
        "from src.memory.openmemory import create_openmemory_client\n",
        "from src.memory.openmemory_langchain import OpenMemoryLangChain\n",
        "\n",
        "# Test client creation\n",
        "print(\"\\n1\ufe0f\u20e3 Testing OpenMemory Client:\")\n",
        "client = create_openmemory_client()\n",
        "print(f\"   \u2705 Client created\")\n",
        "print(f\"   URL: {client.base_url}\")\n",
        "print(f\"   Timeout: {client.timeout}s\")\n",
        "\n",
        "# Test LangChain wrapper\n",
        "print(\"\\n2\ufe0f\u20e3 Testing LangChain Memory Wrapper:\")\n",
        "memory = OpenMemoryLangChain(user_id=\"test_user\")\n",
        "print(f\"   \u2705 Memory wrapper created\")\n",
        "print(f\"   Memory key: {memory.memory_key}\")\n",
        "print(f\"   User ID: {memory.user_id}\")\n",
        "print(f\"   Memory variables: {memory.memory_variables}\")\n",
        "\n",
        "# Test health check (will fail if OpenMemory not running)\n",
        "print(\"\\n3\ufe0f\u20e3 Testing OpenMemory Server Connection:\")\n",
        "import asyncio\n",
        "\n",
        "async def test_health():\n",
        "    try:\n",
        "        healthy = await client.health_check()\n",
        "        if healthy:\n",
        "            print(\"   \u2705 OpenMemory server is HEALTHY\")\n",
        "            return True\n",
        "        else:\n",
        "            print(\"   \u26a0\ufe0f  OpenMemory server not responding\")\n",
        "            return False\n",
        "    except Exception as e:\n",
        "        print(f\"   \u26a0\ufe0f  OpenMemory not available: {e}\")\n",
        "        print(\"   \ud83d\udca1 To use OpenMemory, run: git clone https://github.com/CaviraOSS/OpenMemory.git\")\n",
        "        return False\n",
        "\n",
        "openmemory_available = await test_health()\n",
        "\n",
        "if not openmemory_available:\n",
        "    print(\"\\n   \u2139\ufe0f  OpenMemory tests will be skipped (server not running)\")\n",
        "    print(\"   \u2139\ufe0f  All other features work without OpenMemory\")"
      ]
    },
    {
      "cell_type": "markdown",
      "metadata": {},
      "source": [
        "## Part 4: Test Configuration System"
      ]
    },
    {
      "cell_type": "code",
      "execution_count": null,
      "metadata": {},
      "outputs": [],
      "source": [
        "print(\"\\n\" + \"=\"*80)\n",
        "print(\"CONFIGURATION SYSTEM TEST\")\n",
        "print(\"=\"*80)\n",
        "\n",
        "from src.config import settings\n",
        "\n",
        "print(\"\\n\u2705 Current Configuration:\")\n",
        "print(f\"   AGENT_TYPE: {settings.AGENT_TYPE}\")\n",
        "print(f\"   MEMORY_TYPE: {settings.MEMORY_TYPE}\")\n",
        "print(f\"   TOOL_MODE: {settings.TOOL_MODE}\")\n",
        "print(f\"   MODEL_NAME: {settings.MODEL_NAME}\")\n",
        "\n",
        "if hasattr(settings, 'OPENMEMORY_URL'):\n",
        "    print(f\"   OPENMEMORY_URL: {settings.OPENMEMORY_URL or 'Not set'}\")\n",
        "\n",
        "print(\"\\n\u2705 All configuration settings loaded successfully!\")"
      ]
    },
    {
      "cell_type": "markdown",
      "metadata": {},
      "source": [
        "## Part 5: Test Tool Loading"
      ]
    },
    {
      "cell_type": "code",
      "execution_count": null,
      "metadata": {},
      "outputs": [],
      "source": [
        "print(\"\\n\" + \"=\"*80)\n",
        "print(\"TOOL LOADING TEST\")\n",
        "print(\"=\"*80)\n",
        "\n",
        "from src.agents.tool_factory import get_tools\n",
        "\n",
        "print(\"\\n\u23f3 Loading tools...\")\n",
        "tools = get_tools()\n",
        "\n",
        "print(f\"\\n\u2705 Loaded {len(tools)} tools:\")\n",
        "for i, tool in enumerate(tools[:10], 1):  # Show first 10\n",
        "    print(f\"   {i}. {tool.name}\")\n",
        "\n",
        "if len(tools) > 10:\n",
        "    print(f\"   ... and {len(tools) - 10} more\")\n",
        "\n",
        "print(f\"\\n\u2705 All tools loaded successfully!\")"
      ]
    },
    {
      "cell_type": "markdown",
      "metadata": {},
      "source": [
        "## Part 6: Integration Test Summary"
      ]
    },
    {
      "cell_type": "code",
      "execution_count": null,
      "metadata": {},
      "outputs": [],
      "source": [
        "print(\"\\n\" + \"=\"*80)\n",
        "print(\"INTEGRATION TEST SUMMARY\")\n",
        "print(\"=\"*80)\n",
        "\n",
        "test_results = {\n",
        "    \"Tool Discovery\": True,\n",
        "    \"Tool Inspector\": True,\n",
        "    \"Agent Factory\": True,\n",
        "    \"Memory System\": True,\n",
        "    \"OpenMemory Client\": True,\n",
        "    \"Configuration\": True,\n",
        "    \"Tool Loading\": True,\n",
        "    \"OpenMemory Server\": openmemory_available\n",
        "}\n",
        "\n",
        "print(\"\\n\ud83d\udcca Test Results:\\n\")\n",
        "passed = 0\n",
        "total = len(test_results)\n",
        "\n",
        "for test_name, result in test_results.items():\n",
        "    status = \"\u2705 PASS\" if result else \"\u26a0\ufe0f  SKIP\"\n",
        "    print(f\"   {test_name:.<40} {status}\")\n",
        "    if result:\n",
        "        passed += 1\n",
        "\n",
        "print(f\"\\n{'='*80}\")\n",
        "print(f\"Total: {passed}/{total} tests passed\")\n",
        "\n",
        "if passed == total:\n",
        "    print(\"\\n\ud83c\udf89 ALL TESTS PASSED! System is fully operational!\")\n",
        "else:\n",
        "    print(f\"\\n\u2705 {passed} core tests passed\")\n",
        "    print(f\"\u26a0\ufe0f  {total - passed} optional tests skipped (OpenMemory server not running)\")\n",
        "\n",
        "print(\"\\n\ud83d\udca1 Note: OpenMemory is optional. All other features work without it.\")"
      ]
    },
    {
      "cell_type": "markdown",
      "metadata": {},
      "source": [
        "## Part 7: Quick Feature Demo"
      ]
    },
    {
      "cell_type": "code",
      "execution_count": null,
      "metadata": {},
      "outputs": [],
      "source": [
        "print(\"\\n\" + \"=\"*80)\n",
        "print(\"QUICK FEATURE DEMO\")\n",
        "print(\"=\"*80)\n",
        "\n",
        "print(\"\\n\u2728 What you can do now:\\n\")\n",
        "\n",
        "print(\"1\ufe0f\u20e3  Switch Agent Types:\")\n",
        "print(\"   Edit .env: AGENT_TYPE=simple_react\")\n",
        "print(\"   Options: simple_react, complex_langgraph, hr_agent\\n\")\n",
        "\n",
        "print(\"2\ufe0f\u20e3  Switch Memory Types:\")\n",
        "print(\"   Edit .env: MEMORY_TYPE=openmemory\")\n",
        "print(\"   Options: buffer, summary, postgres, sqlite, memory, openmemory\\n\")\n",
        "\n",
        "print(\"3\ufe0f\u20e3  Programmatic Agent Creation:\")\n",
        "print(\"\"\"   from src.agents.factory import AgentFactory, AgentType, MemoryType\n",
        "   \n",
        "   agent = AgentFactory.create_agent(\n",
        "       agent_type=AgentType.SIMPLE_REACT,\n",
        "       llm=llm,\n",
        "       tools=tools,\n",
        "       memory_type=MemoryType.BUFFER\n",
        "   )\n",
        "   \n",
        "   result = agent.invoke(\"Your query here\")\n",
        "   print(result['output'])\"\"\")\n",
        "\n",
        "print(\"\\n4\ufe0f\u20e3  Use OpenMemory (Advanced):\")\n",
        "print(\"\"\"   # Setup OpenMemory server first\n",
        "   git clone https://github.com/CaviraOSS/OpenMemory.git\n",
        "   cd OpenMemory && npm install && npm run dev\n",
        "   \n",
        "   # Then configure\n",
        "   MEMORY_TYPE=openmemory\n",
        "   OPENMEMORY_URL=http://localhost:3000\"\"\")\n",
        "\n",
        "print(\"\\n\ud83d\udcda Documentation:\")\n",
        "print(\"   \u2022 Complete Guide: docs/AGENT_MEMORY_GUIDE.md\")\n",
        "print(\"   \u2022 Summary: AGENTS_MEMORY_SUMMARY.md\")\n",
        "print(\"   \u2022 Quick Ref: QUICK_REFERENCE_AGENTS.md\")\n",
        "print(\"   \u2022 Agent Tests: tests/notebooks/06_agents_and_memory_testing.ipynb\")"
      ]
    },
    {
      "cell_type": "markdown",
      "metadata": {},
      "source": [
        "## Summary\n",
        "\n",
        "This notebook verified:\n",
        "\n",
        "\u2705 **Tool Discovery System** - Auto-discovers internal and external tools\n",
        "\u2705 **Agent Factory** - 3 agent types with flexible selection\n",
        "\u2705 **Memory System** - 6 memory backends including OpenMemory\n",
        "\u2705 **Configuration** - Easy .env-based configuration\n",
        "\u2705 **Tool Loading** - Dynamic tool loading system\n",
        "\u2705 **Integration** - All components working together\n",
        "\n",
        "## Next Steps\n",
        "\n",
        "1. **Try Different Agents**: Test notebooks/06_agents_and_memory_testing.ipynb\n",
        "2. **Configure Your Setup**: Edit .env with your preferences\n",
        "3. **Explore OpenMemory**: Follow setup guide in docs/AGENT_MEMORY_GUIDE.md\n",
        "4. **Run Your App**: python main.py\n",
        "\n",
        "Your WhatsApp HR Assistant is now a flexible, multi-agent platform! \ud83d\ude80"
      ]
    }
  ],
  "metadata": {
    "kernelspec": {
      "display_name": "Python 3",
      "language": "python",
      "name": "python3"
    },
    "language_info": {
      "codemirror_mode": {
        "name": "ipython",
        "version": 3
      },
      "file_extension": ".py",
      "mimetype": "text/x-python",
      "name": "python",
      "nbconvert_exporter": "python",
      "pygments_lexer": "ipython3",
      "version": "3.10.8"
    }
  },
  "nbformat": 4,
  "nbformat_minor": 4
}