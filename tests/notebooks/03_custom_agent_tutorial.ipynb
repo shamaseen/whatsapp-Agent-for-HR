{
  "cells": [
    {
      "cell_type": "markdown",
      "metadata": {},
      "source": [
        "# 📁 New Repository Structure\n",
        "\n",
        "**Configuration files have been moved to be more accessible:**\n",
        "\n",
        "- **Tool Config**: `config/tools.yaml` (was `src/config/tools/config.yaml`)\n",
        "- **MCP Servers**: `config/mcp_servers/*.json` (was `src/mcp_integration/servers/*.json`)\n",
        "\n",
        "**Benefits:**\n",
        "- ✅ Easy to find at project root level\n",
        "- ✅ Clear separation of config vs code\n",
        "- ✅ Auto-discovery still works\n",
        "\n",
        "**To view available tools:**\n",
        "```bash\n",
        "python -m src.config.tools.registry\n",
        "```\n",
        "\n",
        "---\n"
      ]
    },
    {
      "cell_type": "markdown",
      "metadata": {},
      "source": [
        "# Custom Agent Creation Tutorial\n",
        "\n",
        "This notebook teaches you how to build a custom LangGraph agent from scratch.\n",
        "\n",
        "## 📚 What You'll Learn\n",
        "1. Load and configure tools\n",
        "2. Create and bind LLM with tools\n",
        "3. Define agent state and logic\n",
        "4. Build LangGraph workflow\n",
        "5. Add memory with PostgreSQL checkpointer\n",
        "6. Test your custom agent\n",
        "7. Customize agent behavior\n",
        "\n",
        "**Last Updated**: January 2025"
      ]
    },
    {
      "cell_type": "markdown",
      "metadata": {},
      "source": [
        "## Setup"
      ]
    },
    {
      "cell_type": "code",
      "execution_count": 3,
      "metadata": {},
      "outputs": [
        {
          "name": "stdout",
          "output_type": "stream",
          "text": [
            "✅ Project root: /home/shamaseen/Desktop/Projects/personal/Langchain\n",
            "✅ Current directory: /home/shamaseen/Desktop/Projects/personal/Langchain\n"
          ]
        }
      ],
      "source": [
        "import sys\n",
        "import os\n",
        "\n",
        "# Add project root to path\n",
        "project_root = os.path.abspath('../..')\n",
        "if project_root not in sys.path:\n",
        "    sys.path.insert(0, project_root)\n",
        "os.chdir(project_root)\n",
        "\n",
        "print(f\"✅ Project root: {project_root}\")\n",
        "print(f\"✅ Current directory: {os.getcwd()}\")"
      ]
    },
    {
      "cell_type": "code",
      "execution_count": 4,
      "metadata": {},
      "outputs": [
        {
          "name": "stdout",
          "output_type": "stream",
          "text": [
            "Loaded 8 tools: ['gmail', 'calendar', 'cv_sheet_manager', 'process_cvs', 'search_candidates', 'search_create_sheet', 'datetime', 'webex']\n"
          ]
        }
      ],
      "source": [
        "# VERIFY_TOOLLOADER_AND_IMPORTS\n",
        "from src.tools import ToolLoader\n",
        "from src.mcp_integration.protocol import MCPTool\n",
        "\n",
        "loader = ToolLoader()\n",
        "tools = loader.get_tools()\n",
        "print(f'Loaded {len(tools)} tools: {[t.name for t in tools]}')\n"
      ]
    },
    {
      "cell_type": "markdown",
      "metadata": {},
      "source": [
        "## Step 1: Load Tools\n",
        "\n",
        "First, let's load the tools our agent will use"
      ]
    },
    {
      "cell_type": "code",
      "execution_count": 5,
      "metadata": {},
      "outputs": [
        {
          "name": "stdout",
          "output_type": "stream",
          "text": [
            "Step 1: Loading Tools\n",
            "============================================================\n",
            "🔧 Loading tools from dynamic configuration\n",
            "   Config: src/config/tools.yaml\n",
            "\n",
            "✅ Loaded 8 tools\n",
            "   Active MCP clients: None\n",
            "   Tool names: gmail, calendar, cv_sheet_manager, process_cvs, search_candidates, search_create_sheet, datetime, webex\n",
            "✅ Loaded 8 tool(s)\n",
            "\n",
            "Tool details:\n",
            "  1. gmail\n",
            "     Send and manage emails via Gmail API.\n",
            "\n",
            "Operations:\n",
            "- send_email: Send an email t...\n",
            "  2. calendar\n",
            "     Manage calendar events and schedules.\n",
            "\n",
            "Operations:\n",
            "- create_event: Create a new ...\n",
            "  3. cv_sheet_manager\n",
            "     Manage CV data in Google Sheets with full CRUD operations.\n",
            "\n",
            "Operations:\n",
            "- read_a...\n",
            "  4. process_cvs\n",
            "     Process all CVs from Google Drive folder and extract data to sheet.\n",
            "\n",
            "Requires sh...\n",
            "  5. search_candidates\n",
            "     Search candidates in sheet and rank by job position match....\n",
            "  6. search_create_sheet\n",
            "     Search for sheet by name, create if not found. Returns sheet_id....\n",
            "  7. datetime\n",
            "     Get current date/time and perform time operations.\n",
            "\n",
            "Operations:\n",
            "- get_current: G...\n",
            "  8. webex\n",
            "     Manage Webex meetings with email notifications.\n",
            "\n",
            "Operations:\n",
            "- create_meeting: S...\n",
            "\n",
            "============================================================\n",
            "✅ Tools loaded successfully!\n"
          ]
        }
      ],
      "source": [
        "from src.agents.tool_factory import get_tools\n",
        "\n",
        "print(\"Step 1: Loading Tools\\n\" + \"=\"*60)\n",
        "\n",
        "# Get all available tools\n",
        "tools = get_tools()\n",
        "\n",
        "print(f\"✅ Loaded {len(tools)} tool(s)\")\n",
        "print(\"\\nTool details:\")\n",
        "for i, tool in enumerate(tools, 1):\n",
        "    if hasattr(tool, 'name'):\n",
        "        print(f\"  {i}. {tool.name}\")\n",
        "        if hasattr(tool, 'description'):\n",
        "            print(f\"     {tool.description[:80]}...\")\n",
        "    else:\n",
        "        print(f\"  {i}. {type(tool).__name__}\")\n",
        "\n",
        "print(\"\\n\" + \"=\"*60)\n",
        "print(\"✅ Tools loaded successfully!\")"
      ]
    },
    {
      "cell_type": "markdown",
      "metadata": {},
      "source": [
        "## Step 2: Create and Configure LLM\n",
        "\n",
        "Create the LLM and bind it to our tools"
      ]
    },
    {
      "cell_type": "code",
      "execution_count": 6,
      "metadata": {},
      "outputs": [
        {
          "name": "stdout",
          "output_type": "stream",
          "text": [
            "Step 2: Creating LLM\n",
            "============================================================\n",
            "✅ LLM created\n",
            "   Model: gemini-2.5-flash\n",
            "   Temperature: 0.7\n",
            "\n",
            "✅ Tools bound to LLM\n",
            "   8 tool(s) available to the agent\n",
            "\n",
            "============================================================\n",
            "✅ LLM configured successfully!\n"
          ]
        }
      ],
      "source": [
        "from langchain_google_genai import ChatGoogleGenerativeAI\n",
        "from src.config import settings\n",
        "\n",
        "print(\"Step 2: Creating LLM\\n\" + \"=\"*60)\n",
        "\n",
        "# Create the LLM\n",
        "llm = ChatGoogleGenerativeAI(\n",
        "    model=settings.MODEL_NAME,\n",
        "    api_key=settings.GOOGLE_API_KEY,\n",
        "    temperature=settings.TEMPERATURE\n",
        ")\n",
        "\n",
        "print(f\"✅ LLM created\")\n",
        "print(f\"   Model: {settings.MODEL_NAME}\")\n",
        "print(f\"   Temperature: {settings.TEMPERATURE}\")\n",
        "\n",
        "# Bind tools to LLM\n",
        "llm_with_tools = llm.bind_tools(tools)\n",
        "\n",
        "print(f\"\\n✅ Tools bound to LLM\")\n",
        "print(f\"   {len(tools)} tool(s) available to the agent\")\n",
        "\n",
        "print(\"\\n\" + \"=\"*60)\n",
        "print(\"✅ LLM configured successfully!\")"
      ]
    },
    {
      "cell_type": "markdown",
      "metadata": {},
      "source": [
        "## Step 3: Define Agent State\n",
        "\n",
        "Define the state that will be passed through the agent graph"
      ]
    },
    {
      "cell_type": "code",
      "execution_count": 7,
      "metadata": {},
      "outputs": [
        {
          "name": "stdout",
          "output_type": "stream",
          "text": [
            "Step 3: Defining Agent State\n",
            "============================================================\n",
            "✅ Agent state defined\n",
            "\n",
            "State fields:\n",
            "  • messages: List[BaseMessage] - Conversation history\n",
            "  • sender_phone: str - User's phone number\n",
            "  • sender_identifier: str - WhatsApp identifier\n",
            "\n",
            "============================================================\n",
            "✅ State definition complete!\n"
          ]
        }
      ],
      "source": [
        "from langgraph.graph import MessagesState\n",
        "from typing import TypedDict\n",
        "\n",
        "print(\"Step 3: Defining Agent State\\n\" + \"=\"*60)\n",
        "\n",
        "# Define custom state extending MessagesState\n",
        "class AgentState(MessagesState):\n",
        "    \"\"\"Custom agent state with additional fields\"\"\"\n",
        "    sender_phone: str  # WhatsApp phone number\n",
        "    sender_identifier: str  # WhatsApp identifier\n",
        "\n",
        "print(\"✅ Agent state defined\")\n",
        "print(\"\\nState fields:\")\n",
        "print(\"  • messages: List[BaseMessage] - Conversation history\")\n",
        "print(\"  • sender_phone: str - User's phone number\")\n",
        "print(\"  • sender_identifier: str - WhatsApp identifier\")\n",
        "\n",
        "print(\"\\n\" + \"=\"*60)\n",
        "print(\"✅ State definition complete!\")"
      ]
    },
    {
      "cell_type": "markdown",
      "metadata": {},
      "source": [
        "## Step 4: Define Agent Logic\n",
        "\n",
        "Create the functions that define the agent's behavior"
      ]
    },
    {
      "cell_type": "code",
      "execution_count": 8,
      "metadata": {},
      "outputs": [
        {
          "name": "stdout",
          "output_type": "stream",
          "text": [
            "Step 4: Defining Agent Logic\n",
            "============================================================\n",
            "✅ Defined: call_model()\n",
            "   Purpose: Calls LLM and returns response\n",
            "\n",
            "✅ Defined: should_continue()\n",
            "   Purpose: Routes to tools or ends conversation\n",
            "\n",
            "============================================================\n",
            "✅ Agent logic defined successfully!\n"
          ]
        }
      ],
      "source": [
        "from langchain_core.messages import SystemMessage\n",
        "from langgraph.graph import END\n",
        "from src.agents.prompts import SYSTEM_PROMPT\n",
        "\n",
        "print(\"Step 4: Defining Agent Logic\\n\" + \"=\"*60)\n",
        "\n",
        "# Function 1: Call the model\n",
        "def call_model(state: AgentState):\n",
        "    \"\"\"\n",
        "    Call the LLM with the current conversation state.\n",
        "    Adds system prompt if not present.\n",
        "    \"\"\"\n",
        "    messages = state['messages']\n",
        "    \n",
        "    # Add system prompt if not present\n",
        "    if not messages or not isinstance(messages[0], SystemMessage):\n",
        "        messages = [SystemMessage(content=SYSTEM_PROMPT)] + messages\n",
        "    \n",
        "    # Call LLM\n",
        "    response = llm_with_tools.invoke(messages)\n",
        "    \n",
        "    # Return new state with response\n",
        "    return {\"messages\": [response]}\n",
        "\n",
        "print(\"✅ Defined: call_model()\")\n",
        "print(\"   Purpose: Calls LLM and returns response\")\n",
        "\n",
        "# Function 2: Decide next step\n",
        "def should_continue(state: AgentState):\n",
        "    \"\"\"\n",
        "    Determine if the agent should continue or end.\n",
        "    If the last message has tool calls, route to tools.\n",
        "    Otherwise, end the conversation.\n",
        "    \"\"\"\n",
        "    messages = state['messages']\n",
        "    last_message = messages[-1]\n",
        "    \n",
        "    # If there are tool calls, continue to tools\n",
        "    if hasattr(last_message, 'tool_calls') and last_message.tool_calls:\n",
        "        return \"tools\"\n",
        "    \n",
        "    # Otherwise, end\n",
        "    return END\n",
        "\n",
        "print(\"\\n✅ Defined: should_continue()\")\n",
        "print(\"   Purpose: Routes to tools or ends conversation\")\n",
        "\n",
        "print(\"\\n\" + \"=\"*60)\n",
        "print(\"✅ Agent logic defined successfully!\")"
      ]
    },
    {
      "cell_type": "markdown",
      "metadata": {},
      "source": [
        "## Step 5: Build LangGraph Workflow\n",
        "\n",
        "Assemble the agent graph with nodes and edges"
      ]
    },
    {
      "cell_type": "code",
      "execution_count": 9,
      "metadata": {},
      "outputs": [
        {
          "name": "stdout",
          "output_type": "stream",
          "text": [
            "Step 5: Building LangGraph Workflow\n",
            "============================================================\n",
            "✅ Graph created\n",
            "\n",
            "Adding nodes:\n",
            "  1. agent - Calls the LLM\n",
            "  2. tools - Executes tool calls\n",
            "\n",
            "Adding edges:\n",
            "  • START → agent\n",
            "  • agent → tools (if tool calls present)\n",
            "  • agent → END (if no tool calls)\n",
            "  • tools → agent (for next iteration)\n",
            "\n",
            "============================================================\n",
            "✅ Workflow built successfully!\n",
            "\n",
            "Graph structure:\n",
            "  START → agent ⇄ tools\n",
            "            ↓\n",
            "           END\n"
          ]
        }
      ],
      "source": [
        "from langgraph.graph import StateGraph, START, END\n",
        "from langgraph.prebuilt import ToolNode\n",
        "\n",
        "print(\"Step 5: Building LangGraph Workflow\\n\" + \"=\"*60)\n",
        "\n",
        "# Create the graph\n",
        "workflow = StateGraph(AgentState)\n",
        "\n",
        "print(\"✅ Graph created\\n\")\n",
        "\n",
        "# Add nodes\n",
        "print(\"Adding nodes:\")\n",
        "workflow.add_node(\"agent\", call_model)\n",
        "print(\"  1. agent - Calls the LLM\")\n",
        "\n",
        "workflow.add_node(\"tools\", ToolNode(tools))\n",
        "print(\"  2. tools - Executes tool calls\")\n",
        "\n",
        "print(\"\\nAdding edges:\")\n",
        "\n",
        "# Entry point\n",
        "workflow.add_edge(START, \"agent\")\n",
        "print(\"  • START → agent\")\n",
        "\n",
        "# Conditional edge from agent\n",
        "workflow.add_conditional_edges(\n",
        "    \"agent\",\n",
        "    should_continue,\n",
        "    {\n",
        "        \"tools\": \"tools\",  # If tools needed, go to tools\n",
        "        END: END  # Otherwise, end\n",
        "    }\n",
        ")\n",
        "print(\"  • agent → tools (if tool calls present)\")\n",
        "print(\"  • agent → END (if no tool calls)\")\n",
        "\n",
        "# Loop back from tools to agent\n",
        "workflow.add_edge(\"tools\", \"agent\")\n",
        "print(\"  • tools → agent (for next iteration)\")\n",
        "\n",
        "print(\"\\n\" + \"=\"*60)\n",
        "print(\"✅ Workflow built successfully!\")\n",
        "print(\"\\nGraph structure:\")\n",
        "print(\"  START → agent ⇄ tools\")\n",
        "print(\"            ↓\")\n",
        "print(\"           END\")"
      ]
    },
    {
      "cell_type": "markdown",
      "metadata": {},
      "source": [
        "## Step 6: Add Memory (Optional)\n",
        "\n",
        "Compile the graph with PostgreSQL checkpointer for conversation memory"
      ]
    },
    {
      "cell_type": "code",
      "execution_count": 10,
      "metadata": {},
      "outputs": [
        {
          "name": "stdout",
          "output_type": "stream",
          "text": [
            "Step 6: Adding Memory\n",
            "============================================================\n",
            "Compiling with PostgreSQL checkpointer...\n",
            "✅ LangGraph PostgreSQL checkpointer tables initialized\n",
            "✅ Checkpointer ready with autocommit=True\n",
            "✅ Agent compiled with memory\n",
            "   Conversations will persist across interactions\n",
            "\n",
            "Alternatively, compile without memory:\n",
            "  agent_without_memory = workflow.compile()\n",
            "\n",
            "============================================================\n",
            "✅ Memory configuration complete!\n"
          ]
        }
      ],
      "source": [
        "from src.memory.postgres import get_checkpointer\n",
        "\n",
        "print(\"Step 6: Adding Memory\\n\" + \"=\"*60)\n",
        "\n",
        "# Option 1: Compile with memory\n",
        "print(\"Compiling with PostgreSQL checkpointer...\")\n",
        "checkpointer = get_checkpointer()\n",
        "agent_with_memory = workflow.compile(checkpointer=checkpointer)\n",
        "\n",
        "print(\"✅ Agent compiled with memory\")\n",
        "print(\"   Conversations will persist across interactions\")\n",
        "\n",
        "# Option 2: Compile without memory (uncomment if needed)\n",
        "print(\"\\nAlternatively, compile without memory:\")\n",
        "print(\"  agent_without_memory = workflow.compile()\")\n",
        "\n",
        "print(\"\\n\" + \"=\"*60)\n",
        "print(\"✅ Memory configuration complete!\")"
      ]
    },
    {
      "cell_type": "markdown",
      "metadata": {},
      "source": [
        "## Step 7: Test Your Custom Agent\n",
        "\n",
        "Let's test the agent we just built!"
      ]
    },
    {
      "cell_type": "code",
      "execution_count": 12,
      "metadata": {},
      "outputs": [
        {
          "name": "stdout",
          "output_type": "stream",
          "text": [
            "Step 7: Testing Custom Agent\n",
            "============================================================\n",
            "\n",
            "Test 1: Simple query\n",
            "------------------------------------------------------------\n",
            "Query: list all mettings\n",
            "\n",
            "Response:\n",
            "I don't see any meetings scheduled in Webex. Would you like me to list events from your calendar instead, or perhaps create a new meeting?\n",
            "\n",
            "============================================================\n",
            "✅ Custom agent working!\n"
          ]
        }
      ],
      "source": [
        "from langchain_core.messages import HumanMessage, AIMessage\n",
        "print(\"Step 7: Testing Custom Agent\\n\" + \"=\"*60)\n",
        "\n",
        "# Test 1: Simple query\n",
        "print(\"\\nTest 1: Simple query\")\n",
        "print(\"-\" * 60)\n",
        "\n",
        "query = \"Hello! What can you help me with?\"\n",
        "print(f\"Query: {query}\\n\")\n",
        "\n",
        "# Must provide config with thread_id for checkpointer\n",
        "config={'thread_id':'just'}\n",
        "\n",
        "result = agent_with_memory.invoke({\n",
        "    \"messages\": [HumanMessage(content=query)],\n",
        "    \"sender_phone\": \"custom_test_001\",\n",
        "    \"sender_identifier\": \"test@example.com\"\n",
        "}, config=config)\n",
        "\n",
        "print(\"Response:\")\n",
        "print(result['messages'][-1].content)\n",
        "\n",
        "print(\"\\n\" + \"=\"*60)\n",
        "print(\"✅ Custom agent working!\")"
      ]
    },
    {
      "cell_type": "code",
      "execution_count": 12,
      "metadata": {},
      "outputs": [
        {
          "name": "stdout",
          "output_type": "stream",
          "text": [
            "\n",
            "Test 2: Query requiring tool call\n",
            "------------------------------------------------------------\n",
            "Query: What time is it now?\n",
            "\n",
            "Response:\n",
            "The current time is 19:25:08 UTC on Friday, October 31, 2025.\n",
            "\n",
            "Total messages in conversation: 6\n",
            "\n",
            "============================================================\n",
            "✅ Tool calling works!\n"
          ]
        }
      ],
      "source": [
        "# Test 2: Query with tool\n",
        "print(\"\\nTest 2: Query requiring tool call\")\n",
        "print(\"-\" * 60)\n",
        "\n",
        "query = \"What time is it now?\"\n",
        "print(f\"Query: {query}\\n\")\n",
        "\n",
        "\n",
        "\n",
        "result = agent_with_memory.invoke({\n",
        "    \"messages\": [HumanMessage(content=query)],\n",
        "    \"sender_phone\": \"custom_test_002\",\n",
        "    \"sender_identifier\": \"test@example.com\"\n",
        "}, config=config)\n",
        "\n",
        "print(\"Response:\")\n",
        "print(result['messages'][-1].content)\n",
        "\n",
        "print(f\"\\nTotal messages in conversation: {len(result['messages'])}\")\n",
        "print(\"\\n\" + \"=\"*60)\n",
        "print(\"✅ Tool calling works!\")"
      ]
    },
    {
      "cell_type": "code",
      "execution_count": 13,
      "metadata": {},
      "outputs": [
        {
          "name": "stdout",
          "output_type": "stream",
          "text": [
            "\n",
            "Test 3: Testing memory\n",
            "------------------------------------------------------------\n",
            "First message:\n",
            "  Query: My name is Charlie.\n",
            "  Response: Hello Charlie! It's nice to meet you. How can I assist you today with your HR recruitment tasks?\n",
            "\n",
            "Second message:\n",
            "  Query: What's my name?\n",
            "  Response: Your name is Charlie.\n",
            "\n",
            "============================================================\n",
            "✅ Memory persistence works!\n"
          ]
        }
      ],
      "source": [
        "# Test 3: Memory persistence\n",
        "print(\"\\nTest 3: Testing memory\")\n",
        "print(\"-\" * 60)\n",
        "\n",
        "thread_id = \"custom_test_003\"\n",
        "\n",
        "\n",
        "# First message\n",
        "print(\"First message:\")\n",
        "query1 = \"My name is Charlie.\"\n",
        "print(f\"  Query: {query1}\")\n",
        "\n",
        "result1 = agent_with_memory.invoke({\n",
        "    \"messages\": [HumanMessage(content=query1)],\n",
        "    \"sender_phone\": thread_id,\n",
        "    \"sender_identifier\": \"charlie@example.com\"\n",
        "}, config=config)\n",
        "\n",
        "print(f\"  Response: {result1['messages'][-1].content}\\n\")\n",
        "\n",
        "# Second message\n",
        "print(\"Second message:\")\n",
        "query2 = \"What's my name?\"\n",
        "print(f\"  Query: {query2}\")\n",
        "\n",
        "result2 = agent_with_memory.invoke({\n",
        "    \"messages\": [HumanMessage(content=query2)],\n",
        "    \"sender_phone\": thread_id,\n",
        "    \"sender_identifier\": \"charlie@example.com\"\n",
        "}, config=config)\n",
        "\n",
        "print(f\"  Response: {result2['messages'][-1].content}\")\n",
        "\n",
        "print(\"\\n\" + \"=\"*60)\n",
        "print(\"✅ Memory persistence works!\")"
      ]
    },
    {
      "cell_type": "markdown",
      "metadata": {},
      "source": [
        "## Step 8: Customize Your Agent\n",
        "\n",
        "Learn how to customize the agent's behavior"
      ]
    },
    {
      "cell_type": "markdown",
      "metadata": {},
      "source": [
        "### Customization 1: Change System Prompt"
      ]
    },
    {
      "cell_type": "code",
      "execution_count": 14,
      "metadata": {},
      "outputs": [
        {
          "name": "stdout",
          "output_type": "stream",
          "text": [
            "Customization 1: Custom System Prompt\n",
            "============================================================\n",
            "✅ Created agent with custom system prompt\n",
            "\n",
            "Test it:\n",
            "That's fantastic, Charlie! We're always excited to welcome new talent. To help you with your application, could you please tell me which position you're interested in? If you have a CV ready, I can also help you process it! 😊\n"
          ]
        }
      ],
      "source": [
        "print(\"Customization 1: Custom System Prompt\\n\" + \"=\"*60)\n",
        "\n",
        "# Define custom prompt\n",
        "CUSTOM_PROMPT = \"\"\"\n",
        "You are a friendly and enthusiastic recruiting assistant.\n",
        "Always be positive and encouraging when talking to candidates.\n",
        "Use emojis occasionally to make the conversation more engaging! 😊\n",
        "\n",
        "Your main tasks:\n",
        "- Help candidates with job applications\n",
        "- Schedule interviews\n",
        "- Answer questions about positions\n",
        "\"\"\"\n",
        "\n",
        "# Define new call_model function with custom prompt\n",
        "def call_model_custom(state: AgentState):\n",
        "    messages = state['messages']\n",
        "    if not messages or not isinstance(messages[0], SystemMessage):\n",
        "        messages = [SystemMessage(content=CUSTOM_PROMPT)] + messages\n",
        "    response = llm_with_tools.invoke(messages)\n",
        "    return {\"messages\": [response]}\n",
        "\n",
        "# Build new workflow with custom function\n",
        "custom_workflow = StateGraph(AgentState)\n",
        "custom_workflow.add_node(\"agent\", call_model_custom)\n",
        "custom_workflow.add_node(\"tools\", ToolNode(tools))\n",
        "custom_workflow.add_edge(START, \"agent\")\n",
        "custom_workflow.add_conditional_edges(\n",
        "    \"agent\", should_continue, {\"tools\": \"tools\", END: END}\n",
        ")\n",
        "custom_workflow.add_edge(\"tools\", \"agent\")\n",
        "\n",
        "custom_agent = custom_workflow.compile(checkpointer=get_checkpointer())\n",
        "\n",
        "print(\"✅ Created agent with custom system prompt\")\n",
        "print(\"\\nTest it:\")\n",
        "\n",
        "\n",
        "result = custom_agent.invoke({\n",
        "    \"messages\": [HumanMessage(content=\"Hi, I'm interested in applying.\")],\n",
        "    \"sender_phone\": \"custom_prompt_test\",\n",
        "    \"sender_identifier\": \"test@example.com\"\n",
        "}, config=config)\n",
        "\n",
        "print(result['messages'][-1].content)"
      ]
    },
    {
      "cell_type": "markdown",
      "metadata": {},
      "source": [
        "### Customization 2: Select Specific Tools"
      ]
    },
    {
      "cell_type": "code",
      "execution_count": 15,
      "metadata": {},
      "outputs": [
        {
          "name": "stdout",
          "output_type": "stream",
          "text": [
            "\n",
            "Customization 2: Specific Tools Only\n",
            "============================================================\n",
            "✅ Using 2 specific tools:\n",
            "  • datetime\n",
            "  • gmail\n",
            "\n",
            "You can now build a workflow using only these specific tools!\n"
          ]
        }
      ],
      "source": [
        "print(\"\\nCustomization 2: Specific Tools Only\\n\" + \"=\"*60)\n",
        "\n",
        "# Instead of using all tools, select specific ones\n",
        "from src.tools.utilities.datetime_mcp import DateTimeMCPTool\n",
        "from src.tools.google.gmail_mcp import GmailMCPTool\n",
        "\n",
        "# Create specific tools\n",
        "datetime_tool = DateTimeMCPTool()\n",
        "gmail_tool = GmailMCPTool()\n",
        "\n",
        "# Convert to LangChain tools\n",
        "specific_tools = [\n",
        "    datetime_tool.to_langchain_tool(),\n",
        "    gmail_tool.to_langchain_tool()\n",
        "]\n",
        "\n",
        "print(f\"✅ Using {len(specific_tools)} specific tools:\")\n",
        "for tool in specific_tools:\n",
        "    print(f\"  • {tool.name}\")\n",
        "\n",
        "# Create LLM with specific tools\n",
        "llm_specific = llm.bind_tools(specific_tools)\n",
        "\n",
        "# Build workflow (similar to before, but with specific tools)\n",
        "print(\"\\nYou can now build a workflow using only these specific tools!\")\n"
      ]
    },
    {
      "cell_type": "markdown",
      "metadata": {},
      "source": [
        "### Customization 3: Add Custom State Fields"
      ]
    },
    {
      "cell_type": "code",
      "execution_count": 16,
      "metadata": {},
      "outputs": [
        {
          "name": "stdout",
          "output_type": "stream",
          "text": [
            "\n",
            "Customization 3: Custom State Fields\n",
            "============================================================\n",
            "✅ Created extended state with custom fields:\n",
            "  • candidate_name - Track candidate's name\n",
            "  • position_applied - Track position\n",
            "  • interview_count - Count interviews scheduled\n",
            "\n",
            "You can now:\n",
            "  1. Access these fields in your agent functions\n",
            "  2. Update them based on conversation\n",
            "  3. Use them for custom logic\n"
          ]
        }
      ],
      "source": [
        "print(\"\\nCustomization 3: Custom State Fields\\n\" + \"=\"*60)\n",
        "\n",
        "# Define extended state\n",
        "class ExtendedAgentState(MessagesState):\n",
        "    sender_phone: str\n",
        "    sender_identifier: str\n",
        "    # NEW: Custom fields\n",
        "    candidate_name: str = \"\"\n",
        "    position_applied: str = \"\"\n",
        "    interview_count: int = 0\n",
        "\n",
        "print(\"✅ Created extended state with custom fields:\")\n",
        "print(\"  • candidate_name - Track candidate's name\")\n",
        "print(\"  • position_applied - Track position\")\n",
        "print(\"  • interview_count - Count interviews scheduled\")\n",
        "\n",
        "print(\"\\nYou can now:\")\n",
        "print(\"  1. Access these fields in your agent functions\")\n",
        "print(\"  2. Update them based on conversation\")\n",
        "print(\"  3. Use them for custom logic\")"
      ]
    },
    {
      "cell_type": "markdown",
      "metadata": {},
      "source": [
        "## Summary\n",
        "\n",
        "Congratulations! You've learned how to build a custom LangGraph agent."
      ]
    },
    {
      "cell_type": "code",
      "execution_count": 17,
      "metadata": {},
      "outputs": [
        {
          "name": "stdout",
          "output_type": "stream",
          "text": [
            "\n",
            "================================================================================\n",
            "📚 CUSTOM AGENT TUTORIAL SUMMARY\n",
            "================================================================================\n",
            "\n",
            "✅ You learned how to:\n",
            "  1. Load and configure tools\n",
            "  2. Create and bind LLM with tools\n",
            "  3. Define agent state and logic\n",
            "  4. Build LangGraph workflow (nodes + edges)\n",
            "  5. Add memory with PostgreSQL checkpointer\n",
            "  6. Test your custom agent\n",
            "  7. Customize agent behavior\n",
            "\n",
            "🔧 Customization Options:\n",
            "  • System prompts - Change agent personality\n",
            "  • Tool selection - Choose which tools to use\n",
            "  • State fields - Add custom tracking fields\n",
            "  • Logic functions - Implement custom behaviors\n",
            "\n",
            "🎯 Key Concepts:\n",
            "  • StateGraph: Defines agent workflow\n",
            "  • Nodes: Processing steps (agent, tools)\n",
            "  • Edges: Flow control between nodes\n",
            "  • Checkpointer: Conversation memory\n",
            "  • Config: Must include thread_id for memory\n",
            "\n",
            "================================================================================\n",
            "🎉 YOU CAN NOW BUILD CUSTOM AGENTS!\n",
            "================================================================================\n",
            "\n",
            "Next Steps:\n",
            "1. Build your own agent for a specific use case\n",
            "2. Experiment with different tools and prompts\n",
            "3. Test MCP integration: See 04_mcp_integration.ipynb\n",
            "================================================================================\n"
          ]
        }
      ],
      "source": [
        "print(\"\\n\" + \"=\"*80)\n",
        "print(\"📚 CUSTOM AGENT TUTORIAL SUMMARY\")\n",
        "print(\"=\"*80)\n",
        "print(\"\")\n",
        "\n",
        "print(\"✅ You learned how to:\")\n",
        "print(\"  1. Load and configure tools\")\n",
        "print(\"  2. Create and bind LLM with tools\")\n",
        "print(\"  3. Define agent state and logic\")\n",
        "print(\"  4. Build LangGraph workflow (nodes + edges)\")\n",
        "print(\"  5. Add memory with PostgreSQL checkpointer\")\n",
        "print(\"  6. Test your custom agent\")\n",
        "print(\"  7. Customize agent behavior\")\n",
        "print(\"\")\n",
        "\n",
        "print(\"🔧 Customization Options:\")\n",
        "print(\"  • System prompts - Change agent personality\")\n",
        "print(\"  • Tool selection - Choose which tools to use\")\n",
        "print(\"  • State fields - Add custom tracking fields\")\n",
        "print(\"  • Logic functions - Implement custom behaviors\")\n",
        "print(\"\")\n",
        "\n",
        "print(\"🎯 Key Concepts:\")\n",
        "print(\"  • StateGraph: Defines agent workflow\")\n",
        "print(\"  • Nodes: Processing steps (agent, tools)\")\n",
        "print(\"  • Edges: Flow control between nodes\")\n",
        "print(\"  • Checkpointer: Conversation memory\")\n",
        "print(\"  • Config: Must include thread_id for memory\")\n",
        "print(\"\")\n",
        "\n",
        "print(\"=\"*80)\n",
        "print(\"🎉 YOU CAN NOW BUILD CUSTOM AGENTS!\")\n",
        "print(\"=\"*80)\n",
        "print(\"\")\n",
        "print(\"Next Steps:\")\n",
        "print(\"1. Build your own agent for a specific use case\")\n",
        "print(\"2. Experiment with different tools and prompts\")\n",
        "print(\"3. Test MCP integration: See 04_mcp_integration.ipynb\")\n",
        "print(\"=\"*80)"
      ]
    },
    {
      "cell_type": "code",
      "execution_count": null,
      "metadata": {},
      "outputs": [],
      "source": []
    }
  ],
  "metadata": {
    "kernelspec": {
      "display_name": "Python 3",
      "language": "python",
      "name": "python3"
    },
    "language_info": {
      "codemirror_mode": {
        "name": "ipython",
        "version": 3
      },
      "file_extension": ".py",
      "mimetype": "text/x-python",
      "name": "python",
      "nbconvert_exporter": "python",
      "pygments_lexer": "ipython3",
      "version": "3.10.8"
    }
  },
  "nbformat": 4,
  "nbformat_minor": 4
}
