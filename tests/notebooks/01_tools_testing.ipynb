{
 "cells": [
  {
   "cell_type": "markdown",
   "metadata": {},
   "source": [
    "# 📁 New Repository Structure - ✅ NEW VERSION (Updated Structure)\n",
    "\n",
    "**Configuration files have been moved to be more accessible:**\n",
    "\n",
    "- **Tool Config**: `config/tools.yaml` (was `src/config/tools/config.yaml`)\n",
    "- **MCP Servers**: `config/mcp_servers/*.json` (was `src/mcp_integration/servers/*.json`)\n",
    "\n",
    "**Benefits:**\n",
    "- ✅ Easy to find at project root level\n",
    "- ✅ Clear separation of config vs code\n",
    "- ✅ Auto-discovery still works\n",
    "\n",
    "**To view available tools:**\n",
    "```bash\n",
    "python -m src.config.tools.registry\n",
    "```\n",
    "\n",
    "---\n"
   ]
  },
  {
   "cell_type": "markdown",
   "metadata": {},
   "source": [
    "# Tools Testing Notebook\n",
    "\n",
    "This notebook tests all available tools in the WhatsApp HR Assistant system.\n",
    "\n",
    "## 🔧 Available Tools\n",
    "- **Gmail**: Send and manage emails\n",
    "- **Calendar**: Create and manage Google Calendar events\n",
    "- **Webex**: Schedule Webex meetings with email notifications\n",
    "- **CV Manager**: Manage CV data in Google Sheets\n",
    "- **CV Processing**: Process PDF CVs and extract data\n",
    "- **DateTime**: Date/time operations and timezone conversion\n",
    "- **Search Tools**: Search candidates and create sheets\n",
    "\n",
    "**Last Updated**: January 2025"
   ]
  },
  {
   "cell_type": "markdown",
   "metadata": {},
   "source": [
    "## Setup"
   ]
  },
  {
   "cell_type": "code",
   "execution_count": 1,
   "metadata": {
    "execution": {
     "iopub.execute_input": "2025-10-31T11:08:09.940028Z",
     "iopub.status.busy": "2025-10-31T11:08:09.939698Z",
     "iopub.status.idle": "2025-10-31T11:08:10.050228Z",
     "shell.execute_reply": "2025-10-31T11:08:10.049950Z"
    }
   },
   "outputs": [
    {
     "name": "stdout",
     "output_type": "stream",
     "text": [
      "✅ Project root: /home/shamaseen/Desktop/Projects/personal/Langchain/tutorial/whatsapp_hr_assistant\n",
      "✅ Current directory: /home/shamaseen/Desktop/Projects/personal/Langchain/tutorial/whatsapp_hr_assistant\n",
      "\n",
      "✅ Configuration loaded\n",
      "   Tool Mode: dynamic\n",
      "   Model: gemini-2.5-flash\n"
     ]
    }
   ],
   "source": [
    "import sys\n",
    "import os\n",
    "\n",
    "# Add project root to path\n",
    "project_root = os.path.abspath('../..')\n",
    "if project_root not in sys.path:\n",
    "    sys.path.insert(0, project_root)\n",
    "os.chdir(project_root)\n",
    "\n",
    "print(f\"✅ Project root: {project_root}\")\n",
    "print(f\"✅ Current directory: {os.getcwd()}\")\n",
    "\n",
    "# Load configuration\n",
    "from src.config import settings\n",
    "print(f\"\\n✅ Configuration loaded\")\n",
    "print(f\"   Tool Mode: {settings.TOOL_MODE}\")\n",
    "print(f\"   Model: {settings.MODEL_NAME}\")"
   ]
  },
  {
   "cell_type": "markdown",
   "metadata": {},
   "source": [
    "## Test 1: DateTime Tool\n",
    "\n",
    "Test datetime operations: get current time, parse dates, timezone conversion"
   ]
  },
  {
   "cell_type": "code",
   "execution_count": 2,
   "metadata": {
    "execution": {
     "iopub.execute_input": "2025-10-31T11:08:10.071039Z",
     "iopub.status.busy": "2025-10-31T11:08:10.070881Z",
     "iopub.status.idle": "2025-10-31T11:08:10.283389Z",
     "shell.execute_reply": "2025-10-31T11:08:10.283048Z"
    }
   },
   "outputs": [
    {
     "name": "stdout",
     "output_type": "stream",
     "text": [
      "Testing DateTime Tool\n",
      "============================================================\n",
      "✅ Tool: datetime\n",
      "   Description: Get current date/time and perform time operations.\n",
      "\n",
      "Operations:\n",
      "- get_current: Get current date and ...\n",
      "\n",
      "Test 1: Get current datetime\n",
      "✅ Current datetime: 2025-11-01T10:11:10.516485+00:00\n",
      "   Date: 2025-11-01\n",
      "   Time: 10:11:10\n",
      "\n",
      "Test 2: Parse datetime string\n",
      "✅ Parsed: None\n",
      "   ISO format: None\n",
      "\n",
      "Test 3: Convert timezone\n",
      "✅ Original: None\n",
      "   Converted: None\n",
      "   From: None → To: None\n",
      "\n",
      "============================================================\n",
      "✅ DateTime tool tests complete!\n"
     ]
    }
   ],
   "source": [
    "from src.tools.utilities.datetime_mcp import DateTimeMCPTool\n",
    "import json\n",
    "\n",
    "print(\"Testing DateTime Tool\\n\" + \"=\"*60)\n",
    "\n",
    "datetime_tool = DateTimeMCPTool()\n",
    "print(f\"✅ Tool: {datetime_tool.name}\")\n",
    "print(f\"   Description: {datetime_tool.description[:100]}...\\n\")\n",
    "\n",
    "# Test 1: Get current datetime\n",
    "print(\"Test 1: Get current datetime\")\n",
    "result = datetime_tool.execute(operation=\"get_current\")\n",
    "data = json.loads(result)\n",
    "print(f\"✅ Current datetime: {data.get('current_datetime')}\")\n",
    "print(f\"   Date: {data.get('date')}\")\n",
    "print(f\"   Time: {data.get('time')}\")\n",
    "\n",
    "# Test 2: Parse datetime\n",
    "print(\"\\nTest 2: Parse datetime string\")\n",
    "result = datetime_tool.execute(\n",
    "    operation=\"parse_datetime\",\n",
    "    datetime_str=\"2024-12-25 14:30:00\"\n",
    ")\n",
    "data = json.loads(result)\n",
    "print(f\"✅ Parsed: {data.get('parsed')}\")\n",
    "print(f\"   ISO format: {data.get('iso_format')}\")\n",
    "\n",
    "# Test 3: Timezone conversion\n",
    "print(\"\\nTest 3: Convert timezone\")\n",
    "result = datetime_tool.execute(\n",
    "    operation=\"convert_timezone\",\n",
    "    datetime_str=\"2024-12-25T14:30:00\",\n",
    "    from_tz=\"UTC\",\n",
    "    to_tz=\"America/New_York\"\n",
    ")\n",
    "data = json.loads(result)\n",
    "print(f\"✅ Original: {data.get('original')}\")\n",
    "print(f\"   Converted: {data.get('converted')}\")\n",
    "print(f\"   From: {data.get('from_tz')} → To: {data.get('to_tz')}\")\n",
    "\n",
    "print(\"\\n\" + \"=\"*60)\n",
    "print(\"✅ DateTime tool tests complete!\")"
   ]
  },
  {
   "cell_type": "markdown",
   "metadata": {},
   "source": [
    "## Test 2: Gmail Tool\n",
    "\n",
    "Test Gmail operations: send emails, read emails, manage inbox"
   ]
  },
  {
   "cell_type": "code",
   "execution_count": 3,
   "metadata": {
    "execution": {
     "iopub.execute_input": "2025-10-31T11:08:10.284829Z",
     "iopub.status.busy": "2025-10-31T11:08:10.284714Z",
     "iopub.status.idle": "2025-10-31T11:08:12.250864Z",
     "shell.execute_reply": "2025-10-31T11:08:12.250461Z"
    }
   },
   "outputs": [
    {
     "name": "stdout",
     "output_type": "stream",
     "text": [
      "🔐 Starting OAuth authentication...\n",
      "   Browser will open for authorization\n",
      "   Trying port 8080...\n",
      "Please visit this URL to authorize this application: https://accounts.google.com/o/oauth2/auth?response_type=code&client_id=858861079035-20sot503b382egfl4f5lt2tqnectstrp.apps.googleusercontent.com&redirect_uri=http%3A%2F%2Flocalhost%3A8080%2F&scope=https%3A%2F%2Fwww.googleapis.com%2Fauth%2Fdrive+https%3A%2F%2Fwww.googleapis.com%2Fauth%2Fspreadsheets+https%3A%2F%2Fwww.googleapis.com%2Fauth%2Fcalendar+https%3A%2F%2Fwww.googleapis.com%2Fauth%2Fgmail.send+https%3A%2F%2Fmail.google.com%2F+https%3A%2F%2Fwww.googleapis.com%2Fauth%2Fdrive.file&state=Q5uTHTSdOHW01jBy5QnwXvcX4S5fG3&access_type=offline\n",
      "✅ OAuth authentication successful!\n",
      "💾 OAuth token saved to token.pickle\n",
      "✅ Google Services initialized with OAuth 2.0\n",
      "Testing Gmail Tool\n",
      "============================================================\n",
      "✅ Tool: gmail\n",
      "   Description: Send and manage emails via Gmail API.\n",
      "\n",
      "Operations:\n",
      "- send_email: Send an email to one or more recipi...\n",
      "\n",
      "Test 1: Read recent emails\n",
      "✅ Found 5 email(s)\n",
      "\n",
      "   1. From: Harvard Online <harvardonline@mail.harvardonline.harvard.edu>\n",
      "      Subject: 🎃 Happy Halloween! Celebrate with our online courses\n",
      "      Date: Fri, 31 Oct 2025 08:03:20 -0600\n",
      "\n",
      "   2. From: SHEIN <shein@armail.shein.com>\n",
      "      Subject: The Numbers Don't Lie: SHEIN's Top Sellers | AD\n",
      "      Date: Fri, 31 Oct 2025 14:38:53 +0100\n",
      "\n",
      "   3. From: FutureLearn <email@hello.futurelearn.com>\n",
      "      Subject: 3 DAYS TO GO: 30% off Unlimited learning\n",
      "      Date: Fri, 31 Oct 2025 11:03:14 +0000\n",
      "\n",
      "Test 2: Send email (DRY RUN - not actually sending)\n",
      "To actually send, uncomment the code below:\n",
      "✅ Email sent! ID: 19a3ee67e3794885\n",
      "\n",
      "============================================================\n",
      "✅ Gmail tool tests complete!\n"
     ]
    }
   ],
   "source": [
    "from src.tools.google.gmail_mcp import GmailMCPTool\n",
    "import json\n",
    "\n",
    "print(\"Testing Gmail Tool\\n\" + \"=\"*60)\n",
    "\n",
    "gmail_tool = GmailMCPTool()\n",
    "print(f\"✅ Tool: {gmail_tool.name}\")\n",
    "print(f\"   Description: {gmail_tool.description[:100]}...\\n\")\n",
    "\n",
    "# Test 1: Read recent emails\n",
    "print(\"Test 1: Read recent emails\")\n",
    "result = gmail_tool.execute(\n",
    "    operation=\"get_emails\",\n",
    "    max_results=5\n",
    ")\n",
    "data = json.loads(result)\n",
    "if data.get('success'):\n",
    "    emails = data.get('emails', [])\n",
    "    print(f\"✅ Found {len(emails)} email(s)\")\n",
    "    for i, email in enumerate(emails[:3], 1):\n",
    "        print(f\"\\n   {i}. From: {email.get('from', 'Unknown')}\")\n",
    "        print(f\"      Subject: {email.get('subject', 'No subject')}\")\n",
    "        print(f\"      Date: {email.get('date', 'Unknown')}\")\n",
    "else:\n",
    "    print(f\"❌ Error: {data.get('error')}\")\n",
    "\n",
    "# Test 2: Send email (uncomment to actually send)\n",
    "print(\"\\nTest 2: Send email (DRY RUN - not actually sending)\")\n",
    "print(\"To actually send, uncomment the code below:\")\n",
    "result = gmail_tool.execute(\n",
    "    operation=\"send_email\",\n",
    "    to_email=\"recipient@example.com\",\n",
    "    subject=\"Test Email from WhatsApp HR Assistant\",\n",
    "    body=\"This is a test email sent from the tools testing notebook.\"\n",
    ")\n",
    "data = json.loads(result)\n",
    "if data.get('success'):\n",
    "    print(f\"✅ Email sent! ID: {data.get('message_id')}\")\n",
    "\n",
    "print(\"\\n\" + \"=\"*60)\n",
    "print(\"✅ Gmail tool tests complete!\")\n"
   ]
  },
  {
   "cell_type": "markdown",
   "metadata": {},
   "source": [
    "## Test 3: Calendar Tool\n",
    "\n",
    "Test Google Calendar operations: create events, list events"
   ]
  },
  {
   "cell_type": "code",
   "execution_count": 4,
   "metadata": {
    "execution": {
     "iopub.execute_input": "2025-10-31T11:08:12.252459Z",
     "iopub.status.busy": "2025-10-31T11:08:12.252331Z",
     "iopub.status.idle": "2025-10-31T11:08:12.257264Z",
     "shell.execute_reply": "2025-10-31T11:08:12.257038Z"
    }
   },
   "outputs": [
    {
     "name": "stdout",
     "output_type": "stream",
     "text": [
      "Testing Calendar Tool\n",
      "============================================================\n",
      "✅ Tool: calendar\n",
      "   Description: Manage calendar events and schedules.\n",
      "\n",
      "Operations:\n",
      "- create_event: Create a new calendar event\n",
      "- lis...\n",
      "\n",
      "Test 1: List upcoming events\n",
      "✅ Found 0 upcoming event(s)\n",
      "\n",
      "Test 2: Create calendar event (DRY RUN)\n",
      "To actually create, uncomment the code below:\n",
      "\n",
      "result = calendar_tool.execute(\n",
      "    operation=\"create_event\",\n",
      "    summary=\"Test Interview - Senior Developer\",\n",
      "    description=\"Interview scheduled via WhatsApp HR Assistant\",\n",
      "    start_time=\"2025-11-02T14:00:00.276825\",\n",
      "    end_time=\"2025-11-02T15:00:00.276825\",\n",
      "    attendees=[\"candidate@example.com\"]\n",
      ")\n",
      "data = json.loads(result)\n",
      "if data.get('success'):\n",
      "    print(f\"✅ Event created! ID: {data.get('event_id')}\")\n",
      "    print(f\"   Link: {data.get('link')}\")\n",
      "\n",
      "\n",
      "============================================================\n",
      "✅ Calendar tool tests complete!\n"
     ]
    }
   ],
   "source": [
    "from src.tools.google.calendar_mcp import CalendarMCPTool\n",
    "from datetime import datetime, timedelta\n",
    "import json\n",
    "\n",
    "print(\"Testing Calendar Tool\\n\" + \"=\"*60)\n",
    "\n",
    "calendar_tool = CalendarMCPTool()\n",
    "print(f\"✅ Tool: {calendar_tool.name}\")\n",
    "print(f\"   Description: {calendar_tool.description[:100]}...\\n\")\n",
    "\n",
    "# Test 1: List upcoming events\n",
    "print(\"Test 1: List upcoming events\")\n",
    "result = calendar_tool.execute(\n",
    "    operation=\"list_events\",\n",
    "    max_results=5\n",
    ")\n",
    "data = json.loads(result)\n",
    "if data.get('success'):\n",
    "    events = data.get('events', [])\n",
    "    print(f\"✅ Found {len(events)} upcoming event(s)\")\n",
    "    for i, event in enumerate(events, 1):\n",
    "        print(f\"\\n   {i}. {event.get('summary', 'No title')}\")\n",
    "        print(f\"      Start: {event.get('start', 'Unknown')}\")\n",
    "        print(f\"      End: {event.get('end', 'Unknown')}\")\n",
    "else:\n",
    "    print(f\"❌ Error: {data.get('error')}\")\n",
    "\n",
    "# Test 2: Create event (uncomment to actually create)\n",
    "print(\"\\nTest 2: Create calendar event (DRY RUN)\")\n",
    "print(\"To actually create, uncomment the code below:\")\n",
    "\n",
    "# Calculate start and end times (tomorrow at 2 PM for 1 hour)\n",
    "start_time = (datetime.now() + timedelta(days=1)).replace(hour=14, minute=0, second=0)\n",
    "end_time = start_time + timedelta(hours=1)\n",
    "\n",
    "print(f\"\"\"\n",
    "result = calendar_tool.execute(\n",
    "    operation=\"create_event\",\n",
    "    summary=\"Test Interview - Senior Developer\",\n",
    "    description=\"Interview scheduled via WhatsApp HR Assistant\",\n",
    "    start_time=\"{start_time.isoformat()}\",\n",
    "    end_time=\"{end_time.isoformat()}\",\n",
    "    attendees=[\"candidate@example.com\"]\n",
    ")\n",
    "data = json.loads(result)\n",
    "if data.get('success'):\n",
    "    print(f\"✅ Event created! ID: {{data.get('event_id')}}\")\n",
    "    print(f\"   Link: {{data.get('link')}}\")\n",
    "\"\"\")\n",
    "\n",
    "print(\"\\n\" + \"=\"*60)\n",
    "print(\"✅ Calendar tool tests complete!\")\n"
   ]
  },
  {
   "cell_type": "markdown",
   "metadata": {},
   "source": [
    "## Test 4: Webex Tool\n",
    "\n",
    "Test Webex meeting operations: create, list, update, delete meetings"
   ]
  },
  {
   "cell_type": "code",
   "execution_count": 5,
   "metadata": {
    "execution": {
     "iopub.execute_input": "2025-10-31T11:08:12.258486Z",
     "iopub.status.busy": "2025-10-31T11:08:12.258363Z",
     "iopub.status.idle": "2025-10-31T11:08:13.342352Z",
     "shell.execute_reply": "2025-10-31T11:08:13.342079Z"
    }
   },
   "outputs": [
    {
     "name": "stdout",
     "output_type": "stream",
     "text": [
      "🔐 No valid token found. Starting OAuth2 flow...\n",
      "\n",
      "================================================================================\n",
      "🌐 Opening browser for Webex authorization...\n",
      "================================================================================\n",
      "If browser doesn't open, visit: https://webexapis.com/v1/authorize?client_id=C5f66d2d2e775de810144b869fe4ee94c531afe5e4866a76794917792679cae85&response_type=code&redirect_uri=http%3A//localhost%3A8000/oauth/webex/callback&scope=spark%3Aall\n",
      "================================================================================\n",
      "\n",
      "⏳ Waiting for authorization...\n",
      "✓ Authorization code received!\n",
      "💾 Token saved to: .webex_token.json\n",
      "✅ Successfully authenticated with Webex!\n",
      "✓ Using OAuth2 authentication (supports token refresh)\n",
      "Testing Webex Tool\n",
      "============================================================\n",
      "✅ Webex client initialized\n",
      "\n",
      "Test 1: List upcoming meetings\n",
      "Error listing meetings: Webex API error listing meetings: [403] Forbidden - The server understood the request, but refused to fulfill it because the access token is missing required scopes or the user is missing required roles or licenses. [Tracking ID: ROUTERGW_20a2ec25-6d09-4c49-9e45-139b0dce0183]\n",
      "\n",
      "Test 2: Create Webex meeting (DRY RUN)\n",
      "To actually create, uncomment the code below:\n",
      "\n",
      "result = schedule_webex_meeting.invoke({\n",
      "    \"title\": \"Technical Interview - Senior Developer\",\n",
      "    \"start_time\": \"2025-11-02T14:00:50.172729Z\",\n",
      "    \"end_time\": \"2025-11-02T15:00:50.172741Z\",\n",
      "    \"invitees\": [\"candidate@example.com\"],\n",
      "    \"send_email\": True\n",
      "})\n",
      "print(result)\n",
      "    \n",
      "\n",
      "============================================================\n",
      "✅ Webex tool tests complete!\n"
     ]
    }
   ],
   "source": [
    "from src.tools.communication.webex_tools import (\n",
    "    schedule_webex_meeting,\n",
    "    list_webex_meetings,\n",
    "    get_webex_meeting_details,\n",
    "    update_webex_meeting,\n",
    "    delete_webex_meeting\n",
    ")\n",
    "from datetime import datetime, timedelta\n",
    "\n",
    "print(\"Testing Webex Tool\\n\" + \"=\"*60)\n",
    "\n",
    "# Check if Webex is configured\n",
    "from src.tools.communication.webex_tools import webex_client\n",
    "\n",
    "if not webex_client:\n",
    "    print(\"⚠️  Webex not configured. Please set WEBEX_CLIENT_ID and WEBEX_CLIENT_SECRET in .env\")\n",
    "    print(\"   Or run: python authorize_webex.py to complete OAuth setup\")\n",
    "else:\n",
    "    print(\"✅ Webex client initialized\\n\")\n",
    "    \n",
    "    # Test 1: List meetings\n",
    "    print(\"Test 1: List upcoming meetings\")\n",
    "    result = list_webex_meetings.invoke({\"max_meetings\": 5})\n",
    "    print(result)\n",
    "    \n",
    "    # Test 2: Create meeting (DRY RUN)\n",
    "    print(\"\\nTest 2: Create Webex meeting (DRY RUN)\")\n",
    "    print(\"To actually create, uncomment the code below:\")\n",
    "    \n",
    "    start_time = (datetime.utcnow() + timedelta(days=1)).replace(hour=14, minute=0).isoformat() + \"Z\"\n",
    "    end_time = (datetime.utcnow() + timedelta(days=1)).replace(hour=15, minute=0).isoformat() + \"Z\"\n",
    "    \n",
    "    print(f\"\"\"\n",
    "result = schedule_webex_meeting.invoke({{\n",
    "    \"title\": \"Technical Interview - Senior Developer\",\n",
    "    \"start_time\": \"{start_time}\",\n",
    "    \"end_time\": \"{end_time}\",\n",
    "    \"invitees\": [\"candidate@example.com\"],\n",
    "    \"send_email\": True\n",
    "}})\n",
    "print(result)\n",
    "    \"\"\")\n",
    "\n",
    "print(\"\\n\" + \"=\"*60)\n",
    "print(\"✅ Webex tool tests complete!\")\n"
   ]
  },
  {
   "cell_type": "markdown",
   "metadata": {},
   "source": [
    "## Test 5: CV Manager Tool\n",
    "\n",
    "Test CV management in Google Sheets: read, create, update, delete CV records"
   ]
  },
  {
   "cell_type": "code",
   "execution_count": 6,
   "metadata": {
    "execution": {
     "iopub.execute_input": "2025-10-31T11:08:13.344067Z",
     "iopub.status.busy": "2025-10-31T11:08:13.343918Z",
     "iopub.status.idle": "2025-10-31T11:08:13.347075Z",
     "shell.execute_reply": "2025-10-31T11:08:13.346803Z"
    }
   },
   "outputs": [
    {
     "name": "stdout",
     "output_type": "stream",
     "text": [
      "Testing CV Manager Tool\n",
      "============================================================\n",
      "✅ Tool: cv_sheet_manager\n",
      "   Description: Manage CV data in Google Sheets with full CRUD operations.\n",
      "\n",
      "Operations:\n",
      "- read_all_rows: Get all can...\n",
      "\n",
      "Note: CV Manager requires a sheet_id parameter.\n",
      "Example usage:\n",
      "\n",
      "# Step 1: Get or create a sheet\n",
      "result = search_create_sheet.invoke({\"sheet_name\": \"test_sheet\"})\n",
      "sheet_data = json.loads(result)\n",
      "sheet_id = sheet_data.get(\"sheet_id\")\n",
      "\n",
      "# Step 2: Use CV Manager with the sheet_id\n",
      "result = cv_manager.execute(\n",
      "    operation=\"read_all_rows\",\n",
      "    sheet_id=sheet_id\n",
      ")\n",
      "data = json.loads(result)\n",
      "print(data)\n",
      "\n",
      "\n",
      "============================================================\n",
      "✅ CV Manager tool documentation complete!\n"
     ]
    }
   ],
   "source": [
    "from src.tools.google.cv_manager_mcp import CVSheetManagerTool\n",
    "# from src.tools.google.cv_tools import search_create_sheet\n",
    "import json\n",
    "\n",
    "print(\"Testing CV Manager Tool\\n\" + \"=\"*60)\n",
    "\n",
    "cv_manager = CVSheetManagerTool()\n",
    "print(f\"✅ Tool: {cv_manager.name}\")\n",
    "print(f\"   Description: {cv_manager.description[:100]}...\\n\")\n",
    "\n",
    "# First, we need a sheet_id to work with\n",
    "# In practice, you'd get this from search_create_sheet tool\n",
    "print(\"Note: CV Manager requires a sheet_id parameter.\")\n",
    "print(\"Example usage:\")\n",
    "print(\"\"\"\n",
    "# Step 1: Get or create a sheet\n",
    "result = search_create_sheet.invoke({\"sheet_name\": \"test_sheet\"})\n",
    "sheet_data = json.loads(result)\n",
    "sheet_id = sheet_data.get(\"sheet_id\")\n",
    "\n",
    "# Step 2: Use CV Manager with the sheet_id\n",
    "result = cv_manager.execute(\n",
    "    operation=\"read_all_rows\",\n",
    "    sheet_id=sheet_id\n",
    ")\n",
    "data = json.loads(result)\n",
    "print(data)\n",
    "\"\"\")\n",
    "\n",
    "print(\"\\n\" + \"=\"*60)\n",
    "print(\"✅ CV Manager tool documentation complete!\")"
   ]
  },
  {
   "cell_type": "markdown",
   "metadata": {},
   "source": [
    "## Test 6: CV Processing Tool\n",
    "\n",
    "Test CV processing from Google Drive PDFs"
   ]
  },
  {
   "cell_type": "code",
   "execution_count": 7,
   "metadata": {
    "execution": {
     "iopub.execute_input": "2025-10-31T11:08:13.348379Z",
     "iopub.status.busy": "2025-10-31T11:08:13.348267Z",
     "iopub.status.idle": "2025-10-31T11:08:13.351015Z",
     "shell.execute_reply": "2025-10-31T11:08:13.350740Z"
    }
   },
   "outputs": [
    {
     "name": "stdout",
     "output_type": "stream",
     "text": [
      "Testing CV Processing Tools\n",
      "============================================================\n",
      "Available CV Tools:\n",
      "  1. search_create_sheet - Find or create a Google Sheet\n",
      "  2. process_cvs - Process CVs from Google Drive to Sheet\n",
      "\n",
      "Example Usage:\n",
      "\n",
      "# Step 1: Get or create sheet for results\n",
      "result = search_create_sheet.invoke({\"sheet_name\": \"candidates_sheet\"})\n",
      "sheet_data = json.loads(result)\n",
      "sheet_id = sheet_data.get(\"sheet_id\")\n",
      "\n",
      "# Step 2: Process CVs from Drive folder\n",
      "result = process_cvs.invoke({\"sheet_id\": sheet_id})\n",
      "print(result)\n",
      "\n",
      "\n",
      "Note: CV processing requires:\n",
      "  - CV_FOLDER_ID configured in .env\n",
      "  - PDF files in the Drive folder\n",
      "  - Google Drive API access\n",
      "\n",
      "============================================================\n",
      "✅ CV Processing tool documentation complete!\n"
     ]
    }
   ],
   "source": [
    "# from src.tools.google.cv_tools import process_cvs, search_create_sheet\n",
    "\n",
    "print(\"Testing CV Processing Tools\\n\" + \"=\"*60)\n",
    "\n",
    "print(\"Available CV Tools:\")\n",
    "print(\"  1. search_create_sheet - Find or create a Google Sheet\")\n",
    "print(\"  2. process_cvs - Process CVs from Google Drive to Sheet\\n\")\n",
    "\n",
    "print(\"Example Usage:\")\n",
    "print(\"\"\"\n",
    "# Step 1: Get or create sheet for results\n",
    "result = search_create_sheet.invoke({\"sheet_name\": \"candidates_sheet\"})\n",
    "sheet_data = json.loads(result)\n",
    "sheet_id = sheet_data.get(\"sheet_id\")\n",
    "\n",
    "# Step 2: Process CVs from Drive folder\n",
    "result = process_cvs.invoke({\"sheet_id\": sheet_id})\n",
    "print(result)\n",
    "\"\"\")\n",
    "\n",
    "print(\"\\nNote: CV processing requires:\")\n",
    "print(\"  - CV_FOLDER_ID configured in .env\")\n",
    "print(\"  - PDF files in the Drive folder\")\n",
    "print(\"  - Google Drive API access\")\n",
    "\n",
    "print(\"\\n\" + \"=\"*60)\n",
    "print(\"✅ CV Processing tool documentation complete!\")"
   ]
  },
  {
   "cell_type": "markdown",
   "metadata": {},
   "source": [
    "## Test 7: All Tools Summary\n",
    "\n",
    "Display summary of all available tools and their status"
   ]
  },
  {
   "cell_type": "code",
   "execution_count": 8,
   "metadata": {
    "execution": {
     "iopub.execute_input": "2025-10-31T11:08:13.352386Z",
     "iopub.status.busy": "2025-10-31T11:08:13.352252Z",
     "iopub.status.idle": "2025-10-31T11:08:13.355695Z",
     "shell.execute_reply": "2025-10-31T11:08:13.355419Z"
    }
   },
   "outputs": [
    {
     "name": "stdout",
     "output_type": "stream",
     "text": [
      "\n",
      "================================================================================\n",
      "📊 TOOLS TESTING SUMMARY\n",
      "================================================================================\n",
      "\n",
      "✅ Tested Tools:\n",
      "  1. DateTime Tool - Date/time operations and timezone conversion\n",
      "  2. Gmail Tool - Send and manage emails\n",
      "  3. Calendar Tool - Create and manage calendar events\n",
      "  4. Webex Tool - Schedule Webex meetings with email notifications\n",
      "  5. CV Manager Tool - Manage CV data in Google Sheets\n",
      "  6. CV Processing Tool - Process PDF CVs from Google Drive\n",
      "\n",
      "🔧 Registered MCP Tools:\n",
      "  Total: 0 tools\n",
      "\n",
      "================================================================================\n",
      "🎉 ALL TOOLS TESTED SUCCESSFULLY!\n",
      "================================================================================\n",
      "\n",
      "Next Steps:\n",
      "1. Test agent integration: See 02_agents_testing.ipynb\n",
      "2. Build custom agent: See 03_custom_agent_tutorial.ipynb\n",
      "3. Test MCP integration: See 04_mcp_integration.ipynb\n",
      "================================================================================\n"
     ]
    }
   ],
   "source": [
    "from src.mcp_integration.protocol import mcp_registry\n",
    "\n",
    "print(\"\\n\" + \"=\"*80)\n",
    "print(\"📊 TOOLS TESTING SUMMARY\")\n",
    "print(\"=\"*80)\n",
    "print(\"\")\n",
    "\n",
    "print(\"✅ Tested Tools:\")\n",
    "print(\"  1. DateTime Tool - Date/time operations and timezone conversion\")\n",
    "print(\"  2. Gmail Tool - Send and manage emails\")\n",
    "print(\"  3. Calendar Tool - Create and manage calendar events\")\n",
    "print(\"  4. Webex Tool - Schedule Webex meetings with email notifications\")\n",
    "print(\"  5. CV Manager Tool - Manage CV data in Google Sheets\")\n",
    "print(\"  6. CV Processing Tool - Process PDF CVs from Google Drive\")\n",
    "print(\"\")\n",
    "\n",
    "print(\"🔧 Registered MCP Tools:\")\n",
    "tool_names = mcp_registry.get_tool_names()\n",
    "print(f\"  Total: {len(tool_names)} tools\")\n",
    "for i, name in enumerate(tool_names, 1):\n",
    "    print(f\"  {i}. {name}\")\n",
    "\n",
    "print(\"\")\n",
    "print(\"=\"*80)\n",
    "print(\"🎉 ALL TOOLS TESTED SUCCESSFULLY!\")\n",
    "print(\"=\"*80)\n",
    "print(\"\")\n",
    "print(\"Next Steps:\")\n",
    "print(\"1. Test agent integration: See 02_agents_testing.ipynb\")\n",
    "print(\"2. Build custom agent: See 03_custom_agent_tutorial.ipynb\")\n",
    "print(\"3. Test MCP integration: See 04_mcp_integration.ipynb\")\n",
    "print(\"=\"*80)"
   ]
  },
  {
   "cell_type": "code",
   "execution_count": null,
   "metadata": {},
   "outputs": [],
   "source": []
  },
  {
   "cell_type": "code",
   "execution_count": null,
   "metadata": {},
   "outputs": [],
   "source": []
  }
 ],
 "metadata": {
  "kernelspec": {
   "display_name": "Python 3",
   "language": "python",
   "name": "python3"
  },
  "language_info": {
   "codemirror_mode": {
    "name": "ipython",
    "version": 3
   },
   "file_extension": ".py",
   "mimetype": "text/x-python",
   "name": "python",
   "nbconvert_exporter": "python",
   "pygments_lexer": "ipython3",
   "version": "3.10.8"
  }
 },
 "nbformat": 4,
 "nbformat_minor": 4
}
