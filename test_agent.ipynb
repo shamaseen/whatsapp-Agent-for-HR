{
 "cells": [
  {
   "cell_type": "markdown",
   "metadata": {},
   "source": [
    "# MCP-based LangGraph Agent Testing\n",
    "\n",
    "This notebook builds and tests the HR Assistant agent with full MCP (Model Context Protocol) architecture.\n",
    "\n",
    "## What's New:\n",
    "- **MCP Architecture**: All tools accessed via `list_tools` and `execute_tool`\n",
    "- **Sequential Thinking**: AI planning before actions\n",
    "- **Inline Agent Building**: Agent built step-by-step (not imported)\n",
    "- **9 MCP Tools**: Complete tool suite from n8n analysis\n",
    "\n",
    "## Setup"
   ]
  },
  {
   "cell_type": "code",
   "execution_count": 1,
   "metadata": {},
   "outputs": [
    {
     "name": "stdout",
     "output_type": "stream",
     "text": [
      "✅ Environment loaded\n",
      "Model: gemini-2.5-flash\n",
      "Temperature: 0.7\n"
     ]
    }
   ],
   "source": [
    "import os\n",
    "import json\n",
    "from dotenv import load_dotenv\n",
    "from langchain_core.messages import SystemMessage, HumanMessage, AIMessage, ToolMessage, AnyMessage\n",
    "\n",
    "# Load environment\n",
    "load_dotenv()\n",
    "\n",
    "print(\"✅ Environment loaded\")\n",
    "print(f\"Model: {os.getenv('MODEL_NAME', 'gemini-1.5-pro')}\")\n",
    "print(f\"Temperature: {os.getenv('TEMPERATURE', '0.7')}\")"
   ]
  },
  {
   "cell_type": "markdown",
   "metadata": {},
   "source": [
    "## 1. Build MCP Infrastructure\n",
    "\n",
    "### 1.1 Import MCP Components"
   ]
  },
  {
   "cell_type": "code",
   "execution_count": 2,
   "metadata": {},
   "outputs": [
    {
     "name": "stdout",
     "output_type": "stream",
     "text": [
      "✅ Loaded saved OAuth token\n",
      "✅ Google Services initialized with OAuth 2.0\n",
      "Warning: Could not initialize Webex client: Webex requires either ACCESS_TOKEN or full OAuth2 implementation\n",
      "✅ MCP components imported\n"
     ]
    }
   ],
   "source": [
    "# Import MCP base classes and registry\n",
    "from mcp.base import mcp_registry, list_tools, execute_tool\n",
    "\n",
    "# Import all MCP tools\n",
    "from mcp import (\n",
    "    SequentialThinkingTool,\n",
    "    CVSheetManagerTool,\n",
    "    GmailMCPTool,\n",
    "    CalendarMCPTool,\n",
    "    WebexMCPTool,\n",
    "    DateTimeMCPTool,\n",
    "    CVProcessTool,\n",
    "    SearchCandidatesTool,\n",
    "    SearchCreateSheetTool\n",
    ")\n",
    "\n",
    "print(\"✅ MCP components imported\")"
   ]
  },
  {
   "cell_type": "markdown",
   "metadata": {},
   "source": [
    "### 1.2 Register All MCP Tools"
   ]
  },
  {
   "cell_type": "code",
   "execution_count": 3,
   "metadata": {},
   "outputs": [
    {
     "name": "stdout",
     "output_type": "stream",
     "text": [
      "Registering MCP tools...\n",
      "\n",
      "✅ Registered: sequential_thinking\n",
      "✅ Registered: cv_sheet_manager\n",
      "✅ Registered: gmail\n",
      "✅ Registered: calendar\n",
      "✅ Registered: webex\n",
      "✅ Registered: datetime\n",
      "✅ Registered: process_cvs\n",
      "✅ Registered: search_candidates\n",
      "✅ Registered: search_create_sheet\n",
      "\n",
      "📊 Total tools registered: 9\n"
     ]
    }
   ],
   "source": [
    "# Clear registry (in case of re-runs)\n",
    "mcp_registry._tools.clear()\n",
    "\n",
    "# Register all MCP tools\n",
    "print(\"Registering MCP tools...\\n\")\n",
    "\n",
    "tools_to_register = [\n",
    "    SequentialThinkingTool(),\n",
    "    CVSheetManagerTool(),\n",
    "    GmailMCPTool(),\n",
    "    CalendarMCPTool(),\n",
    "    WebexMCPTool(),\n",
    "    DateTimeMCPTool(),\n",
    "    CVProcessTool(),\n",
    "    SearchCandidatesTool(),\n",
    "    SearchCreateSheetTool()\n",
    "]\n",
    "\n",
    "for tool in tools_to_register:\n",
    "    mcp_registry.register(tool)\n",
    "    print(f\"✅ Registered: {tool.get_name()}\")\n",
    "\n",
    "print(f\"\\n📊 Total tools registered: {len(mcp_registry._tools)}\")"
   ]
  },
  {
   "cell_type": "markdown",
   "metadata": {},
   "source": [
    "### 1.3 Test MCP Protocol Tools\n",
    "\n",
    "Test `list_tools` and `execute_tool` before building agent"
   ]
  },
  {
   "cell_type": "code",
   "execution_count": 4,
   "metadata": {},
   "outputs": [
    {
     "name": "stdout",
     "output_type": "stream",
     "text": [
      "Testing list_tools...\n",
      "\n",
      "Available tools: 9\n",
      "\n",
      "- sequential_thinking: Use this tool to think through complex tasks step-by-step before taking actions....\n",
      "- cv_sheet_manager: Manage CV data in Google Sheets with full CRUD operations.\n",
      "\n",
      "Operations:\n",
      "- read_s...\n",
      "- gmail: Send and manage emails via Gmail API.\n",
      "\n",
      "Operations:\n",
      "- send_email: Send an email t...\n",
      "- calendar: Manage calendar events via Google Calendar API.\n",
      "\n",
      "Operations:\n",
      "- create_event: Sch...\n",
      "- webex: Manage Webex meetings.\n",
      "\n",
      "Operations:\n",
      "- create_meeting: Schedule a new Webex meeti...\n",
      "- datetime: Get current date/time and perform time operations.\n",
      "\n",
      "Operations:\n",
      "- get_current: G...\n",
      "- process_cvs: Process all CVs from Google Drive folder and extract data to sheet.\n",
      "\n",
      "Requires sh...\n",
      "- search_candidates: Search candidates in sheet and rank by job position match....\n",
      "- search_create_sheet: Search for sheet by name, create if not found. Returns sheet_id....\n",
      "\n",
      "✅ list_tools working correctly\n"
     ]
    }
   ],
   "source": [
    "# Test list_tools\n",
    "print(\"Testing list_tools...\\n\")\n",
    "tools_list = list_tools.invoke({})\n",
    "tools_json = json.loads(tools_list)\n",
    "\n",
    "print(f\"Available tools: {len(tools_json)}\\n\")\n",
    "for tool in tools_json:\n",
    "    print(f\"- {tool['name']}: {tool['description'][:80]}...\")\n",
    "\n",
    "print(\"\\n✅ list_tools working correctly\")"
   ]
  },
  {
   "cell_type": "code",
   "execution_count": 5,
   "metadata": {},
   "outputs": [
    {
     "name": "stdout",
     "output_type": "stream",
     "text": [
      "Testing execute_tool with datetime...\n",
      "\n",
      "Result: {\"success\": true, \"current_datetime\": \"2025-10-18T09:33:40.657640+00:00\", \"date\": \"2025-10-18\", \"time\": \"09:33:40\", \"timezone\": \"UTC\", \"timestamp\": 1760780020}\n",
      "\n",
      "✅ execute_tool working correctly\n"
     ]
    }
   ],
   "source": [
    "# Test execute_tool with datetime\n",
    "print(\"Testing execute_tool with datetime...\\n\")\n",
    "\n",
    "result = execute_tool.invoke({\n",
    "    \"tool_name\": \"datetime\",\n",
    "    \"parameters\": {\"operation\": \"get_current\"}\n",
    "})\n",
    "\n",
    "print(f\"Result: {result}\")\n",
    "print(\"\\n✅ execute_tool working correctly\")"
   ]
  },
  {
   "cell_type": "markdown",
   "metadata": {},
   "source": [
    "## 2. Build the LangGraph Agent\n",
    "\n",
    "### 2.1 Load System Prompt"
   ]
  },
  {
   "cell_type": "code",
   "execution_count": 6,
   "metadata": {},
   "outputs": [
    {
     "name": "stdout",
     "output_type": "stream",
     "text": [
      "================================================================================\n",
      "SYSTEM PROMPT (First 500 chars)\n",
      "================================================================================\n",
      "You are a helpful and reliable HR recruitment assistant. You have access to ONE tool called `execute_tool` which lets you use various operations.\n",
      "\n",
      "## 🔧 How to Use Tools\n",
      "\n",
      "You have a single tool: `execute_tool(tool_name, parameters)`\n",
      "\n",
      "### Available Operations:\n",
      "\n",
      "**CV Management:**\n",
      "- `sequential_thinking` - Plan complex tasks before executing\n",
      "- `search_create_sheet` - Find or create Google Sheet (use phone number as sheet_name)\n",
      "- `process_cvs` - Extract CV data from Google Drive to sheet\n",
      "- `search_c...\n",
      "\n",
      "✅ System prompt loaded\n"
     ]
    }
   ],
   "source": [
    "from agents.prompts import SYSTEM_PROMPT\n",
    "\n",
    "print(\"=\"*80)\n",
    "print(\"SYSTEM PROMPT (First 500 chars)\")\n",
    "print(\"=\"*80)\n",
    "print(SYSTEM_PROMPT[:500] + \"...\")\n",
    "print(\"\\n✅ System prompt loaded\")"
   ]
  },
  {
   "cell_type": "markdown",
   "metadata": {},
   "source": [
    "### 2.2 Initialize LLM with MCP Tools"
   ]
  },
  {
   "cell_type": "code",
   "execution_count": 7,
   "metadata": {},
   "outputs": [
    {
     "name": "stdout",
     "output_type": "stream",
     "text": [
      "✅ LLM initialized: gemini-2.5-flash\n",
      "✅ MCP protocol tools bound: ['list_tools', 'execute_tool']\n"
     ]
    }
   ],
   "source": [
    "from langchain_google_genai import ChatGoogleGenerativeAI\n",
    "from config import settings\n",
    "\n",
    "# Initialize LLM\n",
    "llm = ChatGoogleGenerativeAI(\n",
    "    model=settings.MODEL_NAME,\n",
    "    google_api_key=settings.GOOGLE_API_KEY,\n",
    "    temperature=settings.TEMPERATURE\n",
    ")\n",
    "\n",
    "print(f\"✅ LLM initialized: {settings.MODEL_NAME}\")\n",
    "\n",
    "# Bind MCP protocol tools (only list_tools and execute_tool)\n",
    "mcp_protocol_tools = [list_tools, execute_tool]\n",
    "llm_with_tools = llm.bind_tools(mcp_protocol_tools)\n",
    "\n",
    "print(f\"✅ MCP protocol tools bound: {[t.name for t in mcp_protocol_tools]}\")"
   ]
  },
  {
   "cell_type": "markdown",
   "metadata": {},
   "source": [
    "### 2.3 Define Agent State"
   ]
  },
  {
   "cell_type": "code",
   "execution_count": 8,
   "metadata": {},
   "outputs": [
    {
     "name": "stdout",
     "output_type": "stream",
     "text": [
      "✅ Agent state defined\n"
     ]
    }
   ],
   "source": [
    "from typing import List\n",
    "from typing_extensions import TypedDict\n",
    "\n",
    "class AgentState(TypedDict):\n",
    "    messages: List[AnyMessage]\n",
    "    sender_phone: str\n",
    "    sender_identifier: str\n",
    "\n",
    "print(\"✅ Agent state defined\")"
   ]
  },
  {
   "cell_type": "markdown",
   "metadata": {},
   "source": [
    "### 2.4 Define Agent Node"
   ]
  },
  {
   "cell_type": "code",
   "execution_count": 9,
   "metadata": {},
   "outputs": [
    {
     "name": "stdout",
     "output_type": "stream",
     "text": [
      "✅ Agent node defined\n"
     ]
    }
   ],
   "source": [
    "def agent_node(state: AgentState) -> AgentState:\n",
    "    \"\"\"Main agent reasoning node\"\"\"\n",
    "    messages = state[\"messages\"]\n",
    "    \n",
    "    # Add system prompt if not present\n",
    "    if not any(isinstance(msg, SystemMessage) for msg in messages):\n",
    "        messages = [SystemMessage(content=SYSTEM_PROMPT)] + messages\n",
    "    \n",
    "    # Filter out any empty messages before sending to LLM\n",
    "    filtered_messages = []\n",
    "    for msg in messages:\n",
    "        if isinstance(msg, ToolMessage):\n",
    "            # Ensure ToolMessage has content\n",
    "            if msg.content and msg.content.strip():\n",
    "                filtered_messages.append(msg)\n",
    "        elif isinstance(msg, (SystemMessage, HumanMessage, AIMessage)):\n",
    "            # Only add if message has content\n",
    "            if hasattr(msg, 'content') and msg.content:\n",
    "                filtered_messages.append(msg)\n",
    "            # AIMessage with tool_calls but no content is OK\n",
    "            elif isinstance(msg, AIMessage) and hasattr(msg, 'tool_calls') and msg.tool_calls:\n",
    "                filtered_messages.append(msg)\n",
    "    \n",
    "    # Get LLM response\n",
    "    response = llm_with_tools.invoke(filtered_messages)\n",
    "    \n",
    "    return {\"messages\": messages + [response]}\n",
    "\n",
    "print(\"✅ Agent node defined\")"
   ]
  },
  {
   "cell_type": "markdown",
   "metadata": {},
   "source": [
    "### 2.5 Define Tool Node"
   ]
  },
  {
   "cell_type": "code",
   "execution_count": 10,
   "metadata": {},
   "outputs": [
    {
     "name": "stdout",
     "output_type": "stream",
     "text": [
      "✅ Tool node defined\n"
     ]
    }
   ],
   "source": [
    "def tool_node(state: AgentState) -> AgentState:\n",
    "    \"\"\"Execute tool calls with enhanced error handling and logging\"\"\"\n",
    "    messages = state[\"messages\"]\n",
    "    last_message = messages[-1]\n",
    "    \n",
    "    # Check if there are tool calls\n",
    "    if not hasattr(last_message, 'tool_calls') or not last_message.tool_calls:\n",
    "        return state\n",
    "    \n",
    "    # Execute each tool call\n",
    "    tool_messages = []\n",
    "    for tool_call in last_message.tool_calls:\n",
    "        tool_name = tool_call['name']\n",
    "        tool_args = tool_call['args']\n",
    "        \n",
    "        print(f\"🔧 Executing tool: {tool_name}\")\n",
    "        print(f\"   Args: {tool_args}\")\n",
    "        \n",
    "        # Find and execute tool\n",
    "        tool_func = None\n",
    "        for t in mcp_protocol_tools:\n",
    "            if t.name == tool_name:\n",
    "                tool_func = t\n",
    "                break\n",
    "        \n",
    "        if tool_func:\n",
    "            try:\n",
    "                result = tool_func.invoke(tool_args)\n",
    "                result_str = str(result) if result else '{\"status\": \"completed\", \"message\": \"Tool executed successfully\"}'\n",
    "                \n",
    "                print(f\"✅ Tool result: {result_str[:100]}...\")\n",
    "                \n",
    "                tool_messages.append(ToolMessage(\n",
    "                    content=result_str,\n",
    "                    tool_call_id=tool_call['id']\n",
    "                ))\n",
    "            except Exception as e:\n",
    "                error_msg = f'{{\"error\": \"{str(e)}\", \"tool\": \"{tool_name}\"}}'\n",
    "                print(f\"❌ Tool error: {str(e)}\")\n",
    "                \n",
    "                tool_messages.append(ToolMessage(\n",
    "                    content=error_msg,\n",
    "                    tool_call_id=tool_call['id']\n",
    "                ))\n",
    "        else:\n",
    "            error_msg = f'{{\"error\": \"Tool {tool_name} not found\", \"available_tools\": {[t.name for t in mcp_protocol_tools]}}}'\n",
    "            print(f\"❌ Tool not found: {tool_name}\")\n",
    "            \n",
    "            tool_messages.append(ToolMessage(\n",
    "                content=error_msg,\n",
    "                tool_call_id=tool_call['id']\n",
    "            ))\n",
    "    \n",
    "    return {\"messages\": messages + tool_messages}\n",
    "\n",
    "print(\"✅ Tool node defined\")"
   ]
  },
  {
   "cell_type": "markdown",
   "metadata": {},
   "source": [
    "### 2.6 Define Routing Logic"
   ]
  },
  {
   "cell_type": "code",
   "execution_count": 11,
   "metadata": {},
   "outputs": [
    {
     "name": "stdout",
     "output_type": "stream",
     "text": [
      "✅ Routing logic defined\n"
     ]
    }
   ],
   "source": [
    "def should_continue(state: AgentState) -> str:\n",
    "    \"\"\"\n",
    "    Alternative version: More aggressive continuation for complex tasks.\n",
    "    Use this if your tasks require multiple reasoning steps.\n",
    "    \"\"\"\n",
    "    messages = state[\"messages\"]\n",
    "    last_message = messages[-1]\n",
    "    \n",
    "    # Always continue if there are tool calls\n",
    "    if hasattr(last_message, 'tool_calls') and last_message.tool_calls:\n",
    "        return \"tools\"\n",
    "\n",
    "    \n",
    "    # If AI just responded after tool use, check if it's truly done\n",
    "    if isinstance(last_message, AIMessage):\n",
    "        content = str(last_message.content).lower() if hasattr(last_message, 'content') else \"\"\n",
    "        \n",
    "        # Only end if AI explicitly signals completion\n",
    "        explicit_end_signals = [\n",
    "            \"task completed successfully\",\n",
    "            \"execution finished\",\n",
    "            \"all steps completed\",\n",
    "            \"final result:\",\n",
    "            \"here is the final\",\n",
    "            \"task is now complete\"\n",
    "        ]\n",
    "        \n",
    "        if any(signal in content for signal in explicit_end_signals):\n",
    "            return \"end\"\n",
    "        \n",
    "\n",
    "        # Otherwise continue - let AI keep working\n",
    "        return \"end\"\n",
    "    \n",
    "    return \"end\"\n",
    "\n",
    "print(\"✅ Routing logic defined\")"
   ]
  },
  {
   "cell_type": "markdown",
   "metadata": {},
   "source": [
    "### 2.7 Build the Graph"
   ]
  },
  {
   "cell_type": "code",
   "execution_count": 12,
   "metadata": {},
   "outputs": [
    {
     "name": "stdout",
     "output_type": "stream",
     "text": [
      "✅ Graph built\n",
      "\n",
      "Graph structure:\n",
      "  agent → [should_continue] → tools | END\n",
      "  tools → agent\n"
     ]
    }
   ],
   "source": [
    "from langgraph.graph import StateGraph, END\n",
    "\n",
    "# Create graph\n",
    "graph = StateGraph(AgentState)\n",
    "\n",
    "# Add nodes\n",
    "graph.add_node(\"agent\", agent_node)\n",
    "graph.add_node(\"tools\", tool_node)\n",
    "\n",
    "# Set entry point\n",
    "graph.set_entry_point(\"agent\")\n",
    "\n",
    "# Add edges\n",
    "graph.add_conditional_edges(\n",
    "    \"agent\",\n",
    "    should_continue,\n",
    "    {\"tools\": \"tools\", \"end\": END}\n",
    ")\n",
    "graph.add_edge(\"tools\", \"agent\")\n",
    "\n",
    "print(\"✅ Graph built\")\n",
    "print(\"\\nGraph structure:\")\n",
    "print(\"  agent → [should_continue] → tools | END\")\n",
    "print(\"  tools → agent\")"
   ]
  },
  {
   "cell_type": "markdown",
   "metadata": {},
   "source": [
    "### 2.8 Compile the Agent"
   ]
  },
  {
   "cell_type": "code",
   "execution_count": 13,
   "metadata": {},
   "outputs": [
    {
     "name": "stdout",
     "output_type": "stream",
     "text": [
      "✅ Agent compiled successfully!\n",
      "\n",
      "Agent Type: <class 'langgraph.graph.state.CompiledStateGraph'>\n",
      "Ready to process messages: True\n"
     ]
    }
   ],
   "source": [
    "# Compile the graph\n",
    "agent_app = graph.compile()\n",
    "\n",
    "print(\"✅ Agent compiled successfully!\")\n",
    "print(f\"\\nAgent Type: {type(agent_app)}\")\n",
    "print(f\"Ready to process messages: {agent_app is not None}\")"
   ]
  },
  {
   "cell_type": "code",
   "execution_count": 14,
   "metadata": {},
   "outputs": [
    {
     "data": {
      "image/png": "[encoded data removed]",
      "text/plain": [
       "<IPython.core.display.Image object>"
      ]
     },
     "metadata": {},
     "output_type": "display_data"
    }
   ],
   "source": [
    "import nest_asyncio\n",
    "nest_asyncio.apply()\n",
    "from IPython.display import display, HTML, Image\n",
    "from langchain_core.runnables.graph import CurveStyle, MermaidDrawMethod\n",
    "\n",
    "display(\n",
    "    Image(\n",
    "        agent_app.get_graph().draw_mermaid_png(\n",
    "            draw_method=MermaidDrawMethod.PYPPETEER,\n",
    "        )\n",
    "    )\n",
    ")"
   ]
  },
  {
   "cell_type": "markdown",
   "metadata": {},
   "source": [
    "## 3. Test MCP Protocol\n",
    "\n",
    "### 3.1 Test: Agent Lists Available Tools"
   ]
  },
  {
   "cell_type": "code",
   "execution_count": 16,
   "metadata": {},
   "outputs": [
    {
     "name": "stdout",
     "output_type": "stream",
     "text": [
      "================================================================================\n",
      "TEST: Agent calls list_tools\n",
      "================================================================================\n",
      "\n",
      "🔧 Executing tool: list_tools\n",
      "   Args: {}\n",
      "✅ Tool result: [\n",
      "  {\n",
      "    \"name\": \"sequential_thinking\",\n",
      "    \"description\": \"Use this tool to think through complex ...\n",
      "👤 User: List all available MCP tools\n",
      "\n",
      "🔧 Agent called tools:\n",
      "   - list_tools()\n",
      "\n",
      "🤖 Assistant: I have access to the following tools:\n",
      "\n",
      "*   **sequential\\_thinking**: Helps to plan complex tasks step-by-step.\n",
      "*   **cv\\_sheet\\_manager**: Manages CV data in Google Sheets (read, append, update, delete, search).\n",
      "*   **gmail**: Sends and manages emails.\n",
      "*   **calendar**: Manages calendar events (create, list, get, update, delete).\n",
      "*   **webex**: Manages Webex meetings (create, get, update, delete).\n",
      "*   **datetime**: Gets current date/time and performs time operations.\n",
      "*   **process\\_cvs**: Proces...\n",
      "\n",
      "✅ Agent successfully used list_tools\n"
     ]
    }
   ],
   "source": [
    "print(\"=\"*80)\n",
    "print(\"TEST: Agent calls list_tools\")\n",
    "print(\"=\"*80 + \"\\n\")\n",
    "\n",
    "result = agent_app.invoke({\n",
    "    \"messages\": [\n",
    "        HumanMessage(content=\"List all available MCP tools\")\n",
    "    ],\n",
    "    \"sender_phone\": \"962776241974\",\n",
    "    \"sender_identifier\": \"test@s.whatsapp.net\"\n",
    "})\n",
    "\n",
    "# Display conversation\n",
    "for msg in result[\"messages\"]:\n",
    "    if isinstance(msg, HumanMessage):\n",
    "        print(f\"👤 User: {msg.content}\\n\")\n",
    "    elif isinstance(msg, AIMessage):\n",
    "        if hasattr(msg, 'tool_calls') and msg.tool_calls:\n",
    "            print(f\"🔧 Agent called tools:\")\n",
    "            for tc in msg.tool_calls:\n",
    "                print(f\"   - {tc['name']}()\")\n",
    "            print()\n",
    "        elif msg.content:\n",
    "            print(f\"🤖 Assistant: {msg.content[:500]}...\\n\")\n",
    "    elif isinstance(msg, ToolMessage):\n",
    "        result_data = json.loads(msg.content)\n",
    "        if 'tools' in result_data:\n",
    "            print(f\"⚙️  Tool returned {len(result_data['tools'])} tools\\n\")\n",
    "\n",
    "print(\"✅ Agent successfully used list_tools\")"
   ]
  },
  {
   "cell_type": "markdown",
   "metadata": {},
   "source": [
    "### 3.2 Test: Agent Uses execute_tool"
   ]
  },
  {
   "cell_type": "code",
   "execution_count": 17,
   "metadata": {},
   "outputs": [
    {
     "name": "stdout",
     "output_type": "stream",
     "text": [
      "================================================================================\n",
      "TEST: Agent calls execute_tool for datetime\n",
      "================================================================================\n",
      "\n",
      "🔧 Executing tool: execute_tool\n",
      "   Args: {'tool_name': 'datetime', 'parameters': {'operation': 'get_current'}}\n",
      "✅ Tool result: {\"success\": true, \"current_datetime\": \"2025-10-18T09:34:23.557877+00:00\", \"date\": \"2025-10-18\", \"tim...\n",
      "📋 Workflow:\n",
      "\n",
      "1. Agent called: execute_tool\n",
      "   Args: {\"tool_name\": \"datetime\", \"parameters\": {\"operation\": \"get_current\"}}\n",
      "\n",
      "2. Tool returned: {\"success\": true, \"current_datetime\": \"2025-10-18T09:34:23.557877+00:00\", \"date\": \"2025-10-18\", \"tim...\n",
      "\n",
      "3. Final response: The current date is 2025-10-18 and the time is 09:34:23 UTC.\n",
      "\n",
      "✅ Agent successfully used execute_tool\n"
     ]
    }
   ],
   "source": [
    "print(\"=\"*80)\n",
    "print(\"TEST: Agent calls execute_tool for datetime\")\n",
    "print(\"=\"*80 + \"\\n\")\n",
    "\n",
    "result = agent_app.invoke({\n",
    "    \"messages\": [\n",
    "        HumanMessage(content=\"What is the current date and time?\")\n",
    "    ],\n",
    "    \"sender_phone\": \"962776241974\",\n",
    "    \"sender_identifier\": \"test@s.whatsapp.net\"\n",
    "})\n",
    "\n",
    "# Display workflow\n",
    "print(\"📋 Workflow:\\n\")\n",
    "for msg in result[\"messages\"]:\n",
    "    if isinstance(msg, AIMessage) and hasattr(msg, 'tool_calls') and msg.tool_calls:\n",
    "        for tc in msg.tool_calls:\n",
    "            print(f\"1. Agent called: {tc['name']}\")\n",
    "            print(f\"   Args: {json.dumps(tc['args'])}\\n\")\n",
    "    elif isinstance(msg, ToolMessage):\n",
    "        print(f\"2. Tool returned: {msg.content[:100]}...\\n\")\n",
    "\n",
    "# Final response\n",
    "for msg in reversed(result[\"messages\"]):\n",
    "    if isinstance(msg, AIMessage) and msg.content:\n",
    "        print(f\"3. Final response: {msg.content}\")\n",
    "        break\n",
    "\n",
    "print(\"\\n✅ Agent successfully used execute_tool\")"
   ]
  },
  {
   "cell_type": "code",
   "execution_count": 20,
   "metadata": {},
   "outputs": [
    {
     "data": {
      "text/plain": [
       "[SystemMessage(content='You are a helpful and reliable HR recruitment assistant. You have access to ONE tool called `execute_tool` which lets you use various operations.\\n\\n## 🔧 How to Use Tools\\n\\nYou have a single tool: `execute_tool(tool_name, parameters)`\\n\\n### Available Operations:\\n\\n**CV Management:**\\n- `sequential_thinking` - Plan complex tasks before executing\\n- `search_create_sheet` - Find or create Google Sheet (use phone number as sheet_name)\\n- `process_cvs` - Extract CV data from Google Drive to sheet\\n- `search_candidates` - Find and rank candidates by job position\\n- `cv_sheet_manager` - Advanced sheet operations (read, update, search)\\n\\n**Communication:**\\n- `gmail` - Send emails (operation: send_email)\\n- `calendar` - Manage calendar events (operation: create_event, list_events)\\n- `webex` - Manage video meetings (operation: create_meeting)\\n\\n**Utilities:**\\n- `datetime` - Get current time (operation: get_current)\\n\\n### Example Usage:\\n\\n1. **Plan a complex task:**\\n```\\nexecute_tool(\\n  tool_name=\"sequential_thinking\",\\n  parameters={\\n    \"task\": \"Process CVs and find Python developers\",\\n    \"context\": \"User wants top 5 candidates\"\\n  }\\n)\\n```\\n\\n2. **Create sheet:**\\n```\\nexecute_tool(\\n  tool_name=\"search_create_sheet\",\\n  parameters={\"sheet_name\": \"962776241974\"}\\n)\\n```\\n\\n3. **Process CVs:**\\n```\\nexecute_tool(\\n  tool_name=\"process_cvs\",\\n  parameters={\"sheet_id\": \"abc123\"}\\n)\\n```\\n\\n4. **Search candidates:**\\n```\\nexecute_tool(\\n  tool_name=\"search_candidates\",\\n  parameters={\\n    \"sheet_id\": \"abc123\",\\n    \"job_position\": \"Senior Python Developer\"\\n  }\\n)\\n```\\n\\n## 🎯 Important Rules\\n\\n1. **Always use execute_tool** - Never try to call tools by name directly\\n2. **Phone → Sheet Name** - ALWAYS use sender\\'s phone number as sheet name (e.g., \"962776241974\")\\n3. **Never ask for sheet name** - Extract from sender info automatically\\n4. **Use sequential_thinking first** - For complex multi-step tasks\\n5. **Confirm destructive actions** - Ask before deleting or major changes\\n\\n\\n## 📋 CV & Sheet Management Workflow\\n\\nWhen user asks to process CVs:\\n\\n1. **Plan first** (for complex requests):\\n```\\nexecute_tool(\\n  tool_name=\"sequential_thinking\",\\n  parameters={\\n    \"task\": \"Process CVs and find candidates\",\\n    \"context\": \"User phone: 962776241974\"\\n  }\\n)\\n```\\n\\n2. **Get/Create sheet** (use sender\\'s phone as sheet name):\\n```\\nexecute_tool(\\n  tool_name=\"search_create_sheet\",\\n  parameters={\"sheet_name\": \"962776241974\"}  # ← sender\\'s phone!\\n)\\n# Returns: {\"sheet_id\": \"abc123\"}\\n```\\n\\n3. **Process CVs**:\\n```\\nexecute_tool(\\n  tool_name=\"process_cvs\",\\n  parameters={\"sheet_id\": \"abc123\"}\\n)\\n```\\n\\n4. **Search candidates**:\\n```\\nexecute_tool(\\n  tool_name=\"search_candidates\",\\n  parameters={\\n    \"sheet_id\": \"abc123\",\\n    \"job_position\": \"Senior Python Developer\"\\n  }\\n)\\n```\\n\\n## 📅 Scheduling Interviews\\n\\nWhen scheduling:\\n\\n1. **Get current time**:\\n```\\nexecute_tool(\\n  tool_name=\"datetime\",\\n  parameters={\"operation\": \"get_current\"}\\n)\\n```\\n\\n2. **Create calendar event**:\\n```\\nexecute_tool(\\n  tool_name=\"calendar\",\\n  parameters={\\n    \"operation\": \"create_event\",\\n    \"summary\": \"Interview with John Doe\",\\n    \"start_time\": \"2025-10-18T14:00:00Z\",\\n    \"end_time\": \"2025-10-18T15:00:00Z\",\\n    \"attendees\": [\"candidate@example.com\"]\\n  }\\n)\\n```\\n\\n3. **Send email invitation**:\\n```\\nexecute_tool(\\n  tool_name=\"gmail\",\\n  parameters={\\n    \"operation\": \"send_email\",\\n    \"to_email\": \"candidate@example.com\",\\n    \"subject\": \"Interview Invitation\",\\n    \"body\": \"Dear candidate, you are invited...\"\\n  }\\n)\\n```\\n\\n## ✅ Remember\\n\\n- **ONE tool only**: `execute_tool`\\n- **Phone = Sheet name**: Always use sender phone\\n- **Think first**: Use `sequential_thinking` for complex tasks\\n- **Be helpful**: Provide clear responses about what you\\'re doing\\n', additional_kwargs={}, response_metadata={}),\n",
       " HumanMessage(content='What is the current date and time?', additional_kwargs={}, response_metadata={}),\n",
       " AIMessage(content='', additional_kwargs={'function_call': {'name': 'execute_tool', 'arguments': '{\"tool_name\": \"datetime\", \"parameters\": {\"operation\": \"get_current\"}}'}}, response_metadata={'prompt_feedback': {'block_reason': 0, 'safety_ratings': []}, 'finish_reason': 'STOP', 'model_name': 'gemini-2.5-flash', 'safety_ratings': []}, id='run--f248f84a-5607-43fd-96c4-41626856150c-0', tool_calls=[{'name': 'execute_tool', 'args': {'tool_name': 'datetime', 'parameters': {'operation': 'get_current'}}, 'id': '38367776-a5ca-4e9e-a720-ce634640473e', 'type': 'tool_call'}], usage_metadata={'input_tokens': 1343, 'output_tokens': 125, 'total_tokens': 1468, 'input_token_details': {'cache_read': 0}, 'output_token_details': {'reasoning': 98}}),\n",
       " ToolMessage(content='{\"success\": true, \"current_datetime\": \"2025-10-18T09:34:23.557877+00:00\", \"date\": \"2025-10-18\", \"time\": \"09:34:23\", \"timezone\": \"UTC\", \"timestamp\": 1760780063}', tool_call_id='38367776-a5ca-4e9e-a720-ce634640473e'),\n",
       " AIMessage(content='The current date is 2025-10-18 and the time is 09:34:23 UTC.', additional_kwargs={}, response_metadata={'prompt_feedback': {'block_reason': 0, 'safety_ratings': []}, 'finish_reason': 'STOP', 'model_name': 'gemini-2.5-flash', 'safety_ratings': []}, id='run--5de6656c-e483-4edc-bdd4-8a32858fcedc-0', usage_metadata={'input_tokens': 1472, 'output_tokens': 30, 'total_tokens': 1502, 'input_token_details': {'cache_read': 793}})]"
      ]
     },
     "execution_count": 20,
     "metadata": {},
     "output_type": "execute_result"
    }
   ],
   "source": [
    "result['messages']"
   ]
  },
  {
   "cell_type": "markdown",
   "metadata": {},
   "source": [
    "### 3.3 Test: Agent Uses Sequential Thinking"
   ]
  },
  {
   "cell_type": "code",
   "execution_count": 16,
   "metadata": {},
   "outputs": [
    {
     "name": "stdout",
     "output_type": "stream",
     "text": [
      "================================================================================\n",
      "TEST: Agent uses sequential_thinking for complex task\n",
      "================================================================================\n",
      "\n",
      "🔧 Executing tool: execute_tool\n",
      "   Args: {'tool_name': 'sequential_thinking', 'parameters': {'context': 'User phone: 962776241974', 'task': 'Process CVs, find top candidates for Python Developer, and schedule interviews with them'}}\n",
      "✅ Tool result: Here's a structured analysis for processing CVs, finding top Python Developer candidates, and schedu...\n",
      "📋 Tool calls made:\n",
      "\n",
      "- execute_tool\n",
      "\n",
      "⚠️  Agent did not use sequential thinking\n"
     ]
    }
   ],
   "source": [
    "print(\"=\"*80)\n",
    "print(\"TEST: Agent uses sequential_thinking for complex task\")\n",
    "print(\"=\"*80 + \"\\n\")\n",
    "\n",
    "result = agent_app.invoke({\n",
    "    \"messages\": [\n",
    "        HumanMessage(content=\"sender: 962776241974\\n\\nmessage: I want to process CVs, find top candidates for Python Developer, and schedule interviews with them\")\n",
    "    ],\n",
    "    \"sender_phone\": \"962776241974\",\n",
    "    \"sender_identifier\": \"962776241974@s.whatsapp.net\"\n",
    "})\n",
    "\n",
    "# Check if thinking was used\n",
    "used_thinking = False\n",
    "print(\"📋 Tool calls made:\\n\")\n",
    "for msg in result[\"messages\"]:\n",
    "    if isinstance(msg, AIMessage) and hasattr(msg, 'tool_calls') and msg.tool_calls:\n",
    "        for tc in msg.tool_calls:\n",
    "            print(f\"- {tc['name']}\")\n",
    "            if 'thinking' in tc['name'].lower():\n",
    "                used_thinking = True\n",
    "                print(f\"  ✅ Sequential thinking activated!\")\n",
    "\n",
    "if used_thinking:\n",
    "    print(\"\\n✅ Agent used sequential thinking before execution\")\n",
    "else:\n",
    "    print(\"\\n⚠️  Agent did not use sequential thinking\")"
   ]
  },
  {
   "cell_type": "code",
   "execution_count": 22,
   "metadata": {},
   "outputs": [
    {
     "data": {
      "text/plain": [
       "{'messages': [SystemMessage(content='You are a helpful and reliable HR recruitment assistant. You have access to ONE tool called `execute_tool` which lets you use various operations.\\n\\n## 🔧 How to Use Tools\\n\\nYou have a single tool: `execute_tool(tool_name, parameters)`\\n\\n### Available Operations:\\n\\n**CV Management:**\\n- `sequential_thinking` - Plan complex tasks before executing\\n- `search_create_sheet` - Find or create Google Sheet (use phone number as sheet_name)\\n- `process_cvs` - Extract CV data from Google Drive to sheet\\n- `search_candidates` - Find and rank candidates by job position\\n- `cv_sheet_manager` - Advanced sheet operations (read, update, search)\\n\\n**Communication:**\\n- `gmail` - Send emails (operation: send_email)\\n- `calendar` - Manage calendar events (operation: create_event, list_events)\\n- `webex` - Manage video meetings (operation: create_meeting)\\n\\n**Utilities:**\\n- `datetime` - Get current time (operation: get_current)\\n\\n### Example Usage:\\n\\n1. **Plan a complex task:**\\n```\\nexecute_tool(\\n  tool_name=\"sequential_thinking\",\\n  parameters={\\n    \"task\": \"Process CVs and find Python developers\",\\n    \"context\": \"User wants top 5 candidates\"\\n  }\\n)\\n```\\n\\n2. **Create sheet:**\\n```\\nexecute_tool(\\n  tool_name=\"search_create_sheet\",\\n  parameters={\"sheet_name\": \"962776241974\"}\\n)\\n```\\n\\n3. **Process CVs:**\\n```\\nexecute_tool(\\n  tool_name=\"process_cvs\",\\n  parameters={\"sheet_id\": \"abc123\"}\\n)\\n```\\n\\n4. **Search candidates:**\\n```\\nexecute_tool(\\n  tool_name=\"search_candidates\",\\n  parameters={\\n    \"sheet_id\": \"abc123\",\\n    \"job_position\": \"Senior Python Developer\"\\n  }\\n)\\n```\\n\\n## 🎯 Important Rules\\n\\n1. **Always use execute_tool** - Never try to call tools by name directly\\n2. **Phone → Sheet Name** - ALWAYS use sender\\'s phone number as sheet name (e.g., \"962776241974\")\\n3. **Never ask for sheet name** - Extract from sender info automatically\\n4. **Use sequential_thinking first** - For complex multi-step tasks\\n5. **Confirm destructive actions** - Ask before deleting or major changes\\n\\n\\n## 📋 CV & Sheet Management Workflow\\n\\nWhen user asks to process CVs:\\n\\n1. **Plan first** (for complex requests):\\n```\\nexecute_tool(\\n  tool_name=\"sequential_thinking\",\\n  parameters={\\n    \"task\": \"Process CVs and find candidates\",\\n    \"context\": \"User phone: 962776241974\"\\n  }\\n)\\n```\\n\\n2. **Get/Create sheet** (use sender\\'s phone as sheet name):\\n```\\nexecute_tool(\\n  tool_name=\"search_create_sheet\",\\n  parameters={\"sheet_name\": \"962776241974\"}  # ← sender\\'s phone!\\n)\\n# Returns: {\"sheet_id\": \"abc123\"}\\n```\\n\\n3. **Process CVs**:\\n```\\nexecute_tool(\\n  tool_name=\"process_cvs\",\\n  parameters={\"sheet_id\": \"abc123\"}\\n)\\n```\\n\\n4. **Search candidates**:\\n```\\nexecute_tool(\\n  tool_name=\"search_candidates\",\\n  parameters={\\n    \"sheet_id\": \"abc123\",\\n    \"job_position\": \"Senior Python Developer\"\\n  }\\n)\\n```\\n\\n## 📅 Scheduling Interviews\\n\\nWhen scheduling:\\n\\n1. **Get current time**:\\n```\\nexecute_tool(\\n  tool_name=\"datetime\",\\n  parameters={\"operation\": \"get_current\"}\\n)\\n```\\n\\n2. **Create calendar event**:\\n```\\nexecute_tool(\\n  tool_name=\"calendar\",\\n  parameters={\\n    \"operation\": \"create_event\",\\n    \"summary\": \"Interview with John Doe\",\\n    \"start_time\": \"2025-10-18T14:00:00Z\",\\n    \"end_time\": \"2025-10-18T15:00:00Z\",\\n    \"attendees\": [\"candidate@example.com\"]\\n  }\\n)\\n```\\n\\n3. **Send email invitation**:\\n```\\nexecute_tool(\\n  tool_name=\"gmail\",\\n  parameters={\\n    \"operation\": \"send_email\",\\n    \"to_email\": \"candidate@example.com\",\\n    \"subject\": \"Interview Invitation\",\\n    \"body\": \"Dear candidate, you are invited...\"\\n  }\\n)\\n```\\n\\n## ✅ Remember\\n\\n- **ONE tool only**: `execute_tool`\\n- **Phone = Sheet name**: Always use sender phone\\n- **Think first**: Use `sequential_thinking` for complex tasks\\n- **Be helpful**: Provide clear responses about what you\\'re doing\\n', additional_kwargs={}, response_metadata={}),\n",
       "  HumanMessage(content='sender: 962776241974\\n\\nmessage: I want to process CVs, find top candidates for Python Developer, and schedule interviews with them', additional_kwargs={}, response_metadata={}),\n",
       "  AIMessage(content='', additional_kwargs={'function_call': {'name': 'execute_tool', 'arguments': '{\"parameters\": {\"task\": \"Process CVs, find top candidates for Python Developer, and schedule interviews with them\", \"context\": \"User phone: 962776241974\"}, \"tool_name\": \"sequential_thinking\"}'}}, response_metadata={'prompt_feedback': {'block_reason': 0, 'safety_ratings': []}, 'finish_reason': 'STOP', 'model_name': 'gemini-2.5-flash', 'safety_ratings': []}, id='run--67d855d3-fb38-482a-8e94-58df9a57f620-0', tool_calls=[{'name': 'execute_tool', 'args': {'parameters': {'task': 'Process CVs, find top candidates for Python Developer, and schedule interviews with them', 'context': 'User phone: 962776241974'}, 'tool_name': 'sequential_thinking'}, 'id': 'af427992-63fa-4004-bda2-fdf8ef1f3cae', 'type': 'tool_call'}], usage_metadata={'input_tokens': 1372, 'output_tokens': 326, 'total_tokens': 1698, 'input_token_details': {'cache_read': 0}, 'output_token_details': {'reasoning': 263}}),\n",
       "  ToolMessage(content='The user wants to process CVs for a Python Developer role, identify the best candidates, and then schedule interviews with them. The provided phone number (962776241974) is for contacting the user.\\n\\n## Structured Analysis\\n\\n### 1. Task Understanding\\n\\nThe core task is to streamline the hiring process for a Python Developer. This involves:\\n*   **CV Processing**: Reading and extracting relevant information from multiple CVs.\\n*   **Candidate Selection**: Applying specific criteria to identify \"top\" Python Developer candidates. This implies a need to define these criteria.\\n*   **Interview Scheduling**: Coordinating availability between the user and the selected candidates, and sending out calendar invitations.\\n\\nThe output should be a set of confirmed interview schedules with the most suitable candidates.\\n\\n### 2. Required Steps\\n\\n1.  **Clarify \"Top Candidate\" Criteria & CV Location**: Understand what skills, experience, and qualifications define a \"top\" Python Developer for this role, and where the CVs are located.\\n2.  **Obtain CVs**: Access and gather all CV documents.\\n3.  **Parse CVs**: Extract structured data (e.g., name, contact info, skills, experience, education) from each CV.\\n4.  **Filter & Rank Candidates**: Apply the defined criteria to the parsed data to identify and rank the most suitable Python Developer candidates.\\n5.  **Present Shortlist to User**: Provide a summary of the top-ranked candidates for user review and approval.\\n6.  **Gather User Interview Availability**: Obtain the user\\'s preferred dates, times, and interview method/platform.\\n7.  **Contact Candidates for Interview**: Reach out to approved candidates to propose interview slots.\\n8.  **Confirm & Schedule Interviews**: Finalize interview times with candidates and send calendar invitations to all parties.\\n9.  **Notify User of Scheduled Interviews**: Inform the user about the confirmed interview schedule.\\n\\n### 3. Tool Selection\\n\\n*   **User Interaction Tool**: For asking clarifying questions, receiving instructions, and sending updates (e.g., internal chat, email client, SMS gateway if necessary for initial notification).\\n*   **File Access Tool**: To retrieve CVs (e.g., local file system access, cloud storage integration like Google Drive/Dropbox API, email attachment parser).\\n*   **CV Parsing Tool / NLP Model**: To extract structured data from unstructured CV documents (e.g., a specialized CV parsing API, or a general-purpose NLP model for entity extraction).\\n*   **Data Processing/Ranking Logic**: Internal AI capabilities to apply criteria, filter, and rank candidates.\\n*   **Email Client / Communication Tool**: To send shortlist summaries, interview invitations, and confirmations to candidates and the user.\\n*   **Calendar Management Tool**: To create and send calendar invitations (e.g., Google Calendar API, Outlook Calendar API).\\n\\n### 4. Dependencies\\n\\n*   **Step 2** (Obtain CVs) depends on **Step 1** (Knowing CV location).\\n*   **Step 3** (Parse CVs) depends on **Step 2** (Having the CV files).\\n*   **Step 4** (Filter & Rank) depends on **Step 3** (Parsed CV data) and **Step 1** (Defined criteria).\\n*   **Step 5** (Present Shortlist) depends on **Step 4** (Ranked candidates).\\n*   **Step 6** (Gather User Availability) can run somewhat in parallel with initial candidate contact, but ideally, the user\\'s availability is known *before* proposing specific times to candidates.\\n*   **Step 7** (Contact Candidates) depends on **Step 5** (User-approved shortlist) and **Step 6** (User\\'s availability).\\n*   **Step 8** (Confirm & Schedule) depends on **Step 7** (Candidate responses).\\n*   **Step 9** (Notify User) depends on **Step 8** (Confirmed schedules).\\n\\n### 5. Edge Cases\\n\\n*   **No CVs provided/found**: Ask the user for the correct location or if they need help sourcing.\\n*   **CVs in unparseable format**: Attempt OCR if possible; otherwise, inform the user and ask for alternative formats.\\n*   **Ambiguous/Insufficient \"Top Candidate\" Criteria**: Ask the user for more specific details (e.g., \"What\\'s more important: 5 years of Django experience or 2 years of Flask with AWS?\").\\n*   **No suitable candidates found**: Inform the user, suggest broadening criteria, or sourcing more CVs.\\n*   **Candidates don\\'t respond**: Send a follow-up reminder. If still no response, move to the next candidate on the ranked list.\\n*   **Candidates unavailable for proposed times**: Offer alternative times from the user\\'s availability, or coordinate new times with the user.\\n*   **User unavailable for proposed times**: Re-coordinate with candidates or ask the user for new availability.\\n*   **Duplicate CVs**: Deduplicate based on name, email, and key experience points.\\n*   **Missing contact information in CVs**: Inform the user; if no contact, skip the candidate.\\n*   **Time zone differences**: Crucial for scheduling. Always clarify and convert times for all parties.\\n*   **User wants to review all CVs, not just a shortlist**: Adapt by providing a more comprehensive report or raw parsed data.\\n\\n### 6. Validation\\n\\n*   **CV Parsing Accuracy**: Spot-check a few parsed CVs against their originals to ensure data extraction is correct.\\n*   **Filtering/Ranking Logic**: Verify that the top candidates align with the specified criteria.\\n*   **Shortlist Approval**: User explicitly confirms the list of candidates they wish to interview.\\n*   **Interview Confirmation**: All parties (user and candidates) have received and accepted calendar invitations with correct details.\\n*   **Final User Confirmation**: The user confirms that the interviews are successfully scheduled as desired.\\n\\n### 7. Execution Plan\\n\\n**Phase 1: Information Gathering & Candidate Identification**\\n\\n1.  **ACTION**: Send a message to the user (using the provided phone number 962776241974 for initial contact, but requesting an email for detailed communication):\\n    \"Hello! I\\'m ready to help process CVs and schedule interviews for your Python Developer role. To ensure I find the *top* candidates, could you please specify the key criteria? For example, required years of experience, specific Python frameworks (e.g., Django, Flask, FastAPI), database knowledge (SQL/NoSQL), cloud experience (AWS, Azure, GCP), or any other must-have skills. Also, please tell me where the CVs are located (e.g., a shared folder link, email attachment, cloud storage link).\"\\n2.  **WAIT**: For user\\'s response with criteria and CV location.\\n3.  **ACTION**: Based on user\\'s response, access and download all specified CV files.\\n4.  **ACTION**: Process each CV using the CV Parsing Tool to extract structured data (Name, Contact Info, Skills, Experience, Education, Projects, etc.).\\n5.  **ACTION**: Apply the user-defined criteria to filter and rank candidates. Identify the top N (e.g., 5-10) most suitable Python Developers.\\n6.  **ACTION**: Generate a concise summary report for the top-ranked candidates, including their name, key skills, relevant experience highlights, and contact information.\\n7.  **ACTION**: Send the summary report to the user (requesting an email address if not provided, otherwise via a structured message).\\n    \"I\\'ve processed the CVs and identified the top candidates based on your criteria. Please review this shortlist. Which candidates would you like to interview? Also, please provide an email address for sending detailed reports and calendar invites.\"\\n8.  **WAIT**: For user\\'s approval of the shortlist and their preferred email address.\\n\\n**Phase 2: Interview Scheduling**\\n\\n9.  **ACTION**: Once the user approves the shortlist, ask the user for their interview availability:\\n    \"Great! For the approved candidates, please provide your availability for interviews (specific dates and time blocks, including your time zone). Also, what is your preferred method for conducting the interviews (e.g., video call, phone call) and do you have a preferred platform (e.g., Zoom, Google Meet, Microsoft Teams)?\"\\n10. **WAIT**: For user\\'s availability and preferences.\\n11. **ACTION**: For each approved candidate, draft a personalized email (or preferred communication method) proposing 2-3 interview times based on the user\\'s availability, and include details about the interview method/platform.\\n12. **ACTION**: Send these interview invitations to the candidates.\\n13. **ACTION**: Monitor candidate responses. If a candidate confirms, proceed to step 14. If a candidate is unavailable for proposed times, re-coordinate with the user for alternative slots and then with the candidate. If a candidate doesn\\'t respond within a reasonable timeframe (e.g., 24-48 hours), send a polite follow-up.\\n14. **ACTION**: Once an interview time is confirmed with a candidate, use the Calendar Management Tool to create and send a calendar invitation to the candidate and the user (using the email address provided by the user). Ensure the invite includes the date, time (with time zones), duration, interview method, and platform link.\\n15. **ACTION**: Send a final confirmation to the user:\\n    \"Interviews have been successfully scheduled with [Candidate Names] on [Dates/Times]. Calendar invites have been sent to your email and the candidates. Please let me know if you need any adjustments or further assistance.\"', tool_call_id='af427992-63fa-4004-bda2-fdf8ef1f3cae'),\n",
       "  AIMessage(content='I can help you with that! To start, I need a bit more information to ensure I find the best candidates for you.\\n\\nCould you please specify the key criteria for a \"top\" Python Developer? For example, required years of experience, specific Python frameworks (e.g., Django, Flask, FastAPI), database knowledge (SQL/NoSQL), cloud experience (AWS, Azure, GCP), or any other must-have skills.\\n\\nAlso, please tell me where the CVs are located (e.g., a shared folder link, email attachment, cloud storage link).', additional_kwargs={}, response_metadata={'prompt_feedback': {'block_reason': 0, 'safety_ratings': []}, 'finish_reason': 'STOP', 'model_name': 'gemini-2.5-flash', 'safety_ratings': []}, id='run--659a9c3c-5947-45b0-946c-e220e3ab64e7-0', usage_metadata={'input_tokens': 3585, 'output_tokens': 118, 'total_tokens': 3703, 'input_token_details': {'cache_read': 914}})],\n",
       " 'sender_phone': '962776241974',\n",
       " 'sender_identifier': '962776241974@s.whatsapp.net'}"
      ]
     },
     "execution_count": 22,
     "metadata": {},
     "output_type": "execute_result"
    }
   ],
   "source": [
    "result"
   ]
  },
  {
   "cell_type": "code",
   "execution_count": 24,
   "metadata": {},
   "outputs": [
    {
     "name": "stdout",
     "output_type": "stream",
     "text": [
      "The user wants to process CVs for a Python Developer role, identify the best candidates, and then schedule interviews with them. The provided phone number (962776241974) is for contacting the user.\n",
      "\n",
      "## Structured Analysis\n",
      "\n",
      "### 1. Task Understanding\n",
      "\n",
      "The core task is to streamline the hiring process for a Python Developer. This involves:\n",
      "*   **CV Processing**: Reading and extracting relevant information from multiple CVs.\n",
      "*   **Candidate Selection**: Applying specific criteria to identify \"top\" Python Developer candidates. This implies a need to define these criteria.\n",
      "*   **Interview Scheduling**: Coordinating availability between the user and the selected candidates, and sending out calendar invitations.\n",
      "\n",
      "The output should be a set of confirmed interview schedules with the most suitable candidates.\n",
      "\n",
      "### 2. Required Steps\n",
      "\n",
      "1.  **Clarify \"Top Candidate\" Criteria & CV Location**: Understand what skills, experience, and qualifications define a \"top\" Python Developer for this role, and where the CVs are located.\n",
      "2.  **Obtain CVs**: Access and gather all CV documents.\n",
      "3.  **Parse CVs**: Extract structured data (e.g., name, contact info, skills, experience, education) from each CV.\n",
      "4.  **Filter & Rank Candidates**: Apply the defined criteria to the parsed data to identify and rank the most suitable Python Developer candidates.\n",
      "5.  **Present Shortlist to User**: Provide a summary of the top-ranked candidates for user review and approval.\n",
      "6.  **Gather User Interview Availability**: Obtain the user's preferred dates, times, and interview method/platform.\n",
      "7.  **Contact Candidates for Interview**: Reach out to approved candidates to propose interview slots.\n",
      "8.  **Confirm & Schedule Interviews**: Finalize interview times with candidates and send calendar invitations to all parties.\n",
      "9.  **Notify User of Scheduled Interviews**: Inform the user about the confirmed interview schedule.\n",
      "\n",
      "### 3. Tool Selection\n",
      "\n",
      "*   **User Interaction Tool**: For asking clarifying questions, receiving instructions, and sending updates (e.g., internal chat, email client, SMS gateway if necessary for initial notification).\n",
      "*   **File Access Tool**: To retrieve CVs (e.g., local file system access, cloud storage integration like Google Drive/Dropbox API, email attachment parser).\n",
      "*   **CV Parsing Tool / NLP Model**: To extract structured data from unstructured CV documents (e.g., a specialized CV parsing API, or a general-purpose NLP model for entity extraction).\n",
      "*   **Data Processing/Ranking Logic**: Internal AI capabilities to apply criteria, filter, and rank candidates.\n",
      "*   **Email Client / Communication Tool**: To send shortlist summaries, interview invitations, and confirmations to candidates and the user.\n",
      "*   **Calendar Management Tool**: To create and send calendar invitations (e.g., Google Calendar API, Outlook Calendar API).\n",
      "\n",
      "### 4. Dependencies\n",
      "\n",
      "*   **Step 2** (Obtain CVs) depends on **Step 1** (Knowing CV location).\n",
      "*   **Step 3** (Parse CVs) depends on **Step 2** (Having the CV files).\n",
      "*   **Step 4** (Filter & Rank) depends on **Step 3** (Parsed CV data) and **Step 1** (Defined criteria).\n",
      "*   **Step 5** (Present Shortlist) depends on **Step 4** (Ranked candidates).\n",
      "*   **Step 6** (Gather User Availability) can run somewhat in parallel with initial candidate contact, but ideally, the user's availability is known *before* proposing specific times to candidates.\n",
      "*   **Step 7** (Contact Candidates) depends on **Step 5** (User-approved shortlist) and **Step 6** (User's availability).\n",
      "*   **Step 8** (Confirm & Schedule) depends on **Step 7** (Candidate responses).\n",
      "*   **Step 9** (Notify User) depends on **Step 8** (Confirmed schedules).\n",
      "\n",
      "### 5. Edge Cases\n",
      "\n",
      "*   **No CVs provided/found**: Ask the user for the correct location or if they need help sourcing.\n",
      "*   **CVs in unparseable format**: Attempt OCR if possible; otherwise, inform the user and ask for alternative formats.\n",
      "*   **Ambiguous/Insufficient \"Top Candidate\" Criteria**: Ask the user for more specific details (e.g., \"What's more important: 5 years of Django experience or 2 years of Flask with AWS?\").\n",
      "*   **No suitable candidates found**: Inform the user, suggest broadening criteria, or sourcing more CVs.\n",
      "*   **Candidates don't respond**: Send a follow-up reminder. If still no response, move to the next candidate on the ranked list.\n",
      "*   **Candidates unavailable for proposed times**: Offer alternative times from the user's availability, or coordinate new times with the user.\n",
      "*   **User unavailable for proposed times**: Re-coordinate with candidates or ask the user for new availability.\n",
      "*   **Duplicate CVs**: Deduplicate based on name, email, and key experience points.\n",
      "*   **Missing contact information in CVs**: Inform the user; if no contact, skip the candidate.\n",
      "*   **Time zone differences**: Crucial for scheduling. Always clarify and convert times for all parties.\n",
      "*   **User wants to review all CVs, not just a shortlist**: Adapt by providing a more comprehensive report or raw parsed data.\n",
      "\n",
      "### 6. Validation\n",
      "\n",
      "*   **CV Parsing Accuracy**: Spot-check a few parsed CVs against their originals to ensure data extraction is correct.\n",
      "*   **Filtering/Ranking Logic**: Verify that the top candidates align with the specified criteria.\n",
      "*   **Shortlist Approval**: User explicitly confirms the list of candidates they wish to interview.\n",
      "*   **Interview Confirmation**: All parties (user and candidates) have received and accepted calendar invitations with correct details.\n",
      "*   **Final User Confirmation**: The user confirms that the interviews are successfully scheduled as desired.\n",
      "\n",
      "### 7. Execution Plan\n",
      "\n",
      "**Phase 1: Information Gathering & Candidate Identification**\n",
      "\n",
      "1.  **ACTION**: Send a message to the user (using the provided phone number 962776241974 for initial contact, but requesting an email for detailed communication):\n",
      "    \"Hello! I'm ready to help process CVs and schedule interviews for your Python Developer role. To ensure I find the *top* candidates, could you please specify the key criteria? For example, required years of experience, specific Python frameworks (e.g., Django, Flask, FastAPI), database knowledge (SQL/NoSQL), cloud experience (AWS, Azure, GCP), or any other must-have skills. Also, please tell me where the CVs are located (e.g., a shared folder link, email attachment, cloud storage link).\"\n",
      "2.  **WAIT**: For user's response with criteria and CV location.\n",
      "3.  **ACTION**: Based on user's response, access and download all specified CV files.\n",
      "4.  **ACTION**: Process each CV using the CV Parsing Tool to extract structured data (Name, Contact Info, Skills, Experience, Education, Projects, etc.).\n",
      "5.  **ACTION**: Apply the user-defined criteria to filter and rank candidates. Identify the top N (e.g., 5-10) most suitable Python Developers.\n",
      "6.  **ACTION**: Generate a concise summary report for the top-ranked candidates, including their name, key skills, relevant experience highlights, and contact information.\n",
      "7.  **ACTION**: Send the summary report to the user (requesting an email address if not provided, otherwise via a structured message).\n",
      "    \"I've processed the CVs and identified the top candidates based on your criteria. Please review this shortlist. Which candidates would you like to interview? Also, please provide an email address for sending detailed reports and calendar invites.\"\n",
      "8.  **WAIT**: For user's approval of the shortlist and their preferred email address.\n",
      "\n",
      "**Phase 2: Interview Scheduling**\n",
      "\n",
      "9.  **ACTION**: Once the user approves the shortlist, ask the user for their interview availability:\n",
      "    \"Great! For the approved candidates, please provide your availability for interviews (specific dates and time blocks, including your time zone). Also, what is your preferred method for conducting the interviews (e.g., video call, phone call) and do you have a preferred platform (e.g., Zoom, Google Meet, Microsoft Teams)?\"\n",
      "10. **WAIT**: For user's availability and preferences.\n",
      "11. **ACTION**: For each approved candidate, draft a personalized email (or preferred communication method) proposing 2-3 interview times based on the user's availability, and include details about the interview method/platform.\n",
      "12. **ACTION**: Send these interview invitations to the candidates.\n",
      "13. **ACTION**: Monitor candidate responses. If a candidate confirms, proceed to step 14. If a candidate is unavailable for proposed times, re-coordinate with the user for alternative slots and then with the candidate. If a candidate doesn't respond within a reasonable timeframe (e.g., 24-48 hours), send a polite follow-up.\n",
      "14. **ACTION**: Once an interview time is confirmed with a candidate, use the Calendar Management Tool to create and send a calendar invitation to the candidate and the user (using the email address provided by the user). Ensure the invite includes the date, time (with time zones), duration, interview method, and platform link.\n",
      "15. **ACTION**: Send a final confirmation to the user:\n",
      "    \"Interviews have been successfully scheduled with [Candidate Names] on [Dates/Times]. Calendar invites have been sent to your email and the candidates. Please let me know if you need any adjustments or further assistance.\"\n"
     ]
    }
   ],
   "source": [
    "print(result['messages'][-1].content)"
   ]
  },
  {
   "cell_type": "markdown",
   "metadata": {},
   "source": [
    "## 4. Test CV Management Workflow\n",
    "\n",
    "### 4.1 Test: Create Sheet with Phone Number"
   ]
  },
  {
   "cell_type": "code",
   "execution_count": 17,
   "metadata": {},
   "outputs": [
    {
     "name": "stdout",
     "output_type": "stream",
     "text": [
      "================================================================================\n",
      "TEST: Create CV sheet (automatic phone number)\n",
      "================================================================================\n",
      "\n",
      "🔧 Executing tool: execute_tool\n",
      "   Args: {'parameters': {'sheet_name': '962778435754'}, 'tool_name': 'search_create_sheet'}\n",
      "✅ Found sheet: 962778435754\n",
      "✅ Tool result: {\"sheet_id\": \"10CHJOisk-dvZEFOdIihM4v-dsTbpB_vKe8T_52rzhVg\", \"success\": true}...\n",
      "📋 Checking if agent used phone number automatically...\n",
      "\n",
      "\n",
      "📝 Response: I have created a new Google Sheet for you. You can access it with the ID: `10CHJOisk-dvZEFOdIihM4v-dsTbpB_vKe8T_52rzhVg`.\n"
     ]
    }
   ],
   "source": [
    "print(\"=\"*80)\n",
    "print(\"TEST: Create CV sheet (automatic phone number)\")\n",
    "print(\"=\"*80 + \"\\n\")\n",
    "\n",
    "test_phone = \"962778435754\"\n",
    "\n",
    "result = agent_app.invoke({\n",
    "    \"messages\": [\n",
    "        HumanMessage(content=f\"sender: {test_phone}\\n\\nmessage: Create a sheet for me\")\n",
    "    ],\n",
    "    \"sender_phone\": test_phone,\n",
    "    \"sender_identifier\": f\"{test_phone}@s.whatsapp.net\"\n",
    "})\n",
    "\n",
    "# Check workflow\n",
    "print(\"📋 Checking if agent used phone number automatically...\\n\")\n",
    "\n",
    "for msg in result[\"messages\"]:\n",
    "    if isinstance(msg, AIMessage) and hasattr(msg, 'tool_calls') and msg.tool_calls:\n",
    "        for tc in msg.tool_calls:\n",
    "            if 'sheet' in tc['name'].lower():\n",
    "                print(f\"Tool: {tc['name']}\")\n",
    "                print(f\"Args: {json.dumps(tc['args'], indent=2)}\")\n",
    "                \n",
    "                # Check if phone number was used\n",
    "                if test_phone in str(tc['args']):\n",
    "                    print(f\"\\n✅ Agent correctly used phone number: {test_phone}\")\n",
    "                else:\n",
    "                    print(f\"\\n⚠️  Agent did not use phone number automatically\")\n",
    "\n",
    "# Final response\n",
    "for msg in reversed(result[\"messages\"]):\n",
    "    if isinstance(msg, AIMessage) and msg.content:\n",
    "        print(f\"\\n📝 Response: {msg.content}\")\n",
    "        break"
   ]
  },
  {
   "cell_type": "markdown",
   "metadata": {},
   "source": [
    "### 4.2 Test: Process CVs Workflow"
   ]
  },
  {
   "cell_type": "code",
   "execution_count": 15,
   "metadata": {},
   "outputs": [
    {
     "name": "stdout",
     "output_type": "stream",
     "text": [
      "================================================================================\n",
      "TEST: Process CVs (full workflow)\n",
      "================================================================================\n",
      "\n",
      "⚠️  This will:\n",
      "  1. List available tools\n",
      "  2. Use thinking to plan workflow\n",
      "  3. Create/find sheet with phone number\n",
      "  4. Process CVs from Google Drive\n",
      "\n",
      "⏱️  May take several minutes...\n",
      "\n",
      "🔧 Executing tool: execute_tool\n",
      "   Args: {'parameters': {'task': 'Process CVs', 'context': 'User phone: 962778435754'}, 'tool_name': 'sequential_thinking'}\n",
      "✅ Tool result: Here's a structured analysis for processing CVs:\n",
      "\n",
      "## Structured Analysis: Process CVs\n",
      "\n",
      "**User Phone:...\n",
      "🔧 Executing tool: execute_tool\n",
      "   Args: {'tool_name': 'search_create_sheet', 'parameters': {'sheet_name': '962778435754'}}\n",
      "✅ Found sheet: 962778435754\n",
      "✅ Tool result: {\"sheet_id\": \"10CHJOisk-dvZEFOdIihM4v-dsTbpB_vKe8T_52rzhVg\", \"success\": true}...\n",
      "🔧 Executing tool: execute_tool\n",
      "   Args: {'tool_name': 'process_cvs', 'parameters': {'sheet_id': '10CHJOisk-dvZEFOdIihM4v-dsTbpB_vKe8T_52rzhVg'}}\n",
      "✅ Found 5 PDF files in folder\n",
      "ℹ️ Sheet is empty or has only headers\n",
      "   Download progress: 100%\n",
      "✅ File downloaded successfully\n",
      "✅ Appended 1 rows (9 cells)\n",
      "   Download progress: 100%\n",
      "✅ File downloaded successfully\n",
      "✅ Appended 1 rows (9 cells)\n",
      "   Download progress: 100%\n",
      "✅ File downloaded successfully\n",
      "✅ Appended 1 rows (9 cells)\n",
      "   Download progress: 100%\n",
      "✅ File downloaded successfully\n",
      "✅ Appended 1 rows (9 cells)\n",
      "   Download progress: 100%\n",
      "✅ File downloaded successfully\n",
      "✅ Appended 1 rows (9 cells)\n",
      "✅ Tool result: {\"success\": true, \"processed\": 5, \"skipped\": 0}...\n",
      "📋 Workflow Steps:\n",
      "\n",
      "Step 1: execute_tool\n",
      "  Args: {\"parameters\": {\"task\": \"Process CVs\", \"context\": \"User phone: 962778435754\"}, \"tool_name\": \"sequential_thinking\"}\n",
      "  → Result: Here's a structured analysis for processing CVs:\n",
      "\n",
      "## Structured Analysis: Proces...\n",
      "Step 2: execute_tool\n",
      "  Args: {\"tool_name\": \"search_create_sheet\", \"parameters\": {\"sheet_name\": \"962778435754\"}}\n",
      "  → Result: {\"sheet_id\": \"10CHJOisk-dvZEFOdIihM4v-dsTbpB_vKe8T_52rzhVg\", \"success\": true}...\n",
      "Step 3: execute_tool\n",
      "  Args: {\"tool_name\": \"process_cvs\", \"parameters\": {\"sheet_id\": \"10CHJOisk-dvZEFOdIihM4v-dsTbpB_vKe8T_52rzhVg\"}}\n",
      "  → Result: {\"success\": true, \"processed\": 5, \"skipped\": 0}...\n",
      "\n",
      "📝 Final Response:\n",
      "I have successfully processed 5 CVs and extracted their data into the sheet associated with your phone number.\n",
      "\n",
      "Would you like me to search for candidates based on a specific job position now?\n"
     ]
    }
   ],
   "source": [
    "print(\"=\"*80)\n",
    "print(\"TEST: Process CVs (full workflow)\")\n",
    "print(\"=\"*80 + \"\\n\")\n",
    "\n",
    "print(\"⚠️  This will:\")\n",
    "print(\"  1. List available tools\")\n",
    "print(\"  2. Use thinking to plan workflow\")\n",
    "print(\"  3. Create/find sheet with phone number\")\n",
    "print(\"  4. Process CVs from Google Drive\")\n",
    "print(\"\\n⏱️  May take several minutes...\\n\")\n",
    "test_phone = \"962778435754\"\n",
    "result = agent_app.invoke({\n",
    "    \"messages\": [\n",
    "        HumanMessage(content=f\"sender: {test_phone}\\n\\nmessage: Start processing CVs\")\n",
    "    ],\n",
    "    \"sender_phone\": test_phone,\n",
    "    \"sender_identifier\": f\"{test_phone}@s.whatsapp.net\"\n",
    "})\n",
    "\n",
    "# Display workflow steps\n",
    "print(\"📋 Workflow Steps:\\n\")\n",
    "step = 1\n",
    "for msg in result[\"messages\"]:\n",
    "    if isinstance(msg, AIMessage) and hasattr(msg, 'tool_calls') and msg.tool_calls:\n",
    "        for tc in msg.tool_calls:\n",
    "            print(f\"Step {step}: {tc['name']}\")\n",
    "            if tc['args']:\n",
    "                print(f\"  Args: {json.dumps(tc['args'])}\")\n",
    "            step += 1\n",
    "    elif isinstance(msg, ToolMessage):\n",
    "        print(f\"  → Result: {msg.content[:80]}...\")\n",
    "\n",
    "# Final response\n",
    "for msg in reversed(result[\"messages\"]):\n",
    "    if isinstance(msg, AIMessage) and msg.content:\n",
    "        print(f\"\\n📝 Final Response:\\n{msg.content}\")\n",
    "        break"
   ]
  },
  {
   "cell_type": "markdown",
   "metadata": {},
   "source": [
    "### 4.3 Test: Search Candidates"
   ]
  },
  {
   "cell_type": "code",
   "execution_count": null,
   "metadata": {},
   "outputs": [
    {
     "name": "stdout",
     "output_type": "stream",
     "text": [
      "================================================================================\n",
      "TEST: Search candidates for job position\n",
      "================================================================================\n",
      "\n",
      "🔧 Executing tool: execute_tool\n",
      "   Args: {'parameters': {'sheet_name': '962778435754'}, 'tool_name': 'search_create_sheet'}\n",
      "✅ Tool result: Error executing tool 'search_create_sheet': <HttpError 403 when requesting https://sheets.googleapis...\n",
      "📋 Tools Used:\n",
      "\n",
      "- execute_tool\n",
      "\n",
      "📝 Results:\n",
      "I apologize, but it seems I don't have the necessary permissions to access or create Google Sheets. Please ensure that the appropriate permissions are granted to me.\n"
     ]
    }
   ],
   "source": [
    "print(\"=\"*80)\n",
    "print(\"TEST: Search candidates for job position\")\n",
    "print(\"=\"*80 + \"\\n\")\n",
    "\n",
    "result = agent_app.invoke({\n",
    "    \"messages\": [\n",
    "        HumanMessage(content=f\"sender: {test_phone}\\n\\nmessage: Find me top 5 candidates for Senior Python Developer\")\n",
    "    ],\n",
    "    \"sender_phone\": test_phone,\n",
    "    \"sender_identifier\": f\"{test_phone}@s.whatsapp.net\"\n",
    "})\n",
    "\n",
    "# Display workflow\n",
    "print(\"📋 Tools Used:\\n\")\n",
    "for msg in result[\"messages\"]:\n",
    "    if isinstance(msg, AIMessage) and hasattr(msg, 'tool_calls') and msg.tool_calls:\n",
    "        for tc in msg.tool_calls:\n",
    "            print(f\"- {tc['name']}\")\n",
    "            if 'search' in tc['name'].lower():\n",
    "                print(f\"  Job: {tc['args'].get('job_position', 'N/A')}\")\n",
    "\n",
    "# Final response\n",
    "for msg in reversed(result[\"messages\"]):\n",
    "    if isinstance(msg, AIMessage) and msg.content:\n",
    "        print(f\"\\n📝 Results:\\n{msg.content}\")\n",
    "        break"
   ]
  },
  {
   "cell_type": "markdown",
   "metadata": {},
   "source": [
    "## 5. Test Communication Tools\n",
    "\n",
    "### 5.1 Test: Send Email via Gmail MCP"
   ]
  },
  {
   "cell_type": "code",
   "execution_count": null,
   "metadata": {},
   "outputs": [
    {
     "name": "stdout",
     "output_type": "stream",
     "text": [
      "================================================================================\n",
      "TEST: Send email via Gmail MCP tool\n",
      "================================================================================\n",
      "\n",
      "⚠️  This will send a real email!\n",
      "To test: Update recipient and uncomment code below\n",
      "\n",
      "🔧 Executing tool: execute_tool\n",
      "   Args: {'parameters': {'to_email': 'test@example.com', 'subject': 'Test', 'body': 'This is a test', 'operation': 'send_email'}, 'tool_name': 'gmail'}\n",
      "✅ Tool result: {\"success\": false, \"error\": \"Failed to send email: <HttpError 400 when requesting https://gmail.goog...\n",
      "Response: I'm sorry, I was unable to send the email. It seems there was a precondition check failed. This could be due to a variety of reasons, such as invalid sender credentials or a temporary issue with the Gmail API. Please try again later or check your Gmail settings.\n",
      "Expected: Agent should use execute_tool(gmail, {operation: send_email, ...})\n"
     ]
    }
   ],
   "source": [
    "print(\"=\"*80)\n",
    "print(\"TEST: Send email via Gmail MCP tool\")\n",
    "print(\"=\"*80 + \"\\n\")\n",
    "\n",
    "print(\"⚠️  This will send a real email!\")\n",
    "print(\"To test: Update recipient and uncomment code below\\n\")\n",
    "\n",
    "# Uncomment to test\n",
    "result = agent_app.invoke({\n",
    "    \"messages\": [\n",
    "        HumanMessage(content=f\"sender: {test_phone}\\n\\nmessage: Send email to test@example.com with subject 'Test' and body 'This is a test'\")\n",
    "    ],\n",
    "    \"sender_phone\": test_phone,\n",
    "    \"sender_identifier\": f\"{test_phone}@s.whatsapp.net\"\n",
    "})\n",
    "\n",
    "for msg in reversed(result[\"messages\"]):\n",
    "    if isinstance(msg, AIMessage) and msg.content:\n",
    "        print(f\"Response: {msg.content}\")\n",
    "        break\n",
    "\n",
    "print(\"Expected: Agent should use execute_tool(gmail, {operation: send_email, ...})\")"
   ]
  },
  {
   "cell_type": "markdown",
   "metadata": {},
   "source": [
    "### 5.2 Test: Schedule Calendar Event via Calendar MCP"
   ]
  },
  {
   "cell_type": "code",
   "execution_count": null,
   "metadata": {},
   "outputs": [],
   "source": [
    "print(\"=\"*80)\n",
    "print(\"TEST: Schedule calendar event via Calendar MCP\")\n",
    "print(\"=\"*80 + \"\\n\")\n",
    "\n",
    "print(\"⚠️  This will create a real calendar event!\")\n",
    "print(\"To test: Uncomment code below\\n\")\n",
    "\n",
    "# Uncomment to test\n",
    "# result = agent_app.invoke({\n",
    "#     \"messages\": [\n",
    "#         HumanMessage(content=f\"sender: {test_phone}\\n\\nmessage: Schedule interview with john@example.com tomorrow at 2 PM UTC\")\n",
    "#     ],\n",
    "#     \"sender_phone\": test_phone,\n",
    "#     \"sender_identifier\": f\"{test_phone}@s.whatsapp.net\"\n",
    "# })\n",
    "\n",
    "# for msg in reversed(result[\"messages\"]):\n",
    "#     if isinstance(msg, AIMessage) and msg.content:\n",
    "#         print(f\"Response: {msg.content}\")\n",
    "#         break\n",
    "\n",
    "print(\"Expected: Agent should:\")\n",
    "print(\"  1. Get current datetime\")\n",
    "print(\"  2. Use execute_tool(calendar, {operation: create_event, ...})\")"
   ]
  },
  {
   "cell_type": "markdown",
   "metadata": {},
   "source": [
    "## 6. Test Complete Recruitment Flow\n",
    "\n",
    "### End-to-End Scenario"
   ]
  },
  {
   "cell_type": "code",
   "execution_count": null,
   "metadata": {},
   "outputs": [],
   "source": [
    "print(\"=\"*80)\n",
    "print(\"END-TO-END TEST: Complete Recruitment with MCP\")\n",
    "print(\"=\"*80 + \"\\n\")\n",
    "\n",
    "print(\"Scenario:\")\n",
    "print(\"1. Process CVs\")\n",
    "print(\"2. Find top candidates\")\n",
    "print(\"3. Schedule interviews\")\n",
    "print(\"4. Send email invitations\\n\")\n",
    "\n",
    "# Step 1: Process CVs\n",
    "print(\"\\n\" + \"=\"*60)\n",
    "print(\"STEP 1: Process CVs\")\n",
    "print(\"=\"*60 + \"\\n\")\n",
    "\n",
    "result1 = agent_app.invoke({\n",
    "    \"messages\": [\n",
    "        HumanMessage(content=f\"sender: {test_phone}\\n\\nmessage: Process CVs\")\n",
    "    ],\n",
    "    \"sender_phone\": test_phone,\n",
    "    \"sender_identifier\": f\"{test_phone}@s.whatsapp.net\"\n",
    "})\n",
    "\n",
    "for msg in reversed(result1[\"messages\"]):\n",
    "    if isinstance(msg, AIMessage) and msg.content:\n",
    "        print(f\"✅ {msg.content[:100]}...\")\n",
    "        break\n",
    "\n",
    "# Step 2: Search candidates\n",
    "print(\"\\n\" + \"=\"*60)\n",
    "print(\"STEP 2: Find Candidates\")\n",
    "print(\"=\"*60 + \"\\n\")\n",
    "\n",
    "result2 = agent_app.invoke({\n",
    "    \"messages\": result1[\"messages\"] + [\n",
    "        HumanMessage(content=f\"sender: {test_phone}\\n\\nmessage: Find top 3 candidates for Backend Developer\")\n",
    "    ],\n",
    "    \"sender_phone\": test_phone,\n",
    "    \"sender_identifier\": f\"{test_phone}@s.whatsapp.net\"\n",
    "})\n",
    "\n",
    "for msg in reversed(result2[\"messages\"]):\n",
    "    if isinstance(msg, AIMessage) and msg.content:\n",
    "        print(f\"✅ {msg.content[:100]}...\")\n",
    "        break\n",
    "\n",
    "print(\"\\n✅ End-to-end workflow completed!\")\n",
    "print(\"\\nMCP Architecture Features Demonstrated:\")\n",
    "print(\"  ✅ list_tools for tool discovery\")\n",
    "print(\"  ✅ execute_tool for all operations\")\n",
    "print(\"  ✅ sequential_thinking for planning\")\n",
    "print(\"  ✅ Automatic phone → sheet_name derivation\")\n",
    "print(\"  ✅ Multi-tool orchestration\")"
   ]
  },
  {
   "cell_type": "markdown",
   "metadata": {},
   "source": "## Summary\n\n### ✅ What We Built:\n\n1. **MCP Infrastructure**\n   - Tool registry with 9 MCP tools\n   - Protocol tools: `list_tools`, `execute_tool`\n   - Sequential thinking capability\n\n2. **LangGraph Agent** (Built Inline)\n   - LLM with MCP protocol tools\n   - Agent state with sender context\n   - Agent node (reasoning)\n   - Tool node (execution)\n   - Routing logic\n   - Compiled graph\n\n3. **Complete Tool Suite**\n   - CV management (sheet, process, search)\n   - Communication (gmail, calendar, webex)\n   - Utilities (datetime, thinking)\n\n### ✅ What We Tested:\n\n- MCP protocol tools\n- Tool discovery (`list_tools`)\n- Tool execution (`execute_tool`)\n- Sequential thinking\n- CV workflows\n- Communication tools\n- End-to-end scenarios\n- Conversation memory\n- **Enhanced MCP Operations** ⭐ NEW\n\n### 🔧 Enhanced MCP Tools (Full CRUD)\n\n#### Gmail MCP - 5 Operations\n- ✅ `send_email` - Send emails to candidates\n- ✅ `get_emails` - Retrieve inbox emails\n- ✅ `read_email` - Read specific email\n- ✅ `reply_email` - Reply to threads\n- ✅ `search_emails` - Search by query\n\n#### Calendar MCP - 5 Operations (Complete CRUD)\n- ✅ `create_event` - Schedule interviews\n- ✅ `list_events` - View upcoming events\n- ✅ `get_event` - Get event details\n- ✅ `update_event` - Modify events\n- ✅ `delete_event` - Cancel events\n\n#### CV Sheet Manager - 7 Operations (Complete CRUD)\n- ✅ `read_all_rows` - Get all candidates\n- ✅ `append_rows` - Add candidates\n- ✅ `update_row` - Modify entries\n- ✅ `delete_row` - Remove entries\n- ✅ `search_rows` - Query candidates\n- ✅ `get_row_count` - Count entries\n- ✅ `clear_sheet` - Reset sheet (keeps headers)\n\n### 📁 MCP Organization\n\nAll tools split into separate files for easy monitoring:\n```\nmcp/\n├── gmail_mcp.py          # Email operations (5 ops)\n├── calendar_mcp.py       # Calendar CRUD (5 ops)\n├── cv_manager.py         # Sheet CRUD (7 ops)\n├── cv_tools_mcp.py       # CV processing (3 ops)\n├── datetime_mcp.py       # Time utilities\n├── webex_mcp.py          # Webex meetings\n├── thinking.py           # AI planning\n└── base.py              # Core infrastructure\n```\n\n### 🎯 Dashboard & Monitoring\n\nAccess **http://localhost:8000** for:\n- Real-time request tracking\n- Tool execution monitoring\n- Performance metrics per tool\n- Error tracking\n- AI decision logging\n\nSee **`MCP_TOOLS_OVERVIEW.md`** for complete documentation.\n\n### 🎯 Next Steps:\n\n1. Run main application: `python main.py`\n2. Access dashboard: `http://localhost:8000`\n3. Test with real WhatsApp messages\n4. Monitor MCP tool performance in dashboard\n5. Use enhanced operations for complete recruitment workflows\n6. Review tool execution logs\n7. Optimize based on dashboard insights\n\n### 📚 Documentation Files\n\n- **`MCP_TOOLS_OVERVIEW.md`** - Complete MCP tools reference\n- **`test_components.ipynb`** - Component-level testing\n- **`test_agent.ipynb`** - Agent workflow testing (this notebook)\n- **Dashboard** - Real-time monitoring at http://localhost:8000"
  },
  {
   "cell_type": "code",
   "source": "print(\"=\"*80)\nprint(\"TEST: Enhanced CV Sheet Manager with Agent\")\nprint(\"=\"*80 + \"\\n\")\n\n# Test 1: Read all candidates\nprint(\"Test 1: Agent reads all candidates from sheet\")\nprint(\"-\" * 60)\n\nresult = agent_app.invoke({\n    \"messages\": [\n        HumanMessage(content=f\"sender: {test_phone}\\n\\nmessage: Show me all candidates in my sheet\")\n    ],\n    \"sender_phone\": test_phone,\n    \"sender_identifier\": f\"{test_phone}@s.whatsapp.net\"\n})\n\nfor msg in reversed(result[\"messages\"]):\n    if isinstance(msg, AIMessage) and msg.content:\n        print(f\"Agent Response:\\n{msg.content[:500]}...\")\n        break\n\n# Test 2: Search candidates\nprint(\"\\n\\nTest 2: Agent searches for Python developers\")\nprint(\"-\" * 60)\n\nresult = agent_app.invoke({\n    \"messages\": [\n        HumanMessage(content=f\"sender: {test_phone}\\n\\nmessage: Find all candidates with Python skills\")\n    ],\n    \"sender_phone\": test_phone,\n    \"sender_identifier\": f\"{test_phone}@s.whatsapp.net\"\n})\n\nfor msg in reversed(result[\"messages\"]):\n    if isinstance(msg, AIMessage) and msg.content:\n        print(f\"Agent Response:\\n{msg.content[:500]}...\")\n        break\n\nprint(\"\\n✅ Enhanced CV Sheet Manager operations tested!\")",
   "metadata": {},
   "execution_count": null,
   "outputs": []
  },
  {
   "cell_type": "code",
   "source": "print(\"=\"*80)\nprint(\"TEST: Enhanced Calendar Operations with Agent\")\nprint(\"=\"*80 + \"\\n\")\n\n# Test: Agent lists upcoming events\nprint(\"Test: Agent lists upcoming calendar events\")\nprint(\"-\" * 60)\n\nresult = agent_app.invoke({\n    \"messages\": [\n        HumanMessage(content=\"Show me my upcoming calendar events\")\n    ],\n    \"sender_phone\": test_phone,\n    \"sender_identifier\": f\"{test_phone}@s.whatsapp.net\"\n})\n\nfor msg in reversed(result[\"messages\"]):\n    if isinstance(msg, AIMessage) and msg.content:\n        print(f\"Agent Response:\\n{msg.content[:500]}...\")\n        break\n\nprint(\"\\n✅ Enhanced Calendar operations tested!\")",
   "metadata": {},
   "execution_count": null,
   "outputs": []
  },
  {
   "cell_type": "code",
   "source": "print(\"=\"*80)\nprint(\"TEST: Enhanced Gmail Operations with Agent\")\nprint(\"=\"*80 + \"\\n\")\n\n# Test 1: Get emails through agent\nprint(\"Test 1: Agent retrieves recent emails\")\nprint(\"-\" * 60)\n\nresult = agent_app.invoke({\n    \"messages\": [\n        HumanMessage(content=\"Get my 5 most recent emails from inbox\")\n    ],\n    \"sender_phone\": test_phone,\n    \"sender_identifier\": f\"{test_phone}@s.whatsapp.net\"\n})\n\n# Display result\nfor msg in reversed(result[\"messages\"]):\n    if isinstance(msg, AIMessage) and msg.content:\n        print(f\"Agent Response:\\n{msg.content[:500]}...\")\n        break\n\n# Test 2: Search emails\nprint(\"\\n\\nTest 2: Agent searches emails\")\nprint(\"-\" * 60)\n\nresult = agent_app.invoke({\n    \"messages\": [\n        HumanMessage(content=\"Search for emails about interviews\")\n    ],\n    \"sender_phone\": test_phone,\n    \"sender_identifier\": f\"{test_phone}@s.whatsapp.net\"\n})\n\nfor msg in reversed(result[\"messages\"]):\n    if isinstance(msg, AIMessage) and msg.content:\n        print(f\"Agent Response:\\n{msg.content[:500]}...\")\n        break\n\nprint(\"\\n✅ Enhanced Gmail operations tested!\")",
   "metadata": {},
   "execution_count": null,
   "outputs": []
  },
  {
   "cell_type": "markdown",
   "source": "## 8. Test Enhanced MCP Operations\n\nTest the new operations added to Gmail, Calendar, and CV Sheet Manager MCPs",
   "metadata": {}
  },
  {
   "cell_type": "code",
   "execution_count": null,
   "metadata": {},
   "outputs": [],
   "source": [
    "from services.memory import ConversationMemory\n",
    "\n",
    "print(\"=\"*80)\n",
    "print(\"TEST: Conversation Memory\")\n",
    "print(\"=\"*80 + \"\\n\")\n",
    "\n",
    "# Create memory for test user\n",
    "test_session = \"test_memory_962778435754@s.whatsapp.net\"\n",
    "memory = ConversationMemory(test_session)\n",
    "\n",
    "# Clear previous test data\n",
    "from services.memory import Session\n",
    "session = Session()\n",
    "session.query(memory.ConversationHistory).filter_by(session_id=test_session).delete()\n",
    "session.commit()\n",
    "session.close()\n",
    "print(\"✅ Cleared previous test data\\n\")\n",
    "\n",
    "# Add some messages\n",
    "print(\"Adding test messages...\")\n",
    "memory.add_message(\"user\", \"What is your name?\")\n",
    "memory.add_message(\"assistant\", \"I am your HR recruitment assistant.\")\n",
    "memory.add_message(\"user\", \"Can you process CVs?\")\n",
    "memory.add_message(\"assistant\", \"Yes, I can process CVs from Google Drive.\")\n",
    "print(\"✅ Added 4 messages\\n\")\n",
    "\n",
    "# Retrieve history\n",
    "print(\"Retrieving conversation history (limit=3):\")\n",
    "history = memory.get_history(limit=3)\n",
    "for msg in history:\n",
    "    print(f\"  [{msg['role']}]: {msg['content']}\")\n",
    "\n",
    "print(f\"\\n✅ Memory retrieved {len(history)} messages\")\n",
    "print(f\"   (Limited to 3 most recent)\\n\")\n",
    "\n",
    "# Test with agent using memory\n",
    "print(\"\\n\" + \"=\"*60)\n",
    "print(\"TEST: Agent with Memory Context\")\n",
    "print(\"=\"*60 + \"\\n\")\n",
    "\n",
    "# Get history for agent\n",
    "agent_messages = []\n",
    "for h in memory.get_history(limit=2):\n",
    "    if h['role'] == 'user':\n",
    "        agent_messages.append(HumanMessage(content=h['content']))\n",
    "    elif h['role'] == 'assistant':\n",
    "        agent_messages.append(AIMessage(content=h['content']))\n",
    "\n",
    "# Add new message\n",
    "agent_messages.append(HumanMessage(content=\"sender: 962778435754\\n\\nmessage: What was my last question?\"))\n",
    "\n",
    "print(\"Messages sent to agent:\")\n",
    "for msg in agent_messages:\n",
    "    role = \"User\" if isinstance(msg, HumanMessage) else \"Assistant\"\n",
    "    print(f\"  [{role}]: {msg.content}\")\n",
    "\n",
    "# Invoke agent\n",
    "result = agent_app.invoke({\n",
    "    \"messages\": agent_messages,\n",
    "    \"sender_phone\": \"962778435754\",\n",
    "    \"sender_identifier\": test_session\n",
    "})\n",
    "\n",
    "# Get response\n",
    "for msg in reversed(result[\"messages\"]):\n",
    "    if isinstance(msg, AIMessage) and msg.content:\n",
    "        print(f\"\\n🤖 Agent Response:\\n{msg.content}\")\n",
    "        break\n",
    "\n",
    "print(\"\\n✅ Agent successfully used conversation history!\")"
   ]
  },
  {
   "cell_type": "markdown",
   "metadata": {},
   "source": [
    "## 7. Test Conversation Memory\n",
    "\n",
    "Memory allows the agent to remember previous interactions with users"
   ]
  },
  {
   "cell_type": "code",
   "execution_count": null,
   "metadata": {},
   "outputs": [],
   "source": []
  },
  {
   "cell_type": "code",
   "execution_count": null,
   "metadata": {},
   "outputs": [],
   "source": []
  }
 ],
 "metadata": {
  "kernelspec": {
   "display_name": "Python 3",
   "language": "python",
   "name": "python3"
  },
  "language_info": {
   "codemirror_mode": {
    "name": "ipython",
    "version": 3
   },
   "file_extension": ".py",
   "mimetype": "text/x-python",
   "name": "python",
   "nbconvert_exporter": "python",
   "pygments_lexer": "ipython3",
   "version": "3.10.8"
  }
 },
 "nbformat": 4,
 "nbformat_minor": 4
}